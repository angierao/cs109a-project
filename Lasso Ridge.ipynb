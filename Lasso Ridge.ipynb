{
 "cells": [
  {
   "cell_type": "code",
   "execution_count": 1,
   "metadata": {
    "collapsed": false
   },
   "outputs": [],
   "source": [
    "import numpy as np\n",
    "import matplotlib \n",
    "import matplotlib.pyplot as plt\n",
    "from mpl_toolkits.mplot3d import Axes3D\n",
    "import matplotlib.cm as cmx\n",
    "import matplotlib.colors as colors\n",
    "import pandas as pd\n",
    "%matplotlib inline"
   ]
  },
  {
   "cell_type": "code",
   "execution_count": 2,
   "metadata": {
    "collapsed": false
   },
   "outputs": [],
   "source": [
    "# Read in predictors\n",
    "x_df = pd.read_csv('datasets/predictors_filled.csv')\n",
    "\n",
    "# read in disease rates\n",
    "diabetes_df = pd.read_csv('datasets/diabetes_df.csv',index_col = 0)\n",
    "cardio_df = pd.read_csv('datasets/cardio_df.csv',index_col = 0)\n",
    "cancer_df= pd.read_csv('datasets/cancer_df.csv',index_col = 0)"
   ]
  },
  {
   "cell_type": "code",
   "execution_count": 17,
   "metadata": {
    "collapsed": false
   },
   "outputs": [
    {
     "name": "stdout",
     "output_type": "stream",
     "text": [
      "0.795989014205\n",
      "0.595066579537\n"
     ]
    },
    {
     "name": "stderr",
     "output_type": "stream",
     "text": [
      "/Users/Susan/anaconda/lib/python2.7/site-packages/sklearn/linear_model/coordinate_descent.py:1051: DataConversionWarning: A column-vector y was passed when a 1d array was expected. Please change the shape of y to (n_samples, ), for example using ravel().\n",
      "  y = column_or_1d(y, warn=True)\n"
     ]
    }
   ],
   "source": [
    "from sklearn.linear_model import Lasso\n",
    "from sklearn.linear_model import LassoCV\n",
    "cancer_lasso_reg = Lasso(alpha = .01, normalize=True)\n",
    "cancer_lasso_reg.fit(x_df, cancer_df)\n",
    "print cancer_lasso_reg.score(x_df, cancer_df)\n",
    "\n",
    "cancer_lassoCV_reg = LassoCV(alphas = [.01, .1], normalize=True)\n",
    "cancer_lassoCV_reg.fit(x_df, cancer_df.values.ravel())\n",
    "print cancer_lassoCV_reg.score(x_df, cancer_df)"
   ]
  },
  {
   "cell_type": "code",
   "execution_count": 16,
   "metadata": {
    "collapsed": false
   },
   "outputs": [
    {
     "data": {
      "text/plain": [
       "0.8042871716620823"
      ]
     },
     "execution_count": 16,
     "metadata": {},
     "output_type": "execute_result"
    }
   ],
   "source": [
    "from sklearn.linear_model import Ridge\n",
    "cancer_ridge = Ridge(alpha = .01, normalize=True)\n",
    "cancer_ridge.fit(x_df, cancer_df)\n",
    "cancer_ridge.score(x_df, cancer_df)"
   ]
  },
  {
   "cell_type": "markdown",
   "metadata": {},
   "source": [
    "# Cardio"
   ]
  },
  {
   "cell_type": "code",
   "execution_count": 22,
   "metadata": {
    "collapsed": false
   },
   "outputs": [
    {
     "name": "stdout",
     "output_type": "stream",
     "text": [
      "0.84267925017\n",
      "-2.27041197963\n"
     ]
    }
   ],
   "source": [
    "cardio_reg = Lasso(alpha=.01, normalize=True)\n",
    "cardio_reg.fit(x_df, cardio_df)\n",
    "print cardio_reg.score(x_df, cardio_df)\n",
    "\n",
    "cardio_lassoCV_reg = LassoCV(alphas = [.001, .01, .1, 1], normalize=True)\n",
    "cardio_lassoCV_reg.fit(x_df, cardio_df.values.ravel())\n",
    "print cancer_lassoCV_reg.score(x_df, cardio_df)"
   ]
  },
  {
   "cell_type": "markdown",
   "metadata": {},
   "source": [
    "# Diabetes"
   ]
  },
  {
   "cell_type": "code",
   "execution_count": 23,
   "metadata": {
    "collapsed": false
   },
   "outputs": [
    {
     "name": "stdout",
     "output_type": "stream",
     "text": [
      "0.823730474505\n",
      "0.0\n"
     ]
    }
   ],
   "source": [
    "diabetes_reg = Lasso(alpha=.001, normalize=True)\n",
    "diabetes_reg.fit(x_df, diabetes_df)\n",
    "print diabetes_reg.score(x_df, diabetes_df)\n",
    "\n",
    "diabetes_lassoCV_reg = LassoCV(alphas = [.001, .01, .1, 1], normalize=True)\n",
    "diabetes_lassoCV_reg.fit(x_df, diabetes_df.values.ravel())\n",
    "print diabetes_lassoCV_reg.score(x_df, diabetes_df)"
   ]
  },
  {
   "cell_type": "code",
   "execution_count": 30,
   "metadata": {
    "collapsed": false
   },
   "outputs": [],
   "source": [
    "def k_fold_r_squared(x_train, y_train, num_folds, param_val):\n",
    "    n_train = x_train.shape[0]\n",
    "    n = int(np.round(n_train * 1. / num_folds)) # points per fold\n",
    "\n",
    "    # Iterate over folds\n",
    "    cv_r_squared = 0\n",
    "    \n",
    "    for fold in range(1, num_folds + 1):\n",
    "        # Take k-1 folds for training \n",
    "        x_first_half = x_train.iloc[:n * (fold - 1), :]\n",
    "        x_second_half = x_train.iloc[n * fold + 1:, :]\n",
    "        x_train_cv = np.concatenate((x_first_half, x_second_half), axis=0)\n",
    "        \n",
    "        y_first_half = y_train.iloc[:n * (fold - 1)]\n",
    "        y_second_half = y_train.iloc[n * fold + 1:]\n",
    "        y_train_cv = np.concatenate((y_first_half, y_second_half), axis=0)\n",
    "        \n",
    "        # Take the middle fold for testing\n",
    "        x_test_cv = x_train.iloc[1 + n * (fold - 1):n * fold, :]\n",
    "        y_test_cv = y_train.iloc[1 + n * (fold - 1):n * fold]\n",
    "\n",
    "        # Fit Decision Tree model with parameter value on CV train set, and evaluate CV test performance\n",
    "        reg = DecisionTreeRegressor(max_depth=param_val)\n",
    "        reg.fit(x_train_cv, y_train_cv)\n",
    "        r_squared = reg.score(x_test_cv, y_test_cv)\n",
    "    \n",
    "        # Cummulative R^2 value across folds\n",
    "        cv_r_squared += r_squared\n",
    "\n",
    "    # Return average R^2 value across folds\n",
    "    return cv_r_squared * 1.0 / num_folds"
   ]
  },
  {
   "cell_type": "code",
   "execution_count": null,
   "metadata": {
    "collapsed": true
   },
   "outputs": [],
   "source": []
  },
  {
   "cell_type": "code",
   "execution_count": 64,
   "metadata": {
    "collapsed": false
   },
   "outputs": [
    {
     "name": "stdout",
     "output_type": "stream",
     "text": [
      "2 0.481615672246\n",
      "3 0.680470026388\n",
      "4 0.791007766296\n",
      "5 0.872312891098\n",
      "6 0.918227247708\n",
      "7 0.950040031391\n",
      "8 0.976641337886\n",
      "9 0.993858789579\n",
      "10 0.999167360437\n",
      "20 1.0\n",
      "50 1.0\n",
      "70 1.0\n",
      "100 1.0\n"
     ]
    }
   ],
   "source": [
    "# Fit regression model\n",
    "for depth in [2, 3, 4, 5, 6, 7, 8, 9, 10, 20, 50, 70, 100]:\n",
    "    reg = DecisionTreeRegressor(max_depth=depth)\n",
    "    reg.fit(x_df, cancer_df)\n",
    "    print depth, reg.score(x_df, cancer_df)"
   ]
  },
  {
   "cell_type": "code",
   "execution_count": 79,
   "metadata": {
    "collapsed": false
   },
   "outputs": [
    {
     "name": "stdout",
     "output_type": "stream",
     "text": [
      "2 0.612719201546\n",
      "3 0.754302949283\n",
      "4 0.871314547554\n",
      "5 0.940479469018\n",
      "6 0.974736803109\n",
      "7 0.991617733605\n",
      "8 0.996587978435\n",
      "9 0.999219309243\n",
      "10 0.999922435105\n",
      "20 1.0\n",
      "50 1.0\n",
      "70 1.0\n",
      "100 1.0\n"
     ]
    }
   ],
   "source": [
    "# Fit regression model\n",
    "for depth in [2, 3, 4, 5, 6, 7, 8, 9, 10, 20, 50, 70, 100]:\n",
    "    reg = DecisionTreeRegressor(max_depth=depth)\n",
    "    reg.fit(x_df, cardio_df)\n",
    "    print depth, reg.score(x_df, cardio_df)"
   ]
  },
  {
   "cell_type": "code",
   "execution_count": null,
   "metadata": {
    "collapsed": true
   },
   "outputs": [],
   "source": []
  },
  {
   "cell_type": "code",
   "execution_count": 78,
   "metadata": {
    "collapsed": false
   },
   "outputs": [
    {
     "name": "stdout",
     "output_type": "stream",
     "text": [
      "0.157263311113\n",
      "0.0383906647747\n",
      "-0.00942628271465\n",
      "-0.0593289349265\n",
      "-0.120257271122\n",
      "-0.22705646368\n",
      "-0.243135582395\n",
      "-0.351739864219\n",
      "-0.282642169159\n",
      "-0.431793222486\n",
      "-0.301257613118\n",
      "-0.376315252601\n",
      "-0.260990194789\n"
     ]
    }
   ],
   "source": [
    "for depth in [2, 3, 4, 5, 6, 7, 8, 9, 10, 20, 50, 70, 100]:\n",
    "    print k_fold_r_squared(x_df,diabetes_df,5, depth)"
   ]
  },
  {
   "cell_type": "code",
   "execution_count": 76,
   "metadata": {
    "collapsed": false
   },
   "outputs": [
    {
     "name": "stdout",
     "output_type": "stream",
     "text": [
      "0.440138259697\n",
      "0.359546067951\n",
      "0.225728534916\n",
      "0.209421753441\n",
      "0.21547475311\n",
      "0.125252554511\n",
      "0.235609167634\n",
      "0.155499474202\n",
      "0.206330964753\n",
      "0.199925247645\n",
      "0.216549801835\n",
      "0.320208989783\n",
      "0.160655097579\n"
     ]
    }
   ],
   "source": [
    "for depth in [2, 3, 4, 5, 6, 7, 8, 9, 10, 20, 50, 70, 100]:\n",
    "    print k_fold_r_squared(x_df,cardio_df,5, depth)"
   ]
  },
  {
   "cell_type": "code",
   "execution_count": 77,
   "metadata": {
    "collapsed": false
   },
   "outputs": [
    {
     "name": "stdout",
     "output_type": "stream",
     "text": [
      "-0.110776258483\n",
      "-0.385507423298\n",
      "-0.314279272363\n",
      "-0.738707373085\n",
      "-0.717019374631\n",
      "-0.893857314375\n",
      "-0.617305657296\n",
      "-0.830736099529\n",
      "-0.44166106094\n",
      "-0.753511958835\n",
      "-0.378120502515\n",
      "-0.820893373863\n",
      "-0.481570507449\n"
     ]
    }
   ],
   "source": [
    "for depth in [2, 3, 4, 5, 6, 7, 8, 9, 10, 20, 50, 70, 100]:\n",
    "    print k_fold_r_squared(x_df,cancer_df,5, depth)"
   ]
  },
  {
   "cell_type": "code",
   "execution_count": 67,
   "metadata": {
    "collapsed": false
   },
   "outputs": [],
   "source": [
    "gridsearch = GridSearchCV(DecisionTreeRegressor(), {'max_depth': [2, 3, 4, 5, 6, 7, 8, 9, 10, 20, 50, 70]})"
   ]
  },
  {
   "cell_type": "code",
   "execution_count": 69,
   "metadata": {
    "collapsed": false
   },
   "outputs": [
    {
     "data": {
      "text/plain": [
       "GridSearchCV(cv=None, error_score='raise',\n",
       "       estimator=DecisionTreeRegressor(criterion='mse', max_depth=None, max_features=None,\n",
       "           max_leaf_nodes=None, min_samples_leaf=1, min_samples_split=2,\n",
       "           min_weight_fraction_leaf=0.0, presort=False, random_state=None,\n",
       "           splitter='best'),\n",
       "       fit_params={}, iid=True, n_jobs=1,\n",
       "       param_grid={'max_depth': [2, 3, 4, 5, 6, 7, 8, 9, 10, 20, 50, 70]},\n",
       "       pre_dispatch='2*n_jobs', refit=True, scoring=None, verbose=0)"
      ]
     },
     "execution_count": 69,
     "metadata": {},
     "output_type": "execute_result"
    }
   ],
   "source": [
    "gridsearch.fit(x_df, cancer_df)"
   ]
  },
  {
   "cell_type": "code",
   "execution_count": 70,
   "metadata": {
    "collapsed": false
   },
   "outputs": [
    {
     "data": {
      "text/plain": [
       "{'max_depth': 2}"
      ]
     },
     "execution_count": 70,
     "metadata": {},
     "output_type": "execute_result"
    }
   ],
   "source": [
    "gridsearch.best_params_"
   ]
  },
  {
   "cell_type": "code",
   "execution_count": 71,
   "metadata": {
    "collapsed": false
   },
   "outputs": [
    {
     "data": {
      "text/plain": [
       "-0.050020039633497548"
      ]
     },
     "execution_count": 71,
     "metadata": {},
     "output_type": "execute_result"
    }
   ],
   "source": [
    "gridsearch.best_score_"
   ]
  },
  {
   "cell_type": "code",
   "execution_count": null,
   "metadata": {
    "collapsed": true
   },
   "outputs": [],
   "source": []
  }
 ],
 "metadata": {
  "anaconda-cloud": {},
  "kernelspec": {
   "display_name": "Python [Root]",
   "language": "python",
   "name": "Python [Root]"
  },
  "language_info": {
   "codemirror_mode": {
    "name": "ipython",
    "version": 2
   },
   "file_extension": ".py",
   "mimetype": "text/x-python",
   "name": "python",
   "nbconvert_exporter": "python",
   "pygments_lexer": "ipython2",
   "version": "2.7.12"
  }
 },
 "nbformat": 4,
 "nbformat_minor": 0
}
