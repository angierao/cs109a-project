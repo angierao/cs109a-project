{
 "cells": [
  {
   "cell_type": "code",
   "execution_count": 63,
   "metadata": {
    "collapsed": true
   },
   "outputs": [],
   "source": [
    "import numpy as np\n",
    "import matplotlib \n",
    "import matplotlib.pyplot as plt\n",
    "from mpl_toolkits.mplot3d import Axes3D\n",
    "import matplotlib.cm as cmx\n",
    "import matplotlib.colors as colors\n",
    "import pandas as pd\n",
    "import math\n",
    "from sklearn.linear_model import Lasso as Lasso_Reg\n",
    "from sklearn import linear_model\n",
    "from sklearn.feature_extraction.text import CountVectorizer\n",
    "from sklearn.neighbors import KNeighborsClassifier as KNN\n",
    "from sklearn.cross_validation import KFold\n",
    "from sklearn.cross_validation import cross_val_score as val_score\n",
    "from sklearn.linear_model import LinearRegression as LinReg\n",
    "from sklearn.linear_model import LogisticRegression as LogReg\n",
    "from sklearn.decomposition import PCA\n",
    "from sklearn.cross_validation import train_test_split as sk_split\n",
    "import statsmodels.api as sm\n",
    "import pycountry\n",
    "import matplotlib.pyplot as plt\n",
    "import matplotlib as mpl\n",
    "import cartopy\n",
    "import cartopy.io.shapereader as shpreader\n",
    "import cartopy.crs as ccrs\n",
    "import os\n",
    "import glob\n",
    "\n",
    "%matplotlib inline"
   ]
  },
  {
   "cell_type": "code",
   "execution_count": 64,
   "metadata": {
    "collapsed": false
   },
   "outputs": [],
   "source": [
    "def parse_country(dataset): \n",
    "    country_full = pd.read_csv(str(dataset))\n",
    "    country_array = np.unique(country_full[\"Country\"])\n",
    "    return country_array"
   ]
  },
  {
   "cell_type": "code",
   "execution_count": 65,
   "metadata": {
    "collapsed": false
   },
   "outputs": [
    {
     "name": "stdout",
     "output_type": "stream",
     "text": [
      "{'Australia & New Zealand': ['Australia', 'New Zealand']}\n",
      "{'Caribbean': ['Antigua and Barbuda', 'Bahamas', 'Barbados', 'Cuba', 'Dominica', 'Dominican Republic', 'Grenada', 'Haiti', 'Jamaica', 'Netherlands Antilles (former)', 'Saint Kitts and Nevis', 'Saint Lucia', 'Saint Vincent and the Grenadines', 'Trinidad and Tobago']}\n",
      "{'Central America': ['Belize', 'Costa Rica', 'El Salvador', 'Guatemala', 'Honduras', 'Mexico', 'Nicaragua', 'Panama']}\n",
      "{'Central Asia': ['Kazakhstan', 'Kyrgyzstan', 'Tajikistan', 'Turkmenistan', 'Uzbekistan']}\n",
      "{'Eastern Africa': ['Djibouti', 'Ethiopia', 'Kenya', 'Madagascar', 'Malawi', 'Mauritius', 'Mozambique', 'Rwanda', 'Uganda', 'United Republic of Tanzania', 'Zambia', 'Zimbabwe']}\n",
      "{'Eastern Asia': ['China, Hong Kong SAR', 'China, Macao SAR', 'China, Taiwan Province of', 'China, mainland', \"Democratic People's Republic of Korea\", 'Japan', 'Mongolia', 'Republic of Korea']}\n",
      "{'Eastern Europe': ['Belarus', 'Bulgaria', 'Czechia', 'Hungary', 'Poland', 'Republic of Moldova', 'Romania', 'Russian Federation', 'Slovakia', 'Ukraine']}\n",
      "{'Melanesia': ['Fiji', 'New Caledonia', 'Solomon Islands', 'Vanuatu']}\n",
      "{'Micronesia': ['Kiribati']}\n",
      "{'Middle Africa': ['Angola', 'Cameroon', 'Central African Republic', 'Chad', 'Congo', 'Gabon', 'Sao Tome and Principe']}\n",
      "{'Northern Africa': ['Algeria', 'Egypt', 'Morocco', 'Sudan (former)', 'Tunisia']}\n",
      "{'Northern America': ['Bermuda', 'Canada', 'United States of America']}\n",
      "{'Northern Europe': ['Denmark', 'Estonia', 'Finland', 'Iceland', 'Ireland', 'Latvia', 'Lithuania', 'Norway', 'Sweden', 'United Kingdom']}\n",
      "{'Polynesia': ['French Polynesia', 'Samoa']}\n",
      "{'South America': ['Argentina', 'Bolivia (Plurinational State of)', 'Brazil', 'Chile', 'Colombia', 'Ecuador', 'Guyana', 'Paraguay', 'Peru', 'Suriname', 'Uruguay', 'Venezuela (Bolivarian Republic of)']}\n",
      "{'South-Eastern Asia': ['Brunei Darussalam', 'Cambodia', 'Indonesia', \"Lao People's Democratic Republic\", 'Malaysia', 'Myanmar', 'Philippines', 'Thailand', 'Timor-Leste', 'Viet Nam']}\n",
      "{'Southern Africa': ['Botswana', 'Lesotho', 'Namibia', 'South Africa', 'Swaziland']}\n",
      "{'Southern Asia': ['Afghanistan', 'Bangladesh', 'India', 'Iran (Islamic Republic of)', 'Maldives', 'Nepal', 'Pakistan', 'Sri Lanka']}\n",
      "{'Southern Europe': ['Albania', 'Bosnia and Herzegovina', 'Croatia', 'Greece', 'Italy', 'Malta', 'Portugal', 'Serbia and Montenegro', 'Slovenia', 'Spain', 'The former Yugoslav Republic of Macedonia']}\n",
      "{'Western Africa': ['Benin', 'Burkina Faso', 'Cabo Verde', \"C\\xc3\\xb4te d'Ivoire\", 'Gambia', 'Ghana', 'Guinea', 'Guinea-Bissau', 'Liberia', 'Mali', 'Mauritania', 'Niger', 'Nigeria', 'Senegal', 'Sierra Leone', 'Togo']}\n",
      "{'Western Asia': ['Armenia', 'Azerbaijan', 'Cyprus', 'Georgia', 'Iraq', 'Israel', 'Jordan', 'Kuwait', 'Lebanon', 'Oman', 'Saudi Arabia', 'Turkey', 'United Arab Emirates', 'Yemen']}\n",
      "{'Western Europe': ['Austria', 'Belgium', 'France', 'Germany', 'Luxembourg', 'Netherlands', 'Switzerland']}\n"
     ]
    }
   ],
   "source": [
    "path = 'datasets/countries/' \n",
    "allFiles = glob.glob(path + \"/*.csv\")\n",
    "for file in allFiles:\n",
    "    area_name = file.split('/')[2].split('.')[0]\n",
    "    country_list = parse_country(file)\n",
    "    country_dictionary = {}\n",
    "    country_dictionary[area_name] = []\n",
    "    for country in country_list:\n",
    "        country_dictionary[area_name].append(country)\n",
    "    print country_dictionary"
   ]
  },
  {
   "cell_type": "code",
   "execution_count": null,
   "metadata": {
    "collapsed": true
   },
   "outputs": [],
   "source": []
  }
 ],
 "metadata": {
  "anaconda-cloud": {},
  "kernelspec": {
   "display_name": "Python [Root]",
   "language": "python",
   "name": "Python [Root]"
  },
  "language_info": {
   "codemirror_mode": {
    "name": "ipython",
    "version": 2
   },
   "file_extension": ".py",
   "mimetype": "text/x-python",
   "name": "python",
   "nbconvert_exporter": "python",
   "pygments_lexer": "ipython2",
   "version": "2.7.12"
  }
 },
 "nbformat": 4,
 "nbformat_minor": 0
}
