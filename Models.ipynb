{
 "cells": [
  {
   "cell_type": "code",
   "execution_count": 155,
   "metadata": {
    "collapsed": false
   },
   "outputs": [
    {
     "data": {
      "text/html": [
       "<script>\n",
       "code_show=true;\n",
       "function code_toggle() {\n",
       " if (code_show){\n",
       " $('div.input').hide();\n",
       " } else {\n",
       " $('div.input').show();\n",
       " }\n",
       " code_show = !code_show\n",
       "}\n",
       "$( document ).ready(code_toggle);\n",
       "</script>\n",
       "<form action=\"javascript:code_toggle()\"><input type=\"submit\" value=\"Click here to toggle on/off the raw code.\"></form>"
      ],
      "text/plain": [
       "<IPython.core.display.HTML object>"
      ]
     },
     "execution_count": 155,
     "metadata": {},
     "output_type": "execute_result"
    }
   ],
   "source": [
    "from IPython.display import HTML\n",
    "\n",
    "HTML('''<script>\n",
    "code_show=true;\n",
    "function code_toggle() {\n",
    " if (code_show){\n",
    " $('div.input').hide();\n",
    " } else {\n",
    " $('div.input').show();\n",
    " }\n",
    " code_show = !code_show\n",
    "}\n",
    "$( document ).ready(code_toggle);\n",
    "</script>\n",
    "<form action=\"javascript:code_toggle()\"><input type=\"submit\" value=\"Click here to toggle on/off the raw code.\"></form>''')"
   ]
  },
  {
   "cell_type": "markdown",
   "metadata": {
    "collapsed": true
   },
   "source": [
    "--- \n",
    "# Model Fitting and Techniques \n",
    "***\n",
    "\n",
    "The overall goal of this section is to try various techniques to fit a model for mortality rate using food consumption data.  First, we will find a null model, representing the 'average' input and representing a baseline estimation that we will then improve upon. Then we will fit a multilinear regression to all of the predictors (all livestock and all crop predictors), and find a cross-validated $R^2$ for this naive model. Next, we will try more advanced techniques such as Lasso, Ridge, Step-wise, and Regression Trees to improve this model. \n",
    "\n",
    "To summarize, our null model achieved a cross-validated $R^2$ score of 0 for all three diseases. Our naive model achieved a cross-validated score of $ $ for diabetes, $ $ for cancer, and $ $ for cardiovascular diseases."
   ]
  },
  {
   "cell_type": "markdown",
   "metadata": {},
   "source": [
    "## Null Model\n",
    "\n",
    "Before fitting the linear regression, we will find a simple null model for global food consumption data. To calculate the null model, we found the average of each predictor column in the Dataframe. This gives us a 'global average' of consumption of each predictor. We can then use the null model to establish a baseline $R^2$ that we will then improve upon using our linear regression models."
   ]
  },
  {
   "cell_type": "code",
   "execution_count": 101,
   "metadata": {
    "collapsed": false
   },
   "outputs": [],
   "source": [
    "import numpy as np\n",
    "import matplotlib \n",
    "import matplotlib.pyplot as plt\n",
    "from mpl_toolkits.mplot3d import Axes3D\n",
    "import matplotlib.cm as cmx\n",
    "import matplotlib.colors as colors\n",
    "import pandas as pd\n",
    "import math\n",
    "from sklearn.cross_validation import cross_val_score, LeaveOneOut\n",
    "from sklearn.cross_validation import KFold\n",
    "from sklearn.linear_model import LinearRegression as LinReg\n",
    "from sklearn.cross_validation import train_test_split as sk_split\n",
    "import statsmodels.api as sm\n",
    "\n",
    "%matplotlib inline"
   ]
  },
  {
   "cell_type": "code",
   "execution_count": 2,
   "metadata": {
    "collapsed": false
   },
   "outputs": [],
   "source": [
    "# Read in initial dataframe\n",
    "x_df = pd.read_csv('predictors_filled_156.csv')\n",
    "\n",
    "# read in disease rates\n",
    "diabetes_df = pd.read_csv('diabetes_156.csv',index_col = 0)\n",
    "cardio_df = pd.read_csv('cardio_156.csv',index_col = 0)\n",
    "cancer_df= pd.read_csv('cancer_156.csv',index_col = 0)"
   ]
  },
  {
   "cell_type": "markdown",
   "metadata": {},
   "source": [
    "### Null Model testing:\n",
    "\n",
    "As expected, testing the null model on various training set give us a cross-validated $R^2$ of approximately zero for all three diseases. \n",
    "\n",
    "#### Cancer: \n",
    "The null model for cancer will always predict the mean cancer mortality rate. Testing on cancer, we get an $R^2$ of 3.33 E -16, which is ~ 0:"
   ]
  },
  {
   "cell_type": "code",
   "execution_count": 3,
   "metadata": {
    "collapsed": false
   },
   "outputs": [
    {
     "data": {
      "text/plain": [
       "LinearRegression(copy_X=True, fit_intercept=True, n_jobs=1, normalize=False)"
      ]
     },
     "execution_count": 3,
     "metadata": {},
     "output_type": "execute_result"
    }
   ],
   "source": [
    "# Null Model Cancer\n",
    "null_model = LinReg()\n",
    "null_model.fit(x_df, [np.mean(cancer_df['Cancer Mortality Rate'])]*x_df.shape[0])"
   ]
  },
  {
   "cell_type": "code",
   "execution_count": 4,
   "metadata": {
    "collapsed": false
   },
   "outputs": [
    {
     "data": {
      "text/plain": [
       "0.0"
      ]
     },
     "execution_count": 4,
     "metadata": {},
     "output_type": "execute_result"
    }
   ],
   "source": [
    "# Test Cancer.\n",
    "null_model.score(x_df, cancer_df)"
   ]
  },
  {
   "cell_type": "markdown",
   "metadata": {},
   "source": [
    "#### Diabetes\n",
    "Testing on diabetes, we also get an $R^2$ of 0."
   ]
  },
  {
   "cell_type": "code",
   "execution_count": 5,
   "metadata": {
    "collapsed": false
   },
   "outputs": [
    {
     "data": {
      "text/plain": [
       "LinearRegression(copy_X=True, fit_intercept=True, n_jobs=1, normalize=False)"
      ]
     },
     "execution_count": 5,
     "metadata": {},
     "output_type": "execute_result"
    }
   ],
   "source": [
    "# Fit Diabetes Null Model\n",
    "null_model = LinReg()\n",
    "null_model.fit(x_df, [np.mean(diabetes_df['Diabetes Mortality Rate'])]*x_df.shape[0])"
   ]
  },
  {
   "cell_type": "code",
   "execution_count": 6,
   "metadata": {
    "collapsed": false
   },
   "outputs": [
    {
     "data": {
      "text/plain": [
       "0.0"
      ]
     },
     "execution_count": 6,
     "metadata": {},
     "output_type": "execute_result"
    }
   ],
   "source": [
    "# Test Diabetes.\n",
    "null_model.score(x_df, diabetes_df)"
   ]
  },
  {
   "cell_type": "markdown",
   "metadata": {},
   "source": [
    "#### Test Cardiovascular Diseases"
   ]
  },
  {
   "cell_type": "code",
   "execution_count": 7,
   "metadata": {
    "collapsed": false
   },
   "outputs": [
    {
     "data": {
      "text/plain": [
       "LinearRegression(copy_X=True, fit_intercept=True, n_jobs=1, normalize=False)"
      ]
     },
     "execution_count": 7,
     "metadata": {},
     "output_type": "execute_result"
    }
   ],
   "source": [
    "# Test cardiovascular diseases\n",
    "null_model = LinReg()\n",
    "null_model.fit(x_df, [np.mean(cardio_df['Cardio Mortality Rate'])]*x_df.shape[0])"
   ]
  },
  {
   "cell_type": "code",
   "execution_count": 8,
   "metadata": {
    "collapsed": false
   },
   "outputs": [
    {
     "data": {
      "text/plain": [
       "0.0"
      ]
     },
     "execution_count": 8,
     "metadata": {},
     "output_type": "execute_result"
    }
   ],
   "source": [
    "# Test cardiovascular diseases.\n",
    "null_model.score(x_df, cardio_df)"
   ]
  },
  {
   "cell_type": "markdown",
   "metadata": {},
   "source": [
    "# Simple LinReg\n",
    "\n",
    "## Cancer LinReg\n",
    "\n",
    "Now, we will fit a simple multi-linear regression to all of the food consumption inputs for each of the diseases. First, for cancer, our regression has an initial $R^2$ on the training set of .85, and a cross-validated $R^2$ of -16.5 for $k = 5$ folds. "
   ]
  },
  {
   "cell_type": "code",
   "execution_count": 9,
   "metadata": {
    "collapsed": false
   },
   "outputs": [
    {
     "name": "stdout",
     "output_type": "stream",
     "text": [
      "Training r^2: 0.842393103733\n"
     ]
    }
   ],
   "source": [
    "linreg = LinReg()\n",
    "linreg.fit(x_df, cancer_df)\n",
    "print \"Training r^2:\",linreg.score(x_df, cancer_df)"
   ]
  },
  {
   "cell_type": "code",
   "execution_count": 10,
   "metadata": {
    "collapsed": false
   },
   "outputs": [
    {
     "data": {
      "text/plain": [
       "-30.410282842295079"
      ]
     },
     "execution_count": 10,
     "metadata": {},
     "output_type": "execute_result"
    }
   ],
   "source": [
    "# Cross validated R-squared score\n",
    "np.mean(cross_val_score(LinReg(), x_df,cancer_df, cv = KFold(151, 5), scoring = \"r2\"))"
   ]
  },
  {
   "cell_type": "markdown",
   "metadata": {},
   "source": [
    "To further examine the accuracy of this model, the map below displays the fractional difference of the model estimates as compared to the actual cancer data on a world map. As we can see, the vast majority of countries are colored a dark blue/ purple color, indicating they have a low fractional difference. Countries colored a brighter purple/pink color indicate an overestimate, while countries colored in a brighter blues indicate an underestimate."
   ]
  },
  {
   "cell_type": "code",
   "execution_count": 11,
   "metadata": {
    "collapsed": true
   },
   "outputs": [],
   "source": [
    "# PUT GRAPH HERE"
   ]
  },
  {
   "cell_type": "markdown",
   "metadata": {
    "collapsed": true
   },
   "source": [
    "## Diabetes LinReg\n",
    "For diabetes, our regression has an initial cross-validated $R^2$ of ** PUT THE R^2 HERE**. "
   ]
  },
  {
   "cell_type": "code",
   "execution_count": 79,
   "metadata": {
    "collapsed": false
   },
   "outputs": [
    {
     "name": "stdout",
     "output_type": "stream",
     "text": [
      "Training R^2 0.807019987902\n",
      "CV R^2 score: -1.88860041785\n"
     ]
    }
   ],
   "source": [
    "linreg = LinReg()\n",
    "linreg.fit(x_df, diabetes_df)\n",
    "print \"Training R^2\", linreg.score(x_df, diabetes_df)\n",
    "\n",
    "# Cross-validated R^2 score for diabetes\n",
    "print \"CV R^2 score:\",np.mean(cross_val_score(LinReg(), x_df,diabetes_df, cv = KFold(15, shuffle = True), scoring = \"r2\"))"
   ]
  },
  {
   "cell_type": "markdown",
   "metadata": {},
   "source": [
    "Again, we can examine a world map to see the fractional differences. Again, dark blue/purple colors indicate an accurate estimate,brighter purples/pinks indicate an overestimate, and brighter blues indicate an underestimate. We note thatthis model has slightly worse performance than our cancer model, which may have to do with the fact that diabetes does not lead to death as commonly as cancer does."
   ]
  },
  {
   "cell_type": "markdown",
   "metadata": {},
   "source": [
    "## Cardiovascular Diseases LinReg\n",
    "For diabetes, our regression has an initial $R^2$ on the training set of .856, and a cross-validated $R^2$ of -6.02"
   ]
  },
  {
   "cell_type": "code",
   "execution_count": 13,
   "metadata": {
    "collapsed": false
   },
   "outputs": [
    {
     "name": "stdout",
     "output_type": "stream",
     "text": [
      "Training R^2 0.850938184461\n",
      "Cross-validated R^2 -5.2779763269\n"
     ]
    }
   ],
   "source": [
    "linreg = LinReg()\n",
    "linreg.fit(x_df, cardio_df)\n",
    "print \"Training R^2\", linreg.score(x_df, cardio_df)\n",
    "print \"Cross-validated R^2\", np.mean(cross_val_score(LinReg(), x_df,cardio_df, cv = KFold(151, 5), scoring = \"r2\"))"
   ]
  },
  {
   "cell_type": "markdown",
   "metadata": {},
   "source": [
    "Again, we can examine a world map to see the fractional differences. Dark blue/purple colors indicate an accurate estimate,brighter purples/pinks indicate an overestimate, and brighter blues indicate an underestimate. While this model appears to be fairly accurate for *THESE COUNTRIES*, it could be improved for *THESE*. This might be due to certain predictors, such as *SOME RANDOM PREDICTOR*, that is more heavily weighted for larger countries than for the country that is seeing a larger fractional difference."
   ]
  },
  {
   "cell_type": "markdown",
   "metadata": {
    "collapsed": true
   },
   "source": [
    "--- \n",
    "# Advanced Models \n",
    "***\n",
    "\n",
    "In this section, we will use various other regression techniques and variable selection techniques to attempt to improve upon our naive model. In particular, we will try \n",
    "\n",
    "1. Lasso\n",
    "2. PCA\n",
    "3. Regression Tree\n",
    "4. Step-wise Variable Selection\n",
    "\n",
    "For reference, our naive model gives us the following cross-validated $R^2$ values with $k = 5$: \n",
    "\n",
    "||Cardio | Diabetes | Cancer\n",
    "|--- | --- | --- | ---|\n",
    "|R^2 (Training)| .856 | .834 | .856|\n",
    "\n",
    "## Lasso\n",
    "\n",
    "The naive model brought up in the previous section has one major flaw: by including all of the predictors, it is very likely to be overfitted to the initial dataset. As such, we would like to reduce that overfitting by using variable selection techniques such as Lasso to reduce the number of predictors our model includes. \n",
    "Using the LassoCV package in sklearn, we obtain the following cross-validated $R^2$:\n",
    "\n",
    "| |Cardio   |  Diabetes | Cancer  |\n",
    "|-----|---|---|---|\n",
    "|$r^2$ (Lasso) |  .456 |  .31 |   .053|\n"
   ]
  },
  {
   "cell_type": "markdown",
   "metadata": {},
   "source": [
    "Below is a function we used to calculate the cross-validated r^2 for lasso over a number of folds for a certain parameter value."
   ]
  },
  {
   "cell_type": "code",
   "execution_count": 14,
   "metadata": {
    "collapsed": true
   },
   "outputs": [],
   "source": [
    "def lasso_k_fold_r_squared(x_train, y_train, num_folds, param_val):\n",
    "    n_train = x_train.shape[0]\n",
    "    n = int(np.round(n_train * 1. / num_folds)) # points per fold\n",
    "\n",
    "    # Iterate over folds\n",
    "    cv_r_squared = 0\n",
    "    \n",
    "    for fold in range(1, num_folds + 1):\n",
    "        # Take k-1 folds for training \n",
    "        x_first_half = x_train.iloc[:n * (fold - 1), :]\n",
    "        x_second_half = x_train.iloc[n * fold + 1:, :]\n",
    "        x_train_cv = np.concatenate((x_first_half, x_second_half), axis=0)\n",
    "        \n",
    "        y_first_half = y_train.iloc[:n * (fold - 1)]\n",
    "        y_second_half = y_train.iloc[n * fold + 1:]\n",
    "        y_train_cv = np.concatenate((y_first_half, y_second_half), axis=0)\n",
    "        \n",
    "        # Take the middle fold for testing\n",
    "        x_test_cv = x_train.iloc[1 + n * (fold - 1):n * fold, :]\n",
    "        y_test_cv = y_train.iloc[1 + n * (fold - 1):n * fold]\n",
    "\n",
    "        # Fit Decision Tree model with parameter value on CV train set, and evaluate CV test performance\n",
    "        reg = Lasso(alpha = param_val, normalize=True)\n",
    "        reg.fit(x_train_cv, y_train_cv)\n",
    "        coefficients = reg.coef_\n",
    "        #print len([i for i, item in enumerate(coefficients) if abs(item) >0])\n",
    "        r_squared = reg.score(x_test_cv, y_test_cv)\n",
    "    \n",
    "        # Cummulative R^2 value across folds\n",
    "        cv_r_squared += r_squared\n",
    "\n",
    "    # Return average R^2 value across folds\n",
    "    return cv_r_squared * 1.0 / num_folds"
   ]
  },
  {
   "cell_type": "markdown",
   "metadata": {},
   "source": [
    "### Cancer\n",
    "\n",
    "Running Lasso on different values of alpha yields a top cross-validated $r^2$ score of .059, for alpha = .1"
   ]
  },
  {
   "cell_type": "code",
   "execution_count": 15,
   "metadata": {
    "collapsed": false
   },
   "outputs": [
    {
     "name": "stdout",
     "output_type": "stream",
     "text": [
      "LASSO\n",
      "cancer 0.001 -10.0863952587\n",
      "cancer 0.01"
     ]
    },
    {
     "name": "stderr",
     "output_type": "stream",
     "text": [
      "/Users/Susan/anaconda/lib/python2.7/site-packages/sklearn/linear_model/coordinate_descent.py:466: ConvergenceWarning: Objective did not converge. You might want to increase the number of iterations\n",
      "  ConvergenceWarning)\n"
     ]
    },
    {
     "name": "stdout",
     "output_type": "stream",
     "text": [
      " -2.62319418962\n",
      "cancer 0.1 -0.189052791559\n",
      "cancer 0.4 0.15663394152\n",
      "cancer 0.5 0.13439828752\n",
      "cancer 0.6 0.117227909906\n",
      "cancer 1 0.0530720050382\n",
      "cancer 5 -0.0745935162681\n",
      "cancer 10 -0.0745935162681\n",
      "cancer 100 -0.0745935162681\n"
     ]
    }
   ],
   "source": [
    "from sklearn.linear_model import Lasso\n",
    "from sklearn.linear_model import LassoCV\n",
    "\n",
    "print \"LASSO\"\n",
    "for alpha in [.001, .01, .1,.4,.5,.6,1,5,10,100]:\n",
    "    print \"cancer\",alpha, lasso_k_fold_r_squared(x_df,cancer_df,5, alpha)"
   ]
  },
  {
   "cell_type": "code",
   "execution_count": null,
   "metadata": {
    "collapsed": false
   },
   "outputs": [],
   "source": [
    "# LOOCV \n",
    "\n",
    "def loocv_score(x_df,y_df):\n",
    "    LeaveOneOut\n",
    "    "
   ]
  },
  {
   "cell_type": "markdown",
   "metadata": {},
   "source": [
    "### Cardiovascular Diseases\n",
    "Running Lasso on different values of alpha yields a top cross-validated $r^2$ score of .459, for alpha = .9"
   ]
  },
  {
   "cell_type": "code",
   "execution_count": 158,
   "metadata": {
    "collapsed": false
   },
   "outputs": [
    {
     "name": "stdout",
     "output_type": "stream",
     "text": [
      " LASSO\n",
      "5 -FOLD \n",
      "\n",
      "cardio 0.1 -0.111196584756\n",
      "cardio 0.5 0.415841480013\n",
      "cardio 0.8 0.451848911048\n",
      "cardio 0.9 0.455639379888\n",
      "cardio 1 0.456181146633\n",
      "cardio 2 0.404302118408\n",
      "cardio 5 0.0132238574549\n",
      "cardio 10 -0.010213535932\n",
      "6 -FOLD \n",
      "\n",
      "cardio 0.1 0.0725073431946\n",
      "cardio 0.5 0.402144673879\n",
      "cardio 0.8 0.45531395782\n",
      "cardio 0.9 0.457284742801\n",
      "cardio 1 0.455753776186\n",
      "cardio 2 0.405437627519\n",
      "cardio 5 -0.00170633655146\n",
      "cardio 10 -0.0152504500031\n",
      "7 -FOLD \n",
      "\n",
      "cardio 0.1 0.0694475897836\n",
      "cardio 0.5 0.449822469823\n",
      "cardio 0.8 0.465917040409\n",
      "cardio 0.9 0.466196311375\n",
      "cardio 1 0.465317817456\n",
      "cardio 2 0.401359065679\n",
      "cardio 5 -0.0288567060725\n",
      "cardio 10 -0.0389712469074\n",
      "8 -FOLD \n",
      "\n",
      "cardio 0.1 -0.0913623843405\n",
      "cardio 0.5 0.424231562168\n",
      "cardio 0.8 0.454902852008\n",
      "cardio 0.9 0.458586547056\n",
      "cardio 1 0.459338572343\n",
      "cardio 2 0.388306847732\n",
      "cardio 5 -0.0402185999135\n",
      "cardio 10 -0.0459111114413\n",
      "9 -FOLD \n",
      "\n",
      "cardio 0.1 -0.111700183753\n",
      "cardio 0.5 0.344850695317\n",
      "cardio 0.8 0.411425851844\n",
      "cardio 0.9 0.415938676883\n",
      "cardio 1 0.415162674002\n",
      "cardio 2 0.345069205094\n",
      "cardio 5 -0.0910460386053\n",
      "cardio 10 -0.0918877074748\n",
      "10 -FOLD \n",
      "\n",
      "cardio 0.1 -0.188431920785\n",
      "cardio 0.5 0.308803347702\n",
      "cardio 0.8 0.393560530301\n",
      "cardio 0.9 0.407474252461\n",
      "cardio 1 0.416204018828\n",
      "cardio 2 0.355444307725\n",
      "cardio 5 -0.0597505015042\n",
      "cardio 10 -0.0615217079797\n",
      "11 -FOLD \n",
      "\n",
      "cardio 0.1 -0.0464192318696\n",
      "cardio 0.5 0.3287195597\n",
      "cardio 0.8 0.386311879552\n",
      "cardio 0.9 0.397223770885\n",
      "cardio 1 0.405665693506\n",
      "cardio 2 0.347574442334\n",
      "cardio 5 -0.0592908524902\n",
      "cardio 10 -0.0605162918973\n",
      "12 -FOLD \n",
      "\n",
      "cardio 0.1 -0.0472164272025\n",
      "cardio 0.5 0.376886169649\n",
      "cardio 0.8 0.418468793015\n",
      "cardio 0.9 0.420152630695\n",
      "cardio 1 0.418868849837\n",
      "cardio 2 0.35082069675\n",
      "cardio 5 -0.0697368255525\n",
      "cardio 10 -0.0684532516613\n",
      "13 -FOLD \n",
      "\n",
      "cardio 0.1 -0.140269977124\n",
      "cardio 0.5 0.335897613872\n",
      "cardio 0.8 0.386603275343\n",
      "cardio 0.9 0.3881555249\n",
      "cardio 1 0.387286672264\n",
      "cardio 2 0.310852287303\n",
      "cardio 5 -0.134500271663\n",
      "cardio 10 -0.132459744487\n",
      "14 -FOLD \n",
      "\n",
      "cardio 0.1 -0.0446065723915\n",
      "cardio 0.5 0.357583786325\n",
      "cardio 0.8 0.376249195298\n",
      "cardio 0.9 0.377639630583\n",
      "cardio 1 0.37719464505\n",
      "cardio 2 0.301282853029\n",
      "cardio 5 -0.168623574014\n",
      "cardio 10 -0.166880595758\n",
      "15 -FOLD \n",
      "\n",
      "cardio 0.1 0.0831832565702\n",
      "cardio 0.5 0.402937195789\n",
      "cardio 0.8 0.401404995517\n",
      "cardio 0.9 0.40283473322\n",
      "cardio 1 0.40160028528\n",
      "cardio 2 0.342409388084\n",
      "cardio 5 -0.0946521164242\n",
      "cardio 10 -0.0944619602998\n",
      "16 -FOLD \n",
      "\n",
      "cardio 0.1 -0.422058318601\n",
      "cardio 0.5 0.405132613253\n",
      "cardio 0.8 0.426953901655\n",
      "cardio 0.9 0.431434079655\n",
      "cardio 1 0.430727269246\n",
      "cardio 2 0.327544600838\n",
      "cardio 5 -0.0967837981602\n",
      "cardio 10 -0.0966055267936\n",
      "17 -FOLD \n",
      "\n",
      "cardio 0.1 -0.380456228062\n",
      "cardio 0.5 0.175801876266\n",
      "cardio 0.8 0.254014314538\n",
      "cardio 0.9 0.264730472135\n",
      "cardio 1 0.269248126587\n",
      "cardio 2 0.211187333354\n",
      "cardio 5 -0.230059015283\n",
      "cardio 10 -0.228852185182\n",
      "18 -FOLD \n",
      "\n",
      "cardio 0.1 -0.654369882538\n",
      "cardio 0.5 0.191178148265\n",
      "cardio 0.8 0.272002486012\n",
      "cardio 0.9 0.283179182598\n",
      "cardio 1 0.287291763638\n",
      "cardio 2 0.225150479024\n",
      "cardio 5 -0.219835440203\n",
      "cardio 10 -0.21869565622\n",
      "19 -FOLD \n",
      "\n",
      "cardio 0.1 -0.311003151617\n",
      "cardio 0.5 0.163775418359\n",
      "cardio 0.8 0.293203295938\n",
      "cardio 0.9 0.311669979953\n",
      "cardio 1 0.320341834797\n",
      "cardio 2 0.264701577497\n",
      "cardio 5 -0.252189914824\n",
      "cardio 10 -0.250935067739\n",
      "20 -FOLD \n",
      "\n",
      "cardio 0.1 -2.33277145431\n",
      "cardio 0.5 0.128166614954\n",
      "cardio 0.8 0.30087495815\n",
      "cardio 0.9 0.318644521093\n",
      "cardio 1 0.326153483501\n",
      "cardio 2 0.273907147165\n",
      "cardio 5 -0.239591499262\n",
      "cardio 10 -0.238399394531\n",
      "21 -FOLD \n",
      "\n",
      "cardio 0.1 -0.463526149551\n",
      "cardio 0.5 0.074182064407\n",
      "cardio 0.8 0.198298948849\n",
      "cardio 0.9 0.214690971262\n",
      "cardio 1 0.22239398814\n",
      "cardio 2 0.177013254718\n",
      "cardio 5 -0.254937944896\n",
      "cardio 10 -0.253762165729\n",
      "22 -FOLD \n",
      "\n",
      "cardio 0.1 -0.516456458015\n",
      "cardio 0.5 0.0833530939513\n",
      "cardio 0.8 0.200433965415\n",
      "cardio 0.9 0.215952781788\n",
      "cardio 1 0.222221082592\n",
      "cardio 2 0.163410740563\n",
      "cardio 5 -0.250424304317\n",
      "cardio 10 -0.249301969659\n",
      "23 -FOLD \n",
      "\n",
      "cardio 0.1 -0.494001829406\n",
      "cardio 0.5 0.0797290463882\n",
      "cardio 0.8 0.191719445179\n",
      "cardio 0.9 0.206563530406\n",
      "cardio 1 0.212559296393\n",
      "cardio 2 0.156305925756\n",
      "cardio 5 -0.239536291086\n",
      "cardio 10 -0.238462753587\n",
      "24 -FOLD \n",
      "\n",
      "cardio 0.1 -0.996635751959\n",
      "cardio 0.5 -0.0822905492342\n",
      "cardio 0.8 0.063054111252\n",
      "cardio 0.9 0.0894614430923\n",
      "cardio 1 0.109064050548\n",
      "cardio 2 0.0785305966173\n",
      "cardio 5 -0.71067880325\n",
      "cardio 10 -0.710169600034\n",
      "25 -FOLD \n",
      "\n",
      "cardio 0.1 -0.93597764681\n",
      "cardio 0.5 -0.067844791203\n",
      "cardio 0.8 0.0691009490614\n",
      "cardio 0.9 0.0948880955251\n",
      "cardio 1 0.114060845968\n",
      "cardio 2 0.0864965785738\n",
      "cardio 5 -0.684772019449\n",
      "cardio 10 -0.684283184361\n",
      "26 -FOLD \n",
      "\n",
      "cardio 0.1 -1.20769704294\n",
      "cardio 0.5 -0.0483867655712\n",
      "cardio 0.8 0.0976042777026\n",
      "cardio 0.9 0.124331794781\n",
      "cardio 1 0.143044352998\n",
      "cardio 2 0.0871918175572\n",
      "cardio 5 -0.663386904247\n",
      "cardio 10 -0.662916870509\n",
      "29 -FOLD \n",
      "\n",
      "cardio 0.1 -0.830912183408\n",
      "cardio 0.5 -0.112511816258\n",
      "cardio 0.8 -0.0442868725166\n",
      "cardio 0.9 -0.0317821181102\n",
      "cardio 1 -0.021456782787\n",
      "cardio 2 -0.108198209663\n",
      "cardio 5 -0.867796920434\n",
      "cardio 10 -0.867796920434\n",
      "30 -FOLD \n",
      "\n",
      "cardio 0.1 -0.785818132714\n",
      "cardio 0.5 -0.0985682293143\n",
      "cardio 0.8 -0.0355204508808\n",
      "cardio 0.9 -0.0231637527276\n",
      "cardio 1 -0.0129312892068\n",
      "cardio 2 -0.0954979778243\n",
      "cardio 5 -0.84071302104\n",
      "cardio 10 -0.84071302104\n",
      "31 -FOLD \n",
      "\n",
      "cardio 0.1 -1.03632725327\n",
      "cardio 0.5 -0.0823972211956\n",
      "cardio 0.8 -0.0080178687837\n",
      "cardio 0.9 0.00613212621124\n",
      "cardio 1 0.0164184869856\n",
      "cardio 2 -0.0886623572413\n",
      "cardio 5 -0.815123839948\n",
      "cardio 10 -0.815123839948\n"
     ]
    }
   ],
   "source": [
    "print \"LASSO\"\n",
    "for folds in range(5, 32):\n",
    "    if folds == 27 or folds == 28:\n",
    "        continue\n",
    "    print folds,\"-FOLD \\n\"\n",
    "    for alph in [.1, .5,.8, .9, 1, 2,5, 10]:\n",
    "        print \"cardio\",alph, lasso_k_fold_r_squared(x_df,cardio_df,folds, alph)"
   ]
  },
  {
   "cell_type": "code",
   "execution_count": 159,
   "metadata": {
    "collapsed": false
   },
   "outputs": [
    {
     "name": "stdout",
     "output_type": "stream",
     "text": [
      "-15291.791902\n"
     ]
    }
   ],
   "source": [
    "print np.mean(cross_val_score(Lasso(alpha = 1), x_df, cardifo_df, cv = LeaveOneOut(156), scoring = 'mean_squared_error'))"
   ]
  },
  {
   "cell_type": "code",
   "execution_count": 17,
   "metadata": {
    "collapsed": false
   },
   "outputs": [
    {
     "data": {
      "text/plain": [
       "Lasso(alpha=1, copy_X=True, fit_intercept=True, max_iter=1000, normalize=True,\n",
       "   positive=False, precompute=False, random_state=None, selection='cyclic',\n",
       "   tol=0.0001, warm_start=False)"
      ]
     },
     "execution_count": 17,
     "metadata": {},
     "output_type": "execute_result"
    }
   ],
   "source": [
    "reg = Lasso(alpha = .9, normalize=True)\n",
    "reg.fit(x_df, cardio_df)"
   ]
  },
  {
   "cell_type": "code",
   "execution_count": 151,
   "metadata": {
    "collapsed": false
   },
   "outputs": [],
   "source": [
    "from sklearn.metrics import r2_score\n",
    "def loocv_score(x_df, y_df, reg,n):\n",
    "    mse_tot = 0\n",
    "    r2_tot = 0\n",
    "    for train, test in LeaveOneOut(n):\n",
    "        # Get train, test indices from LOO\n",
    "        x_train = x_df.iloc[train, :]\n",
    "        y_train = y_df.iloc[train, :]\n",
    "        x_test = x_df.iloc[test, :]\n",
    "        y_test = y_df.iloc[test, :]\n",
    "        \n",
    "        # Fit the regression to train\n",
    "        reg.fit(x_train, y_train)\n",
    "        r2_tot += r2_score(y_test, reg.predict(x_test))\n",
    "        y_test - reg.predict(x_test)\n",
    "        mse_tot += ((y_test - reg.predict(x_test)).iloc[0, 0])**2\n",
    "    return mse_tot*1.0/n"
   ]
  },
  {
   "cell_type": "code",
   "execution_count": 153,
   "metadata": {
    "collapsed": false
   },
   "outputs": [
    {
     "name": "stdout",
     "output_type": "stream",
     "text": [
      "42698.1526592\n",
      "40518.5416752\n",
      "34399.0222303\n",
      "30439.5567253\n",
      "19315.9852061\n",
      "15291.791902\n",
      "13066.2740138\n",
      "11733.3050556\n",
      "8563.52034934\n"
     ]
    }
   ],
   "source": [
    "for alph in [.001, .01, .05, .1, .5, 1, 2, 10, 100]: \n",
    "    print loocv_score(x_df, cardio_df, Lasso(alpha = alph), 156)"
   ]
  },
  {
   "cell_type": "markdown",
   "metadata": {},
   "source": [
    "### Diabetes \n",
    "Running Lasso on different values of alpha from .001 to 100 yields a top cross-validated $r^2$ score of .29, for alpha = .1"
   ]
  },
  {
   "cell_type": "code",
   "execution_count": 18,
   "metadata": {
    "collapsed": false
   },
   "outputs": [
    {
     "name": "stdout",
     "output_type": "stream",
     "text": [
      "LASSO\n",
      "diabetes 0.001 -8.75554668254\n",
      "diabetes 0.01 -1.98857707569\n",
      "diabetes 0.05 0.172208052135\n",
      "diabetes 0.1 0.317952766042\n",
      "diabetes 0.5 0.228773331487\n",
      "diabetes 1 0.0493154877338\n",
      "diabetes 10 -0.0130465434519\n",
      "diabetes 100 -0.0130465434519\n"
     ]
    }
   ],
   "source": [
    "print \"LASSO\"\n",
    "for alpha in [.001, .01, .05, .1, .5, 1, 10, 100]:\n",
    "    print \"diabetes\",alpha, lasso_k_fold_r_squared(x_df,diabetes_df,4, alpha)"
   ]
  },
  {
   "cell_type": "markdown",
   "metadata": {},
   "source": [
    "## Ridge \n",
    "\n",
    "Again, in this section we'd like to try to use Ridge regression to improve the cross-validated $r^2$ for our model and reduce overfitting of the model.\n",
    "Below is a function we used to calculate the cross-validated r^2 for ridge regression over a number of folds for a certain parameter value.\n",
    "\n",
    "To summarize, we have:\n",
    "\n",
    "\n",
    "| |Cardio   |  Diabetes | Cancer  |\n",
    "|-----|---|---|---|\n",
    "|$r^2$ (Ridge) |  .424 |  .323 |   .168|"
   ]
  },
  {
   "cell_type": "code",
   "execution_count": 19,
   "metadata": {
    "collapsed": false
   },
   "outputs": [],
   "source": [
    "from sklearn.linear_model import Ridge\n",
    "def ridge_k_fold_r_squared(x_train, y_train, num_folds, param_val):\n",
    "    n_train = x_train.shape[0]\n",
    "    n = int(np.round(n_train * 1. / num_folds)) # points per fold\n",
    "\n",
    "    # Iterate over folds\n",
    "    cv_r_squared = 0\n",
    "    \n",
    "    for fold in range(1, num_folds + 1):\n",
    "        # Take k-1 folds for training \n",
    "        x_first_half = x_train.iloc[:n * (fold - 1), :]\n",
    "        x_second_half = x_train.iloc[n * fold + 1:, :]\n",
    "        x_train_cv = np.concatenate((x_first_half, x_second_half), axis=0)\n",
    "        \n",
    "        y_first_half = y_train.iloc[:n * (fold - 1)]\n",
    "        y_second_half = y_train.iloc[n * fold + 1:]\n",
    "        y_train_cv = np.concatenate((y_first_half, y_second_half), axis=0)\n",
    "        \n",
    "        # Take the middle fold for testing\n",
    "        x_test_cv = x_train.iloc[1 + n * (fold - 1):n * fold, :]\n",
    "        y_test_cv = y_train.iloc[1 + n * (fold - 1):n * fold]\n",
    "\n",
    "        # Fit Decision Tree model with parameter value on CV train set, and evaluate CV test performance\n",
    "        reg = Ridge(alpha = param_val, normalize=True)\n",
    "        reg.fit(x_train_cv, y_train_cv)\n",
    "        r_squared = reg.score(x_test_cv, y_test_cv)\n",
    "    \n",
    "        # Cummulative R^2 value across folds\n",
    "        cv_r_squared += r_squared\n",
    "\n",
    "    # Return average R^2 value across folds\n",
    "    return cv_r_squared * 1.0 / num_folds"
   ]
  },
  {
   "cell_type": "markdown",
   "metadata": {},
   "source": [
    "### Cardiovascular Diseases\n",
    "Running Ridge regression on different values of alpha from .001 to 100 yields a top cross-validated $r^2$ score of .425, for alpha = 1.1"
   ]
  },
  {
   "cell_type": "code",
   "execution_count": 20,
   "metadata": {
    "collapsed": false
   },
   "outputs": [
    {
     "name": "stdout",
     "output_type": "stream",
     "text": [
      "RIDGE\n",
      "cardio 0.001 -4.9919143728\n",
      "cardio 0.01 -2.75443505612\n",
      "cardio 0.1 -0.175066648391\n",
      "cardio 0.9 0.404437744071\n",
      "cardio 1 0.410643001\n",
      "cardio 1.1 0.415244083252\n",
      "cardio 1.3 0.421038145156\n",
      "cardio 1.5 0.423729737401\n",
      "cardio 1.9 0.423597298657\n",
      "cardio 5 0.36475407367\n",
      "cardio 10 0.27837000173\n",
      "cardio 11 0.265254747482\n",
      "cardio 100 0.0444563936422\n"
     ]
    }
   ],
   "source": [
    "print \"RIDGE\"\n",
    "for alpha in [.001, .01, .1, .9,1,1.1,1.3,1.5,1.9,5, 10, 11, 100]:\n",
    "    print \"cardio\",alpha, ridge_k_fold_r_squared(x_df,cardio_df,5, alpha)"
   ]
  },
  {
   "cell_type": "markdown",
   "metadata": {},
   "source": [
    "### Diabetes\n",
    "\n",
    "Running Lasso on different values of alpha from .001 to 100 yields a top cross-validated $r^2$ score of .317, for alpha = 1"
   ]
  },
  {
   "cell_type": "code",
   "execution_count": 21,
   "metadata": {
    "collapsed": false
   },
   "outputs": [
    {
     "name": "stdout",
     "output_type": "stream",
     "text": [
      "RIDGE\n",
      "diabetes 0.001 -9.77735177572\n",
      "diabetes 0.01 -3.76622924788\n",
      "diabetes 0.1 -0.279553857695\n",
      "diabetes 0.9 0.314979301771\n",
      "diabetes 1 0.321214840769\n",
      "diabetes 3 0.325946173079\n",
      "diabetes 5 0.300072240351\n",
      "diabetes 10 0.246363686822\n",
      "diabetes 100 0.0540094335668\n",
      "diabetes 1000 -0.00498501391727\n"
     ]
    }
   ],
   "source": [
    "print \"RIDGE\"\n",
    "for alpha in [.001, .01, .1, .9,1,3, 5, 10,100, 1000]:\n",
    "    print \"diabetes\",alpha, ridge_k_fold_r_squared(x_df,diabetes_df,4, alpha)"
   ]
  },
  {
   "cell_type": "code",
   "execution_count": 22,
   "metadata": {
    "collapsed": false
   },
   "outputs": [
    {
     "data": {
      "text/plain": [
       "Ridge(alpha=1, copy_X=True, fit_intercept=True, max_iter=None, normalize=True,\n",
       "   random_state=None, solver='auto', tol=0.001)"
      ]
     },
     "execution_count": 22,
     "metadata": {},
     "output_type": "execute_result"
    }
   ],
   "source": [
    "reg = Ridge(alpha = 1, normalize=True)\n",
    "reg.fit(x_df, diabetes_df)"
   ]
  },
  {
   "cell_type": "code",
   "execution_count": null,
   "metadata": {
    "collapsed": false
   },
   "outputs": [],
   "source": []
  },
  {
   "cell_type": "markdown",
   "metadata": {},
   "source": [
    "### Cancer\n",
    "\n",
    "Running Lasso on different values of alpha from .001 to 100 yields a top cross-validated $r^2$ score of .18, for alpha = 5"
   ]
  },
  {
   "cell_type": "code",
   "execution_count": 23,
   "metadata": {
    "collapsed": false
   },
   "outputs": [
    {
     "name": "stdout",
     "output_type": "stream",
     "text": [
      "RIDGE\n",
      "cancer 0.001 -9.11931708715\n",
      "cancer 0.01 -3.21130503559\n",
      "cancer 0.1 -0.681543066623\n",
      "cancer 1 0.0574910468362\n",
      "cancer 3 0.162757999505\n",
      "cancer 4 0.168501040516\n",
      "cancer 5 0.168009123824\n",
      "cancer 10 0.144581726236\n",
      "cancer 20 0.0992315721652\n",
      "cancer 1000 -0.0668769303926\n"
     ]
    }
   ],
   "source": [
    "print \"RIDGE\"\n",
    "\n",
    "for alpha in [.001, .01, .1, 1, 3, 4,5,10, 20, 1000]:\n",
    "    print \"cancer\",alpha, ridge_k_fold_r_squared(x_df,cancer_df,5, alpha)"
   ]
  },
  {
   "cell_type": "code",
   "execution_count": null,
   "metadata": {
    "collapsed": false
   },
   "outputs": [],
   "source": []
  },
  {
   "cell_type": "code",
   "execution_count": null,
   "metadata": {
    "collapsed": false
   },
   "outputs": [],
   "source": []
  },
  {
   "cell_type": "markdown",
   "metadata": {},
   "source": [
    "---\n",
    "## Regression Trees\n",
    "---\n",
    "\n",
    "In this section, we'll try regression trees to see if they improve our model.\n",
    "\n",
    "Below, we have a function that we'll use to find the $r^2$ value for a given number of folds and certain hyperparameter."
   ]
  },
  {
   "cell_type": "code",
   "execution_count": 24,
   "metadata": {
    "collapsed": true
   },
   "outputs": [],
   "source": [
    "from sklearn.tree import DecisionTreeRegressor\n",
    "def rtree_k_fold_r_squared(x_train, y_train, num_folds, param_val):\n",
    "    n_train = x_train.shape[0]\n",
    "    n = int(np.round(n_train * 1. / num_folds)) # points per fold\n",
    "\n",
    "    # Iterate over folds\n",
    "    cv_r_squared = 0\n",
    "    \n",
    "    for fold in range(1, num_folds + 1):\n",
    "        # Take k-1 folds for training \n",
    "        x_first_half = x_train.iloc[:n * (fold - 1), :]\n",
    "        x_second_half = x_train.iloc[n * fold + 1:, :]\n",
    "        x_train_cv = np.concatenate((x_first_half, x_second_half), axis=0)\n",
    "        \n",
    "        y_first_half = y_train.iloc[:n * (fold - 1)]\n",
    "        y_second_half = y_train.iloc[n * fold + 1:]\n",
    "        y_train_cv = np.concatenate((y_first_half, y_second_half), axis=0)\n",
    "        \n",
    "        # Take the middle fold for testing\n",
    "        x_test_cv = x_train.iloc[1 + n * (fold - 1):n * fold, :]\n",
    "        y_test_cv = y_train.iloc[1 + n * (fold - 1):n * fold]\n",
    "\n",
    "        # Fit Decision Tree model with parameter value on CV train set, and evaluate CV test performance\n",
    "        reg = DecisionTreeRegressor(max_depth=param_val)\n",
    "        reg.fit(x_train_cv, y_train_cv)\n",
    "        r_squared = reg.score(x_test_cv, y_test_cv)\n",
    "    \n",
    "        # Cummulative R^2 value across folds\n",
    "        cv_r_squared += r_squared\n",
    "\n",
    "    # Return average R^2 value across folds\n",
    "    return cv_r_squared * 1.0 / num_folds"
   ]
  },
  {
   "cell_type": "markdown",
   "metadata": {},
   "source": [
    "### Cardiovascular Diseases\n",
    "\n",
    "For cardiovascular diseases, we see the best $r^2 = .44$ for max_depth = 2. "
   ]
  },
  {
   "cell_type": "code",
   "execution_count": 25,
   "metadata": {
    "collapsed": false
   },
   "outputs": [
    {
     "name": "stdout",
     "output_type": "stream",
     "text": [
      "2 0.424335403226\n",
      "3 0.31037836342\n",
      "4 0.138594642848\n",
      "5 0.11320094408\n",
      "10 0.101539041984\n",
      "50 0.197917860836\n",
      "100 0.212245738199\n"
     ]
    }
   ],
   "source": [
    "for depth in [2, 3, 4, 5, 10, 50, 100]:\n",
    "    print depth, rtree_k_fold_r_squared(x_df,cardio_df,5, depth)"
   ]
  },
  {
   "cell_type": "markdown",
   "metadata": {},
   "source": [
    "### Diabetes\n",
    "\n",
    "For diabetes, we see the best $r^2$ of $.157$ for a max-depth of 2."
   ]
  },
  {
   "cell_type": "code",
   "execution_count": 26,
   "metadata": {
    "collapsed": false
   },
   "outputs": [
    {
     "name": "stdout",
     "output_type": "stream",
     "text": [
      "2 0.135877261593\n",
      "3 0.0668897439002\n",
      "4 -0.0282723431846\n",
      "5 -0.013424750927\n",
      "10 -0.203544872678\n",
      "50 -0.199689970513\n",
      "100 -0.34393776059\n"
     ]
    }
   ],
   "source": [
    "for depth in [2, 3, 4, 5, 10, 50, 100]:\n",
    "    print depth, rtree_k_fold_r_squared(x_df,diabetes_df,5, depth)"
   ]
  },
  {
   "cell_type": "markdown",
   "metadata": {},
   "source": [
    "### Cancer\n",
    "\n",
    "All of the $r^2$ for decision trees on cancer were negative, indicating that these actually perform worse than the null model and as such are not useful models to examine."
   ]
  },
  {
   "cell_type": "code",
   "execution_count": 27,
   "metadata": {
    "collapsed": false
   },
   "outputs": [
    {
     "name": "stdout",
     "output_type": "stream",
     "text": [
      "2 -0.908504830182\n",
      "3 -1.04343525752\n",
      "5 -1.0104804726\n",
      "8 -1.13983776169\n",
      "9 -1.18740341487\n",
      "10 -1.01382875454\n",
      "20 -1.17985787005\n",
      "50 -0.962559418604\n",
      "70 -1.25227865248\n",
      "100 -1.32841685985\n"
     ]
    }
   ],
   "source": [
    "for depth in [2, 3, 5, 8, 9, 10, 20, 50, 70, 100]:\n",
    "    print depth, rtree_k_fold_r_squared(x_df,cancer_df,5, depth)"
   ]
  },
  {
   "cell_type": "code",
   "execution_count": null,
   "metadata": {
    "collapsed": true
   },
   "outputs": [],
   "source": []
  },
  {
   "cell_type": "code",
   "execution_count": null,
   "metadata": {
    "collapsed": true
   },
   "outputs": [],
   "source": []
  },
  {
   "cell_type": "code",
   "execution_count": null,
   "metadata": {
    "collapsed": true
   },
   "outputs": [],
   "source": []
  },
  {
   "cell_type": "code",
   "execution_count": null,
   "metadata": {
    "collapsed": true
   },
   "outputs": [],
   "source": []
  }
 ],
 "metadata": {
  "anaconda-cloud": {},
  "kernelspec": {
   "display_name": "Python [Root]",
   "language": "python",
   "name": "Python [Root]"
  },
  "language_info": {
   "codemirror_mode": {
    "name": "ipython",
    "version": 2
   },
   "file_extension": ".py",
   "mimetype": "text/x-python",
   "name": "python",
   "nbconvert_exporter": "python",
   "pygments_lexer": "ipython2",
   "version": "2.7.12"
  }
 },
 "nbformat": 4,
 "nbformat_minor": 0
}
