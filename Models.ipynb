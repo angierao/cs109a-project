{
 "cells": [
  {
   "cell_type": "markdown",
   "metadata": {
    "collapsed": true
   },
   "source": [
    "--- \n",
    "# Model Fitting and Techniques \n",
    "***\n",
    "\n",
    "The overall goal of this section is to try various techniques to fit a model for mortality rate using food consumption data.  First, we will find a null model, representing the 'average' input and representing a baseline estimation that we will then improve upon. Then we will fit a multilinear regression to all of the predictors (all livestock and all crop predictors), and find a cross-validated $R^2$ for this naive model. Next, we will try more advanced techniques such as Lasso, Ridge, Step-wise, and Regression Trees to improve this model. \n",
    "\n",
    "To summarize, our null model achieved a cross-validated $R^2$ score of 0 for all three diseases. Our naive model achieved a cross-validated score of $ $ for diabetes, $ $ for cancer, and $ $ for cardiovascular diseases."
   ]
  },
  {
   "cell_type": "markdown",
   "metadata": {},
   "source": [
    "## Null Model\n",
    "\n",
    "Before fitting the linear regression, we will find a simple null model for global food consumption data. To calculate the null model, we found the average of each predictor column in the Dataframe. This gives us a 'global average' of consumption of each predictor. We can then use the null model to establish a baseline $R^2$ that we will then improve upon using our linear regression models."
   ]
  },
  {
   "cell_type": "code",
   "execution_count": 11,
   "metadata": {
    "collapsed": true
   },
   "outputs": [],
   "source": [
    "import numpy as np\n",
    "import matplotlib \n",
    "import matplotlib.pyplot as plt\n",
    "from mpl_toolkits.mplot3d import Axes3D\n",
    "import matplotlib.cm as cmx\n",
    "import matplotlib.colors as colors\n",
    "import pandas as pd\n",
    "import math\n",
    "from sklearn.cross_validation import cross_val_score\n",
    "from sklearn.cross_validation import KFold\n",
    "from sklearn.linear_model import LinearRegression as LinReg\n",
    "from sklearn.cross_validation import train_test_split as sk_split\n",
    "import statsmodels.api as sm\n",
    "\n",
    "%matplotlib inline"
   ]
  },
  {
   "cell_type": "code",
   "execution_count": 2,
   "metadata": {
    "collapsed": false
   },
   "outputs": [],
   "source": [
    "# Read in initial dataframe\n",
    "x_df = pd.read_csv('predictors_filled_156.csv')\n",
    "\n",
    "# read in disease rates\n",
    "diabetes_df = pd.read_csv('diabetes_156.csv',index_col = 0)\n",
    "cardio_df = pd.read_csv('cardio_156.csv',index_col = 0)\n",
    "cancer_df= pd.read_csv('cancer_156.csv',index_col = 0)"
   ]
  },
  {
   "cell_type": "markdown",
   "metadata": {},
   "source": [
    "### Null Model testing:\n",
    "\n",
    "As expected, testing the null model on various training set give us a cross-validated $R^2$ of approximately zero for all three diseases. \n",
    "\n",
    "#### Cancer: \n",
    "The null model for cancer will always predict the mean cancer mortality rate. Testing on cancer, we get an $R^2$ of 3.33 E -16, which is ~ 0:"
   ]
  },
  {
   "cell_type": "code",
   "execution_count": 3,
   "metadata": {
    "collapsed": false
   },
   "outputs": [
    {
     "data": {
      "text/plain": [
       "LinearRegression(copy_X=True, fit_intercept=True, n_jobs=1, normalize=False)"
      ]
     },
     "execution_count": 3,
     "metadata": {},
     "output_type": "execute_result"
    }
   ],
   "source": [
    "# Null Model Cancer\n",
    "null_model = LinReg()\n",
    "null_model.fit(x_df, [np.mean(cancer_df['Cancer Mortality Rate'])]*x_df.shape[0])"
   ]
  },
  {
   "cell_type": "code",
   "execution_count": 4,
   "metadata": {
    "collapsed": false
   },
   "outputs": [
    {
     "data": {
      "text/plain": [
       "0.0"
      ]
     },
     "execution_count": 4,
     "metadata": {},
     "output_type": "execute_result"
    }
   ],
   "source": [
    "# Test Cancer.\n",
    "null_model.score(x_df, cancer_df)"
   ]
  },
  {
   "cell_type": "markdown",
   "metadata": {},
   "source": [
    "#### Diabetes\n",
    "Testing on diabetes, we also get an $R^2$ of 0."
   ]
  },
  {
   "cell_type": "code",
   "execution_count": 5,
   "metadata": {
    "collapsed": false
   },
   "outputs": [
    {
     "data": {
      "text/plain": [
       "LinearRegression(copy_X=True, fit_intercept=True, n_jobs=1, normalize=False)"
      ]
     },
     "execution_count": 5,
     "metadata": {},
     "output_type": "execute_result"
    }
   ],
   "source": [
    "# Fit Diabetes Null Model\n",
    "null_model = LinReg()\n",
    "null_model.fit(x_df, [np.mean(diabetes_df['Diabetes Mortality Rate'])]*x_df.shape[0])"
   ]
  },
  {
   "cell_type": "code",
   "execution_count": 6,
   "metadata": {
    "collapsed": false
   },
   "outputs": [
    {
     "data": {
      "text/plain": [
       "0.0"
      ]
     },
     "execution_count": 6,
     "metadata": {},
     "output_type": "execute_result"
    }
   ],
   "source": [
    "# Test Diabetes.\n",
    "null_model.score(x_df, diabetes_df)"
   ]
  },
  {
   "cell_type": "markdown",
   "metadata": {},
   "source": [
    "#### Test Cardiovascular Diseases"
   ]
  },
  {
   "cell_type": "code",
   "execution_count": 7,
   "metadata": {
    "collapsed": false
   },
   "outputs": [
    {
     "data": {
      "text/plain": [
       "LinearRegression(copy_X=True, fit_intercept=True, n_jobs=1, normalize=False)"
      ]
     },
     "execution_count": 7,
     "metadata": {},
     "output_type": "execute_result"
    }
   ],
   "source": [
    "# Test cardiovascular diseases\n",
    "null_model = LinReg()\n",
    "null_model.fit(x_df, [np.mean(cardio_df['Cardio Mortality Rate'])]*x_df.shape[0])"
   ]
  },
  {
   "cell_type": "code",
   "execution_count": 8,
   "metadata": {
    "collapsed": false
   },
   "outputs": [
    {
     "data": {
      "text/plain": [
       "0.0"
      ]
     },
     "execution_count": 8,
     "metadata": {},
     "output_type": "execute_result"
    }
   ],
   "source": [
    "# Test cardiovascular diseases.\n",
    "null_model.score(x_df, cardio_df)"
   ]
  },
  {
   "cell_type": "markdown",
   "metadata": {},
   "source": [
    "# Simple LinReg\n",
    "\n",
    "## Cancer LinReg\n",
    "\n",
    "Now, we will fit a simple multi-linear regression to all of the food consumption inputs for each of the diseases. First, for cancer, our regression has an initial $R^2$ on the training set of .85, and a cross-validated $R^2$ of -16.5 for $k = 5$ folds. "
   ]
  },
  {
   "cell_type": "code",
   "execution_count": 12,
   "metadata": {
    "collapsed": false
   },
   "outputs": [
    {
     "name": "stdout",
     "output_type": "stream",
     "text": [
      "Training r^2: 0.842393103733\n"
     ]
    }
   ],
   "source": [
    "linreg = LinReg()\n",
    "linreg.fit(x_df, cancer_df)\n",
    "print \"Training r^2:\",linreg.score(x_df, cancer_df)"
   ]
  },
  {
   "cell_type": "code",
   "execution_count": 13,
   "metadata": {
    "collapsed": false
   },
   "outputs": [
    {
     "data": {
      "text/plain": [
       "-30.410282842295079"
      ]
     },
     "execution_count": 13,
     "metadata": {},
     "output_type": "execute_result"
    }
   ],
   "source": [
    "# Cross validated R-squared score\n",
    "np.mean(cross_val_score(LinReg(), x_df,cancer_df, cv = KFold(151, 5), scoring = \"r2\"))"
   ]
  },
  {
   "cell_type": "markdown",
   "metadata": {},
   "source": [
    "To further examine the accuracy of this model, the map below displays the fractional difference of the model estimates as compared to the actual cancer data on a world map. As we can see, the vast majority of countries are colored a dark blue/ purple color, indicating they have a low fractional difference. Countries colored a brighter purple/pink color indicate an overestimate, while countries colored in a brighter blues indicate an underestimate."
   ]
  },
  {
   "cell_type": "code",
   "execution_count": 14,
   "metadata": {
    "collapsed": true
   },
   "outputs": [],
   "source": [
    "# PUT GRAPH HERE"
   ]
  },
  {
   "cell_type": "markdown",
   "metadata": {
    "collapsed": true
   },
   "source": [
    "## Diabetes LinReg\n",
    "For diabetes, our regression has an initial cross-validated $R^2$ of ** PUT THE R^2 HERE**. "
   ]
  },
  {
   "cell_type": "code",
   "execution_count": 15,
   "metadata": {
    "collapsed": false
   },
   "outputs": [
    {
     "name": "stdout",
     "output_type": "stream",
     "text": [
      "Training R^2 0.807019987902\n",
      "CV R^2 score: -4.48569244044\n"
     ]
    }
   ],
   "source": [
    "linreg = LinReg()\n",
    "linreg.fit(x_df, diabetes_df)\n",
    "print \"Training R^2\", linreg.score(x_df, diabetes_df)\n",
    "\n",
    "# Cross-validated R^2 score for diabetes\n",
    "print \"CV R^2 score:\",np.mean(cross_val_score(LinReg(), x_df,diabetes_df, cv = KFold(5), scoring = \"r2\"))"
   ]
  },
  {
   "cell_type": "markdown",
   "metadata": {},
   "source": [
    "Again, we can examine a world map to see the fractional differences. Again, dark blue/purple colors indicate an accurate estimate,brighter purples/pinks indicate an overestimate, and brighter blues indicate an underestimate. We note thatthis model has slightly worse performance than our cancer model, which may have to do with the fact that diabetes does not lead to death as commonly as cancer does."
   ]
  },
  {
   "cell_type": "markdown",
   "metadata": {},
   "source": [
    "## Cardiovascular Diseases LinReg\n",
    "For diabetes, our regression has an initial $R^2$ on the training set of .856, and a cross-validated $R^2$ of -6.02"
   ]
  },
  {
   "cell_type": "code",
   "execution_count": 16,
   "metadata": {
    "collapsed": false
   },
   "outputs": [
    {
     "name": "stdout",
     "output_type": "stream",
     "text": [
      "Training R^2 0.850938184461\n",
      "Cross-validated R^2 -5.2779763269\n"
     ]
    }
   ],
   "source": [
    "linreg = LinReg()\n",
    "linreg.fit(x_df, cardio_df)\n",
    "print \"Training R^2\", linreg.score(x_df, cardio_df)\n",
    "print \"Cross-validated R^2\", np.mean(cross_val_score(LinReg(), x_df,cardio_df, cv = KFold(151, 5), scoring = \"r2\"))"
   ]
  },
  {
   "cell_type": "markdown",
   "metadata": {},
   "source": [
    "Again, we can examine a world map to see the fractional differences. Dark blue/purple colors indicate an accurate estimate,brighter purples/pinks indicate an overestimate, and brighter blues indicate an underestimate. While this model appears to be fairly accurate for *THESE COUNTRIES*, it could be improved for *THESE*. This might be due to certain predictors, such as *SOME RANDOM PREDICTOR*, that is more heavily weighted for larger countries than for the country that is seeing a larger fractional difference."
   ]
  },
  {
   "cell_type": "markdown",
   "metadata": {
    "collapsed": true
   },
   "source": [
    "--- \n",
    "# Advanced Models \n",
    "***\n",
    "\n",
    "In this section, we will use various other regression techniques and variable selection techniques to attempt to improve upon our naive model. In particular, we will try \n",
    "\n",
    "1. Lasso\n",
    "2. PCA\n",
    "3. Regression Tree\n",
    "4. Step-wise Variable Selection\n",
    "\n",
    "For reference, our naive model gives us the following cross-validated $R^2$ values with $k = 5$: \n",
    "\n",
    "||Cardio | Diabetes | Cancer\n",
    "|--- | --- | --- | ---|\n",
    "|R^2 (Training)| .856 | .834 | .856|\n",
    "\n",
    "## Lasso\n",
    "\n",
    "The naive model brought up in the previous section has one major flaw: by including all of the predictors, it is very likely to be overfitted to the initial dataset. As such, we would like to reduce that overfitting by using variable selection techniques such as Lasso to reduce the number of predictors our model includes. \n",
    "Using the LassoCV package in sklearn, we obtain the following cross-validated $R^2$:\n",
    "\n",
    "| |Cardio   |  Diabetes | Cancer  |\n",
    "|-----|---|---|---|\n",
    "|$r^2$ (Lasso) |  .456 |  .31 |   .053|\n"
   ]
  },
  {
   "cell_type": "markdown",
   "metadata": {},
   "source": [
    "Below is a function we used to calculate the cross-validated r^2 for lasso over a number of folds for a certain parameter value."
   ]
  },
  {
   "cell_type": "code",
   "execution_count": 40,
   "metadata": {
    "collapsed": true
   },
   "outputs": [],
   "source": [
    "def lasso_k_fold_r_squared(x_train, y_train, num_folds, param_val):\n",
    "    n_train = x_train.shape[0]\n",
    "    n = int(np.round(n_train * 1. / num_folds)) # points per fold\n",
    "\n",
    "    # Iterate over folds\n",
    "    cv_r_squared = 0\n",
    "    \n",
    "    for fold in range(1, num_folds + 1):\n",
    "        # Take k-1 folds for training \n",
    "        x_first_half = x_train.iloc[:n * (fold - 1), :]\n",
    "        x_second_half = x_train.iloc[n * fold + 1:, :]\n",
    "        x_train_cv = np.concatenate((x_first_half, x_second_half), axis=0)\n",
    "        \n",
    "        y_first_half = y_train.iloc[:n * (fold - 1)]\n",
    "        y_second_half = y_train.iloc[n * fold + 1:]\n",
    "        y_train_cv = np.concatenate((y_first_half, y_second_half), axis=0)\n",
    "        \n",
    "        # Take the middle fold for testing\n",
    "        x_test_cv = x_train.iloc[1 + n * (fold - 1):n * fold, :]\n",
    "        y_test_cv = y_train.iloc[1 + n * (fold - 1):n * fold]\n",
    "\n",
    "        # Fit Decision Tree model with parameter value on CV train set, and evaluate CV test performance\n",
    "        reg = Lasso(alpha = param_val, normalize=True)\n",
    "        reg.fit(x_train_cv, y_train_cv)\n",
    "        coefficients = reg.coef_\n",
    "        #print len([i for i, item in enumerate(coefficients) if abs(item) >0])\n",
    "        r_squared = reg.score(x_test_cv, y_test_cv)\n",
    "    \n",
    "        # Cummulative R^2 value across folds\n",
    "        cv_r_squared += r_squared\n",
    "\n",
    "    # Return average R^2 value across folds\n",
    "    return cv_r_squared * 1.0 / num_folds"
   ]
  },
  {
   "cell_type": "markdown",
   "metadata": {},
   "source": [
    "### Cancer\n",
    "\n",
    "Running Lasso on different values of alpha yields a top cross-validated $r^2$ score of .059, for alpha = .1"
   ]
  },
  {
   "cell_type": "code",
   "execution_count": 60,
   "metadata": {
    "collapsed": false
   },
   "outputs": [
    {
     "name": "stdout",
     "output_type": "stream",
     "text": [
      "LASSO\n",
      "cancer 0.001 -10.0863952587\n",
      "cancer 0.01 -2.62319418962\n",
      "cancer 0.1 -0.189052791559\n",
      "cancer 0.4 0.15663394152\n",
      "cancer 0.5 0.13439828752\n",
      "cancer 0.6 0.117227909906\n",
      "cancer 1 0.0530720050382\n",
      "cancer 5 -0.0745935162681\n",
      "cancer 10 -0.0745935162681\n",
      "cancer 100 -0.0745935162681\n"
     ]
    }
   ],
   "source": [
    "from sklearn.linear_model import Lasso\n",
    "from sklearn.linear_model import LassoCV\n",
    "\n",
    "print \"LASSO\"\n",
    "for alpha in [.001, .01, .1,.4,.5,.6,1,5,10,100]:\n",
    "    print \"cancer\",alpha, lasso_k_fold_r_squared(x_df,cancer_df,5, alpha)"
   ]
  },
  {
   "cell_type": "code",
   "execution_count": null,
   "metadata": {
    "collapsed": false
   },
   "outputs": [],
   "source": []
  },
  {
   "cell_type": "markdown",
   "metadata": {},
   "source": [
    "### Cardiovascular Diseases\n",
    "Running Lasso on different values of alpha yields a top cross-validated $r^2$ score of .459, for alpha = .9"
   ]
  },
  {
   "cell_type": "code",
   "execution_count": 42,
   "metadata": {
    "collapsed": false
   },
   "outputs": [
    {
     "name": "stdout",
     "output_type": "stream",
     "text": [
      "LASSO\n",
      "cardio 0.001 -5.42791396765\n",
      "cardio 0.1 -0.111196584756\n",
      "cardio 0.5 0.415841480013\n",
      "cardio 0.8 0.451848911048\n",
      "cardio 0.9 0.455639379888\n",
      "cardio 1 0.456181146633\n",
      "cardio 2 0.404302118408\n",
      "cardio 5 0.0132238574549\n",
      "cardio 10 -0.010213535932\n",
      "cardio 100 -0.010213535932\n",
      "cardio 1000 -0.010213535932\n"
     ]
    }
   ],
   "source": [
    "print \"LASSO\"\n",
    "for alpha in [.001, .1, .5,.8, .9, 1, 2,5, 10, 100, 1000]:\n",
    "    print \"cardio\",alpha, lasso_k_fold_r_squared(x_df,cardio_df,5, alpha)\n",
    "    "
   ]
  },
  {
   "cell_type": "code",
   "execution_count": 31,
   "metadata": {
    "collapsed": false
   },
   "outputs": [
    {
     "data": {
      "text/plain": [
       "Lasso(alpha=1, copy_X=True, fit_intercept=True, max_iter=1000, normalize=True,\n",
       "   positive=False, precompute=False, random_state=None, selection='cyclic',\n",
       "   tol=0.0001, warm_start=False)"
      ]
     },
     "execution_count": 31,
     "metadata": {},
     "output_type": "execute_result"
    }
   ],
   "source": [
    "reg = Lasso(alpha = 1, normalize=True)\n",
    "reg.fit(x_df, cancer_df)"
   ]
  },
  {
   "cell_type": "code",
   "execution_count": null,
   "metadata": {
    "collapsed": false
   },
   "outputs": [],
   "source": []
  },
  {
   "cell_type": "markdown",
   "metadata": {},
   "source": [
    "### Diabetes \n",
    "Running Lasso on different values of alpha from .001 to 100 yields a top cross-validated $r^2$ score of .29, for alpha = .1"
   ]
  },
  {
   "cell_type": "code",
   "execution_count": 39,
   "metadata": {
    "collapsed": false
   },
   "outputs": [
    {
     "name": "stdout",
     "output_type": "stream",
     "text": [
      "LASSO\n",
      "diabetes 0.001 -11.0600616776\n",
      "diabetes 0.01 -7.15802252011\n",
      "diabetes 0.05 -2.82047154641\n",
      "diabetes 0.1 -1.89295319289\n",
      "diabetes 0.5 -0.634815280625\n",
      "diabetes 1 -0.151038370671\n",
      "diabetes 10 0.309595435793\n",
      "diabetes 100 0.243569859518\n"
     ]
    }
   ],
   "source": [
    "print \"LASSO\"\n",
    "for alpha in [.001, .01, .05, .1, .5, 1, 10, 100]:\n",
    "    print \"diabetes\",alpha, lasso_k_fold_r_squared(x_df,diabetes_df,4, alpha)"
   ]
  },
  {
   "cell_type": "markdown",
   "metadata": {},
   "source": [
    "## Ridge \n",
    "\n",
    "Again, in this section we'd like to try to use Ridge regression to improve the cross-validated $r^2$ for our model and reduce overfitting of the model.\n",
    "Below is a function we used to calculate the cross-validated r^2 for ridge regression over a number of folds for a certain parameter value.\n",
    "\n",
    "To summarize, we have:\n",
    "\n",
    "\n",
    "| |Cardio   |  Diabetes | Cancer  |\n",
    "|-----|---|---|---|\n",
    "|$r^2$ (Ridge) |  .424 |  .323 |   .168|"
   ]
  },
  {
   "cell_type": "code",
   "execution_count": 21,
   "metadata": {
    "collapsed": false
   },
   "outputs": [],
   "source": [
    "from sklearn.linear_model import Ridge\n",
    "def ridge_k_fold_r_squared(x_train, y_train, num_folds, param_val):\n",
    "    n_train = x_train.shape[0]\n",
    "    n = int(np.round(n_train * 1. / num_folds)) # points per fold\n",
    "\n",
    "    # Iterate over folds\n",
    "    cv_r_squared = 0\n",
    "    \n",
    "    for fold in range(1, num_folds + 1):\n",
    "        # Take k-1 folds for training \n",
    "        x_first_half = x_train.iloc[:n * (fold - 1), :]\n",
    "        x_second_half = x_train.iloc[n * fold + 1:, :]\n",
    "        x_train_cv = np.concatenate((x_first_half, x_second_half), axis=0)\n",
    "        \n",
    "        y_first_half = y_train.iloc[:n * (fold - 1)]\n",
    "        y_second_half = y_train.iloc[n * fold + 1:]\n",
    "        y_train_cv = np.concatenate((y_first_half, y_second_half), axis=0)\n",
    "        \n",
    "        # Take the middle fold for testing\n",
    "        x_test_cv = x_train.iloc[1 + n * (fold - 1):n * fold, :]\n",
    "        y_test_cv = y_train.iloc[1 + n * (fold - 1):n * fold]\n",
    "\n",
    "        # Fit Decision Tree model with parameter value on CV train set, and evaluate CV test performance\n",
    "        reg = Ridge(alpha = param_val, normalize=True)\n",
    "        reg.fit(x_train_cv, y_train_cv)\n",
    "        r_squared = reg.score(x_test_cv, y_test_cv)\n",
    "    \n",
    "        # Cummulative R^2 value across folds\n",
    "        cv_r_squared += r_squared\n",
    "\n",
    "    # Return average R^2 value across folds\n",
    "    return cv_r_squared * 1.0 / num_folds"
   ]
  },
  {
   "cell_type": "markdown",
   "metadata": {},
   "source": [
    "### Cardiovascular Diseases\n",
    "Running Ridge regression on different values of alpha from .001 to 100 yields a top cross-validated $r^2$ score of .425, for alpha = 1.1"
   ]
  },
  {
   "cell_type": "code",
   "execution_count": 22,
   "metadata": {
    "collapsed": false
   },
   "outputs": [
    {
     "name": "stdout",
     "output_type": "stream",
     "text": [
      "RIDGE\n",
      "cardio 0.001 -4.9919143728\n",
      "cardio 0.01 -2.75443505612\n",
      "cardio 0.1 -0.175066648391\n",
      "cardio 0.9 0.404437744071\n",
      "cardio 1 0.410643001\n",
      "cardio 1.1 0.415244083252\n",
      "cardio 1.3 0.421038145156\n",
      "cardio 1.5 0.423729737401\n",
      "cardio 1.9 0.423597298657\n",
      "cardio 5 0.36475407367\n",
      "cardio 10 0.27837000173\n",
      "cardio 11 0.265254747482\n",
      "cardio 100 0.0444563936422\n"
     ]
    }
   ],
   "source": [
    "print \"RIDGE\"\n",
    "for alpha in [.001, .01, .1, .9,1,1.1,1.3,1.5,1.9,5, 10, 11, 100]:\n",
    "    print \"cardio\",alpha, ridge_k_fold_r_squared(x_df,cardio_df,5, alpha)"
   ]
  },
  {
   "cell_type": "markdown",
   "metadata": {},
   "source": [
    "### Diabetes\n",
    "\n",
    "Running Lasso on different values of alpha from .001 to 100 yields a top cross-validated $r^2$ score of .317, for alpha = 1"
   ]
  },
  {
   "cell_type": "code",
   "execution_count": 23,
   "metadata": {
    "collapsed": false
   },
   "outputs": [
    {
     "name": "stdout",
     "output_type": "stream",
     "text": [
      "RIDGE\n",
      "diabetes 0.001 -9.77735177572\n",
      "diabetes 0.01 -3.76622924788\n",
      "diabetes 0.1 -0.279553857695\n",
      "diabetes 0.9 0.314979301771\n",
      "diabetes 1 0.321214840769\n",
      "diabetes 3 0.325946173079\n",
      "diabetes 5 0.300072240351\n",
      "diabetes 10 0.246363686822\n",
      "diabetes 100 0.0540094335668\n",
      "diabetes 1000 -0.00498501391727\n"
     ]
    }
   ],
   "source": [
    "print \"RIDGE\"\n",
    "for alpha in [.001, .01, .1, .9,1,3, 5, 10,100, 1000]:\n",
    "    print \"diabetes\",alpha, ridge_k_fold_r_squared(x_df,diabetes_df,4, alpha)"
   ]
  },
  {
   "cell_type": "code",
   "execution_count": 54,
   "metadata": {
    "collapsed": false
   },
   "outputs": [
    {
     "data": {
      "text/plain": [
       "Ridge(alpha=1, copy_X=True, fit_intercept=True, max_iter=None, normalize=True,\n",
       "   random_state=None, solver='auto', tol=0.001)"
      ]
     },
     "execution_count": 54,
     "metadata": {},
     "output_type": "execute_result"
    }
   ],
   "source": [
    "reg = Ridge(alpha = 1, normalize=True)\n",
    "reg.fit(x_df, diabetes_df)"
   ]
  },
  {
   "cell_type": "code",
   "execution_count": 72,
   "metadata": {
    "collapsed": false
   },
   "outputs": [
    {
     "data": {
      "text/plain": [
       "[17061.322851140354,\n",
       " 16042.036198111977,\n",
       " 17320.025749362572,\n",
       " 15860.250357751389,\n",
       " 15882.962519258283,\n",
       " 15966.426607793357,\n",
       " 16592.310657923987,\n",
       " 15847.824801436187,\n",
       " 15838.673581413499,\n",
       " 15816.070749027145,\n",
       " 16005.551524971192,\n",
       " 16125.441542405399,\n",
       " 16720.929930706065,\n",
       " 15894.570850073225,\n",
       " 16570.30422251463,\n",
       " 15817.228263677182,\n",
       " 17213.066846428654,\n",
       " 17103.165755482198,\n",
       " 16877.388147424077,\n",
       " 15817.889881398278,\n",
       " 15895.766314940534,\n",
       " 16090.16511277452,\n",
       " 15935.093568992079,\n",
       " 15935.713359576735,\n",
       " 16275.750553193682,\n",
       " 15839.638357041502,\n",
       " 16948.350902055554,\n",
       " 15945.63788693665,\n",
       " 16017.224434559968,\n",
       " 16126.046584846097,\n",
       " 15935.236343970657,\n",
       " 16114.2577282952,\n",
       " 15824.47796646618,\n",
       " 15907.014587620262,\n",
       " 16157.331248678456,\n",
       " 16265.025889159151,\n",
       " 16055.290111374745,\n",
       " 16128.275477852458,\n",
       " 16499.066983326975,\n",
       " 15996.661506268172,\n",
       " 15934.446316346262,\n",
       " 16264.120741472603,\n",
       " 15967.593339868248,\n",
       " 16144.629742899628,\n",
       " 16834.040267972654,\n",
       " 16122.463561248504,\n",
       " 16138.748154029397,\n",
       " 17272.115356885686,\n",
       " 16439.860923328877,\n",
       " 16982.186432077717,\n",
       " 16457.073041611522,\n",
       " 15820.97414958207,\n",
       " 16182.052111355006,\n",
       " 16662.533411058066,\n",
       " 15823.288414065719,\n",
       " 16668.00975025694,\n",
       " 16031.962157727596,\n",
       " 15912.2313792994,\n",
       " 16423.057423080067,\n",
       " 17340.58962872142,\n",
       " 16581.091880211243,\n",
       " 15877.353456010287,\n",
       " 15867.191946517396,\n",
       " 16035.751778186741,\n",
       " 16733.884183875198,\n",
       " 16629.513525387196,\n",
       " 15884.37755644779,\n",
       " 16390.77899853033,\n",
       " 16874.33032682992,\n",
       " 15856.549288239525,\n",
       " 15854.547461171183,\n",
       " 16107.576895696644,\n",
       " 16130.207063335218,\n",
       " 15908.264975288965,\n",
       " 15922.429695087249,\n",
       " 17070.62415746959,\n",
       " 15876.473291005927,\n",
       " 15978.784210367608,\n",
       " 17652.394332139538,\n",
       " 15847.386626351818,\n",
       " 16067.429993565704,\n",
       " 16106.243043968465,\n",
       " 16121.526503941395,\n",
       " 16638.38625184189,\n",
       " 16083.993334853396,\n",
       " 16976.687970002444,\n",
       " 16318.060111794432,\n",
       " 17399.5744731648,\n",
       " 15830.521844361623,\n",
       " 16320.300953901575,\n",
       " 17879.234087919864,\n",
       " 16172.051363896335,\n",
       " 16046.131710795806,\n",
       " 16932.676640704918,\n",
       " 15871.241752503762,\n",
       " 16453.499298843257,\n",
       " 17143.771176285958,\n",
       " 15862.611536259286,\n",
       " 15856.406958413167,\n",
       " 16544.78990705137,\n",
       " 15815.345436232014,\n",
       " 16390.640354088802,\n",
       " 15906.943073982497,\n",
       " 15842.687851836163,\n",
       " 15929.462377583977,\n",
       " 16163.930585397966,\n",
       " 17088.774729278615,\n",
       " 15846.853987853321,\n",
       " 15984.032214218136,\n",
       " 16589.671940877928,\n",
       " 16082.631956338662,\n",
       " 16012.410982492524,\n",
       " 17507.91891171661,\n",
       " 17216.353705104037,\n",
       " 16316.30365606303,\n",
       " 16583.991101127798,\n",
       " 16147.361142750944,\n",
       " 16035.326062080772,\n",
       " 15848.308619813546,\n",
       " 15848.975323101526,\n",
       " 16405.57622018862,\n",
       " 16229.784357084493,\n",
       " 16345.260260976693,\n",
       " 15976.088154545658,\n",
       " 16589.776512021348,\n",
       " 16165.522651831081,\n",
       " 17084.50599822402,\n",
       " 17165.390733469198,\n",
       " 16042.676012620883,\n",
       " 16483.416230504594,\n",
       " 16278.763495311265,\n",
       " 16502.82526480579,\n",
       " 15839.679422003375,\n",
       " 15847.214546619663,\n",
       " 15977.438916774412,\n",
       " 16005.35910297151,\n",
       " 17386.797325853015,\n",
       " 16582.710135332407,\n",
       " 17657.16690153296,\n",
       " 15878.938149031886,\n",
       " 16636.22308681539,\n",
       " 16286.47788417874,\n",
       " 17659.839183320437,\n",
       " 15930.183176773386,\n",
       " 15945.02445397106,\n",
       " 15857.739984562304,\n",
       " 16113.290538013622,\n",
       " 16108.549363079439,\n",
       " 15912.947157647322,\n",
       " 16125.263359992987,\n",
       " 17250.929235302665,\n",
       " 15823.327953357526,\n",
       " 16627.439863695956,\n",
       " 15884.703915107086,\n",
       " 16009.08744565205,\n",
       " 16083.747325508975]"
      ]
     },
     "execution_count": 72,
     "metadata": {},
     "output_type": "execute_result"
    }
   ],
   "source": [
    "map(lambda x: x*132.092646274 +319.841721854, [ 126.74044772,  119.02399505,  128.69894356,  117.6477955 ,\n",
    "        117.81973665,  118.45159687,  123.18981711,  117.55372852,\n",
    "        117.48444972,  117.31333624,  118.74778987,  119.65541055,\n",
    "        124.16352213,  117.90761687,  123.02321862,  117.32209914,\n",
    "        127.88921716,  127.05721709,  125.34798032,  117.32710788,\n",
    "        117.91666707,  119.38835231,  118.21439185,  118.21908394,\n",
    "        120.79331652,  117.4917535 ,  125.88519989,  118.29421702,\n",
    "        118.83615898,  119.65999099,  118.21547272,  119.57074411,\n",
    "        117.37698261,  118.00182149,  119.89682979,  120.71212605,\n",
    "        119.12433306,  119.6768647 ,  122.48392108,  118.68048848,\n",
    "        118.20949186,  120.70527368,  118.46042955,  119.80067375,\n",
    "        125.01981762,  119.63286591,  119.75614751,  128.33624061,\n",
    "        122.03570491,  126.14134988,  122.16600829,  117.35045716,\n",
    "        120.0839777 ,  123.72143454,  117.36797717,  123.76289286,\n",
    "        118.94773009,  118.04131492,  121.90849495,  128.85462126,\n",
    "        123.10488598,  117.77727355,  117.70034641,  118.9764192 ,\n",
    "        124.26159158,  123.47145934,  117.83044911,  121.66413294,\n",
    "        125.32483126,  117.61977676,  117.60462204,  119.52016724,\n",
    "        119.69148766,  118.01128748,  118.1185207 ,  126.81086274,\n",
    "        117.77061031,  118.54514941,  131.21512135,  117.55041134,\n",
    "        119.21623736,  119.51006939,  119.62577197,  123.53862982,\n",
    "        119.34162921,  126.09972408,  121.11361867,  129.30116273,\n",
    "        117.42273745,  121.13058284,  132.93239905,  120.0082676 ,\n",
    "        119.0549999 ,  125.76653877,  117.73100524,  122.13895347,\n",
    "        127.36461816,  117.66567067,  117.61869926,  122.83006392,\n",
    "        117.3078453 ,  121.66308334,  118.0012801 ,  117.51483953,\n",
    "        118.17176123,  119.9467897 ,  126.94827063,  117.54637903,\n",
    "        118.58487913,  123.16984085,  119.33132297,  118.79971901,\n",
    "        130.12137825,  127.91410014,  121.10032152,  123.12683437,\n",
    "        119.82135166,  118.97319634,  117.55739124,  117.56243848,\n",
    "        121.77615448,  120.445332  ,  121.31953588,  118.52473907,\n",
    "        123.1706325 ,  119.95884235,  126.91595444,  127.52828781,\n",
    "        119.02883873,  122.36543793,  120.81612583,  122.51237294,\n",
    "        117.49206438,  117.54910862,  118.53496494,  118.74633315,\n",
    "        129.20443405,  123.11713689,  131.25125182,  117.78927038,\n",
    "        123.5222537 ,  120.87452718,  131.27148218,  118.177218  ,\n",
    "        118.28957306,  117.62879086,  119.56342205,  119.52752925,\n",
    "        118.04673368,  119.65406163,  128.17585226,  117.3682765 ,\n",
    "        123.4557608 ,  117.83291979,  118.77455836,  119.33976681])"
   ]
  },
  {
   "cell_type": "markdown",
   "metadata": {},
   "source": [
    "### Cancer\n",
    "\n",
    "Running Lasso on different values of alpha from .001 to 100 yields a top cross-validated $r^2$ score of .18, for alpha = 5"
   ]
  },
  {
   "cell_type": "code",
   "execution_count": 63,
   "metadata": {
    "collapsed": false
   },
   "outputs": [
    {
     "name": "stdout",
     "output_type": "stream",
     "text": [
      "RIDGE\n",
      "cancer 0.001 -9.11931708715\n",
      "cancer 0.01 -3.21130503559\n",
      "cancer 0.1 -0.681543066623\n",
      "cancer 1 0.0574910468362\n",
      "cancer 3 0.162757999505\n",
      "cancer 4 0.168501040516\n",
      "cancer 5 0.168009123824\n",
      "cancer 6 0.164780179616\n",
      "cancer 10 0.144581726236\n",
      "cancer 20 0.0992315721652\n",
      "cancer 1000 -0.0668769303926\n"
     ]
    }
   ],
   "source": [
    "print \"RIDGE\"\n",
    "\n",
    "for alpha in [.001, .01, .1, 1, 3, 4,5,10, 20, 1000]:\n",
    "    print \"cancer\",alpha, ridge_k_fold_r_squared(x_df,cancer_df,5, alpha)"
   ]
  },
  {
   "cell_type": "code",
   "execution_count": 68,
   "metadata": {
    "collapsed": false
   },
   "outputs": [],
   "source": [
    "reg_cancer = Ridge(alpha = 4, normalize=True)\n",
    "reg_cancer.fit(x_df, cancer_df)\n",
    "ridge2 = [139.241631199 ,\n",
    "121.501955508 ,\n",
    "140.297525424 ,\n",
    "110.128754036 ,\n",
    "106.336567507 ,\n",
    "113.031223791 ,\n",
    "132.499282598 ,\n",
    "98.4223726067 ,\n",
    "102.980979456 ,\n",
    "104.583660622 ,\n",
    "106.526359688 ,\n",
    "130.804125375 ,\n",
    "141.058425775 ,\n",
    "115.010609151 ,\n",
    "134.186246935 ,\n",
    "102.230232014 ,\n",
    "137.790323795 ,\n",
    "145.380501412 ,\n",
    "138.065311419 ,\n",
    "98.3235369524 ,\n",
    "105.34579378 ,\n",
    "130.376110372 ,\n",
    "106.923470213 ,\n",
    "104.567157104 ,\n",
    "109.735883671 ,\n",
    "111.025881961 ,\n",
    "146.228638437 ,\n",
    "108.977200105 ,\n",
    "115.621621913 ,\n",
    "127.735132442 ,\n",
    "114.265098534 ,\n",
    "119.312254325 ,\n",
    "109.751939359 ,\n",
    "111.910611805 ,\n",
    "123.517874961 ,\n",
    "117.916556325 ,\n",
    "114.298294616 ,\n",
    "116.935376574 ,\n",
    "123.354517174 ,\n",
    "118.278870547 ,\n",
    "106.331191226 ,\n",
    "116.494207789 ,\n",
    "106.798500949 ,\n",
    "145.62235145 ,\n",
    "143.717195256 ,\n",
    "126.536368307 ,\n",
    "123.593636978 ,\n",
    "139.623462661 ,\n",
    "121.503740398 ,\n",
    "133.203719403 ,\n",
    "113.372976011 ,\n",
    "107.296650549 ,\n",
    "114.828992577 ,\n",
    "138.151751578 ,\n",
    "106.049175297 ,\n",
    "123.416047005 ,\n",
    "134.003101034 ,\n",
    "113.57936679 ,\n",
    "119.513907567 ,\n",
    "136.358105249 ,\n",
    "135.344391433 ,\n",
    "108.385577933 ,\n",
    "93.5866982007 ,\n",
    "113.55601884 ,\n",
    "136.591127827 ,\n",
    "136.770090972 ,\n",
    "100.581646229 ,\n",
    "145.262928377 ,\n",
    "134.929930685 ,\n",
    "106.057013059 ,\n",
    "90.7874853717 ,\n",
    "125.278009406 ,\n",
    "118.434689553 ,\n",
    "111.261483998 ,\n",
    "111.551775238 ,\n",
    "146.550288185 ,\n",
    "111.042906554 ,\n",
    "117.306982706 ,\n",
    "148.985945144 ,\n",
    "97.144577843 ,\n",
    "120.8391306 ,\n",
    "116.339694171 ,\n",
    "119.060148909 ,\n",
    "128.816958891 ,\n",
    "115.390415861 ,\n",
    "144.385662284 ,\n",
    "126.146708162 ,\n",
    "149.086505658 ,\n",
    "94.7621957944 ,\n",
    "113.079190264 ,\n",
    "149.257826203 ,\n",
    "113.64307757 ,\n",
    "115.940186477 ,\n",
    "141.604961257 ,\n",
    "115.892274867 ,\n",
    "125.742709616 ,\n",
    "143.869140978 ,\n",
    "110.824234996 ,\n",
    "114.380587225 ,\n",
    "120.585608617 ,\n",
    "99.6587560981 ,\n",
    "120.340533695 ,\n",
    "111.569849799 ,\n",
    "99.9165354362 ,\n",
    "114.19402262 ,\n",
    "111.786208167 ,\n",
    "132.721795603 ,\n",
    "103.626698207 ,\n",
    "115.22703027 ,\n",
    "137.732188838 ,\n",
    "121.27873734 ,\n",
    "111.161927907 ,\n",
    "141.111100968 ,\n",
    "138.383025182 ,\n",
    "132.349352098 ,\n",
    "117.216431638 ,\n",
    "118.784355543 ,\n",
    "108.525066318 ,\n",
    "116.717076857 ,\n",
    "119.635855031 ,\n",
    "112.328308613 ,\n",
    "127.126284828 ,\n",
    "123.704252468 ,\n",
    "113.713431738 ,\n",
    "136.606596416 ,\n",
    "102.987820478 ,\n",
    "137.227747848 ,\n",
    "135.816766495 ,\n",
    "115.799459796 ,\n",
    "132.320292255 ,\n",
    "122.812506568 ,\n",
    "139.410723081 ,\n",
    "116.370613242 ,\n",
    "103.300872479 ,\n",
    "126.321863798 ,\n",
    "115.854807124 ,\n",
    "153.964245782 ,\n",
    "132.06102788 ,\n",
    "142.033829429 ,\n",
    "112.283990228 ,\n",
    "128.405908494 ,\n",
    "119.058200209 ,\n",
    "141.259064427 ,\n",
    "122.037738432 ,\n",
    "114.768593626 ,\n",
    "107.991645402 ,\n",
    "122.347076737 ,\n",
    "110.53269814 ,\n",
    "106.382939743 ,\n",
    "127.621901377 ,\n",
    "137.031200534 ,\n",
    "104.592572924 ,\n",
    "133.535283826 ,\n",
    "104.942560859 ,\n",
    "111.691404442 ,\n",
    "116.090079159 ]"
   ]
  },
  {
   "cell_type": "code",
   "execution_count": 70,
   "metadata": {
    "collapsed": false
   },
   "outputs": [
    {
     "data": {
      "text/plain": [
       "[5268.6293101470055,\n",
       " 4612.764394029548,\n",
       " 5307.667452070867,\n",
       " 4192.2784753831,\n",
       " 4052.0751174938596,\n",
       " 4299.587544362434,\n",
       " 5019.353620069255,\n",
       " 3759.474347060617,\n",
       " 3928.013521671654,\n",
       " 3987.2672739279533,\n",
       " 4059.092045821048,\n",
       " 4956.6808762584515,\n",
       " 5335.799186470923,\n",
       " 4372.768668736604,\n",
       " 5081.723459442416,\n",
       " 3900.2571569753964,\n",
       " 5214.972094233638,\n",
       " 5495.593414081998,\n",
       " 5225.1388378703095,\n",
       " 3755.8202307596207,\n",
       " 4015.44458722549,\n",
       " 4940.856459345236,\n",
       " 4073.773873477042,\n",
       " 3986.6571117898598,\n",
       " 4177.753413399217,\n",
       " 4225.446766705092,\n",
       " 5526.950431450695,\n",
       " 4149.703637177731,\n",
       " 4395.358813047931,\n",
       " 4843.215172170731,\n",
       " 4345.205918052755,\n",
       " 4531.807548609922,\n",
       " 4178.347018527448,\n",
       " 4258.156680630749,\n",
       " 4687.296243764106,\n",
       " 4480.206303601835,\n",
       " 4346.433231669735,\n",
       " 4443.930478367203,\n",
       " 4681.256638354507,\n",
       " 4493.601654844967,\n",
       " 4051.876347564324,\n",
       " 4427.61974455179,\n",
       " 4069.1535547475287,\n",
       " 5504.535006794787,\n",
       " 5434.098256476831,\n",
       " 4798.894895264809,\n",
       " 4690.09728983677,\n",
       " 5282.746245775241,\n",
       " 4612.830384341351,\n",
       " 5045.397804532885,\n",
       " 4312.22268465516,\n",
       " 4087.5709627829924,\n",
       " 4366.054006014078,\n",
       " 5228.334672372542,\n",
       " 4041.449755960329,\n",
       " 4683.5314971597345,\n",
       " 5074.952254991505,\n",
       " 4319.853290384042,\n",
       " 4539.262999822948,\n",
       " 5162.02062471998,\n",
       " 5124.541961723043,\n",
       " 4127.830394793212,\n",
       " 3580.6915302884054,\n",
       " 4318.990078365119,\n",
       " 5170.635851753188,\n",
       " 5177.252412852052,\n",
       " 3839.306235638091,\n",
       " 5491.246546073748,\n",
       " 5109.2186678559,\n",
       " 4041.7395308810333,\n",
       " 3477.200039278882,\n",
       " 4752.371302081607,\n",
       " 4499.362539151975,\n",
       " 4234.157360569698,\n",
       " 4244.889903998822,\n",
       " 5538.842350371076,\n",
       " 4226.076193840874,\n",
       " 4457.669366768448,\n",
       " 5628.8925843737115,\n",
       " 3712.2321781446094,\n",
       " 4588.258669671435,\n",
       " 4421.907122580917,\n",
       " 4522.486797746282,\n",
       " 4883.212070963364,\n",
       " 4386.810745961352,\n",
       " 5458.812579268479,\n",
       " 4784.488520381394,\n",
       " 5632.6104715678275,\n",
       " 3624.151604988613,\n",
       " 4301.360943568743,\n",
       " 5638.944473205334,\n",
       " 4322.208782452123,\n",
       " 4407.136667653912,\n",
       " 5356.005499951559,\n",
       " 4405.365296822728,\n",
       " 4769.552031287724,\n",
       " 5439.715939119389,\n",
       " 4217.991547563056,\n",
       " 4349.475724443503,\n",
       " 4578.885546001616,\n",
       " 3805.1854732954375,\n",
       " 4569.82472403622,\n",
       " 4245.558150174265,\n",
       " 3814.7159983684264,\n",
       " 4342.5781248965795,\n",
       " 4253.557274022489,\n",
       " 5027.580290945398,\n",
       " 3951.8868033390827,\n",
       " 4380.770112592255,\n",
       " 5212.822749490225,\n",
       " 4604.511652120322,\n",
       " 4230.476608541868,\n",
       " 5337.746674781318,\n",
       " 5236.885236967396,\n",
       " 5013.81044349045,\n",
       " 4454.321545215639,\n",
       " 4512.290264505874,\n",
       " 4132.9875092478915,\n",
       " 4435.859579661242,\n",
       " 4543.771597648537,\n",
       " 4273.599616945557,\n",
       " 4820.705076933364,\n",
       " 4694.1869259909945,\n",
       " 4324.809891474496,\n",
       " 5171.207750868124,\n",
       " 3928.266445479188,\n",
       " 5194.172738444059,\n",
       " 5142.006442799875,\n",
       " 4401.933771364416,\n",
       " 5012.736053415706,\n",
       " 4661.217616963642,\n",
       " 5274.880914456791,\n",
       " 4423.050251365291,\n",
       " 3939.840491586493,\n",
       " 4790.9643116254765,\n",
       " 4403.980052889984,\n",
       " 5812.9485269525185,\n",
       " 5003.150624091996,\n",
       " 5371.861459922514,\n",
       " 4271.961093538094,\n",
       " 4868.014863368117,\n",
       " 4522.414751110013,\n",
       " 5343.217126626992,\n",
       " 4632.573167798999,\n",
       " 4363.820957697908,\n",
       " 4113.266062789593,\n",
       " 4644.009912472052,\n",
       " 4207.2129516667055,\n",
       " 4053.7895751425835,\n",
       " 4839.028833917333,\n",
       " 5186.9060617665855,\n",
       " 3987.596776355476,\n",
       " 5057.656285255211,\n",
       " 4000.5364045442457,\n",
       " 4250.052224762976,\n",
       " 4412.678446039208]"
      ]
     },
     "execution_count": 70,
     "metadata": {},
     "output_type": "execute_result"
    }
   ],
   "source": [
    "map (lambda x: x * 36.9716407189 + 120.637748344, ridge2)"
   ]
  },
  {
   "cell_type": "markdown",
   "metadata": {},
   "source": [
    "---\n",
    "## Regression Trees\n",
    "---\n",
    "\n",
    "In this section, we'll try regression trees to see if they improve our model.\n",
    "\n",
    "Below, we have a function that we'll use to find the $r^2$ value for a given number of folds and certain hyperparameter."
   ]
  },
  {
   "cell_type": "code",
   "execution_count": 25,
   "metadata": {
    "collapsed": true
   },
   "outputs": [],
   "source": [
    "from sklearn.tree import DecisionTreeRegressor\n",
    "def rtree_k_fold_r_squared(x_train, y_train, num_folds, param_val):\n",
    "    n_train = x_train.shape[0]\n",
    "    n = int(np.round(n_train * 1. / num_folds)) # points per fold\n",
    "\n",
    "    # Iterate over folds\n",
    "    cv_r_squared = 0\n",
    "    \n",
    "    for fold in range(1, num_folds + 1):\n",
    "        # Take k-1 folds for training \n",
    "        x_first_half = x_train.iloc[:n * (fold - 1), :]\n",
    "        x_second_half = x_train.iloc[n * fold + 1:, :]\n",
    "        x_train_cv = np.concatenate((x_first_half, x_second_half), axis=0)\n",
    "        \n",
    "        y_first_half = y_train.iloc[:n * (fold - 1)]\n",
    "        y_second_half = y_train.iloc[n * fold + 1:]\n",
    "        y_train_cv = np.concatenate((y_first_half, y_second_half), axis=0)\n",
    "        \n",
    "        # Take the middle fold for testing\n",
    "        x_test_cv = x_train.iloc[1 + n * (fold - 1):n * fold, :]\n",
    "        y_test_cv = y_train.iloc[1 + n * (fold - 1):n * fold]\n",
    "\n",
    "        # Fit Decision Tree model with parameter value on CV train set, and evaluate CV test performance\n",
    "        reg = DecisionTreeRegressor(max_depth=param_val)\n",
    "        reg.fit(x_train_cv, y_train_cv)\n",
    "        r_squared = reg.score(x_test_cv, y_test_cv)\n",
    "    \n",
    "        # Cummulative R^2 value across folds\n",
    "        cv_r_squared += r_squared\n",
    "\n",
    "    # Return average R^2 value across folds\n",
    "    return cv_r_squared * 1.0 / num_folds"
   ]
  },
  {
   "cell_type": "markdown",
   "metadata": {},
   "source": [
    "### Cardiovascular Diseases\n",
    "\n",
    "For cardiovascular diseases, we see the best $r^2 = .44$ for max_depth = 2. "
   ]
  },
  {
   "cell_type": "code",
   "execution_count": 26,
   "metadata": {
    "collapsed": false
   },
   "outputs": [
    {
     "name": "stdout",
     "output_type": "stream",
     "text": [
      "2 0.424335403226\n",
      "3 0.313078907323\n",
      "4 0.230103986075\n",
      "5 0.154881054117\n",
      "10 0.0746420574928\n",
      "50 0.217683941889\n",
      "100 0.0820025125761\n"
     ]
    }
   ],
   "source": [
    "for depth in [2, 3, 4, 5, 10, 50, 100]:\n",
    "    print depth, rtree_k_fold_r_squared(x_df,cardio_df,5, depth)"
   ]
  },
  {
   "cell_type": "markdown",
   "metadata": {},
   "source": [
    "### Diabetes\n",
    "\n",
    "For diabetes, we see the best $r^2$ of $.157$ for a max-depth of 2."
   ]
  },
  {
   "cell_type": "code",
   "execution_count": 27,
   "metadata": {
    "collapsed": false
   },
   "outputs": [
    {
     "name": "stdout",
     "output_type": "stream",
     "text": [
      "2 0.135877261593\n",
      "3 0.0669070393589\n",
      "4 -0.0048575681988\n",
      "5 0.0545434405144\n",
      "10 -0.150080332407\n",
      "50 -0.299664889236\n",
      "100 -0.305172491679\n"
     ]
    }
   ],
   "source": [
    "for depth in [2, 3, 4, 5, 10, 50, 100]:\n",
    "    print depth, rtree_k_fold_r_squared(x_df,diabetes_df,5, depth)"
   ]
  },
  {
   "cell_type": "markdown",
   "metadata": {},
   "source": [
    "### Cancer\n",
    "\n",
    "All of the $r^2$ for decision trees on cancer were negative, indicating that these actually perform worse than the null model and as such are not useful models to examine."
   ]
  },
  {
   "cell_type": "code",
   "execution_count": 28,
   "metadata": {
    "collapsed": false
   },
   "outputs": [
    {
     "name": "stdout",
     "output_type": "stream",
     "text": [
      "2 -0.908504830182\n",
      "3 -0.914686106965\n",
      "5 -1.02371038451\n",
      "8 -1.17331433126\n",
      "9 -0.92569309602\n",
      "10 -1.11543087937\n",
      "20 -1.41288087569\n",
      "50 -1.3521432352\n",
      "70 -0.972645342176\n",
      "100 -1.15913214825\n"
     ]
    }
   ],
   "source": [
    "for depth in [2, 3, 5, 8, 9, 10, 20, 50, 70, 100]:\n",
    "    print depth, rtree_k_fold_r_squared(x_df,cancer_df,5, depth)"
   ]
  },
  {
   "cell_type": "code",
   "execution_count": null,
   "metadata": {
    "collapsed": true
   },
   "outputs": [],
   "source": []
  },
  {
   "cell_type": "code",
   "execution_count": null,
   "metadata": {
    "collapsed": true
   },
   "outputs": [],
   "source": []
  },
  {
   "cell_type": "code",
   "execution_count": null,
   "metadata": {
    "collapsed": true
   },
   "outputs": [],
   "source": []
  },
  {
   "cell_type": "code",
   "execution_count": null,
   "metadata": {
    "collapsed": true
   },
   "outputs": [],
   "source": []
  }
 ],
 "metadata": {
  "anaconda-cloud": {},
  "kernelspec": {
   "display_name": "Python [Root]",
   "language": "python",
   "name": "Python [Root]"
  },
  "language_info": {
   "codemirror_mode": {
    "name": "ipython",
    "version": 2
   },
   "file_extension": ".py",
   "mimetype": "text/x-python",
   "name": "python",
   "nbconvert_exporter": "python",
   "pygments_lexer": "ipython2",
   "version": "2.7.12"
  }
 },
 "nbformat": 4,
 "nbformat_minor": 0
}
