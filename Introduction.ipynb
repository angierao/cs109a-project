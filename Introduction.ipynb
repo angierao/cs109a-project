{
 "cells": [
  {
   "cell_type": "markdown",
   "metadata": {
    "collapsed": true
   },
   "source": [
    "--- \n",
    "# Introduction \n",
    "***\n",
    "\n",
    "While researchers have found that diet is correlated with non-communicable diseases, a majority of previous research on nutrition has contradictory results. The New York Times article, We’re So Confused: The Problems with Food and Exercise Studies, by Gina Kolata highlights the inconsistency of nutritional advice as a result of contradictory research. There are countless studies conducted on the human body but in establishing a correlation between diet and health, it is difficult to parse out causal factors from the surrounding noise. The likelihood of developing a disease is holistically determined by many factors including exercise, diet, and genetics. Thus in designing studies, it is impossible to hold a controlled experiment due to the diversity of parameter values. Furthermore, since the pool of human data is so large and scattered, contradictory results can be drawn based on which subset of data was selected. \n",
    "\n",
    "As a result, there is still substantial ongoing research as to how elements of diets actually contribute to the likelihood that a person will develop a certain non-communicable disease. In Walter Willet's article *Diet and Health: What Should We Eat?*, Willet aims to go beyond general “healthy eating” and pinpoint the factors that cause certain adverse effects, including disease and obesity. In a study of diet and coronary heart disease in seven countries, there was no relationship between total fat intake and coronary heart disease risk; however, there was a strong correlation between saturated fat intake and rates of coronary heart disease. Although animal studies seem to show a high correlation between higher saturated fat consumption and rates of breast cancer, human case-control studies have shown a weak association between fat consumption and breast cancer. "
   ]
  },
  {
   "cell_type": "markdown",
   "metadata": {},
   "source": [
    "# Project Goals\n",
    "\n",
    "The primary goal of this project is to model disease mortality rates using the consumption of various foods. Given a country's **input consumptions of predictors**, we would like to predict the mortality rates of cancer, diabetes, and cardiovascular diseases. \n",
    "\n",
    "In addition to actually predicting mortality rates, we hope that this model will give us a better understanding of what factors contribute to disease mortality rates. Using our model, we can learn more about the impact of consumption of each type of predictor on disease mortality rates. For example, by looking at the coefficient for each predictor, we can see whether the predictor has a positive or negative impact on disease mortality and understand the magnitude of that effect.\n",
    "\n",
    "We also aim to grow our own technical skills and statistical toolset by trying various methods to improve our naive model and performing a thorough analysis of what method is best to use and what pros and cons each method might have.\n"
   ]
  },
  {
   "cell_type": "markdown",
   "metadata": {
    "collapsed": true
   },
   "source": []
  }
 ],
 "metadata": {
  "anaconda-cloud": {},
  "kernelspec": {
   "display_name": "Python [Root]",
   "language": "python",
   "name": "Python [Root]"
  },
  "language_info": {
   "codemirror_mode": {
    "name": "ipython",
    "version": 2
   },
   "file_extension": ".py",
   "mimetype": "text/x-python",
   "name": "python",
   "nbconvert_exporter": "python",
   "pygments_lexer": "ipython2",
   "version": "2.7.12"
  }
 },
 "nbformat": 4,
 "nbformat_minor": 0
}
