{
 "cells": [
  {
   "cell_type": "code",
   "execution_count": 2,
   "metadata": {
    "collapsed": true
   },
   "outputs": [],
   "source": [
    "import numpy as np\n",
    "import matplotlib \n",
    "import matplotlib.pyplot as plt\n",
    "from mpl_toolkits.mplot3d import Axes3D\n",
    "import matplotlib.cm as cmx\n",
    "import matplotlib.colors as colors\n",
    "import pandas as pd\n",
    "import math\n",
    "from sklearn.linear_model import Lasso as Lasso_Reg\n",
    "from sklearn import linear_model\n",
    "from sklearn.feature_extraction.text import CountVectorizer\n",
    "from sklearn.neighbors import KNeighborsClassifier as KNN\n",
    "from sklearn.cross_validation import KFold\n",
    "from sklearn.cross_validation import cross_val_score as val_score\n",
    "from sklearn.linear_model import LinearRegression as LinReg\n",
    "from sklearn.linear_model import LogisticRegression as LogReg\n",
    "from sklearn.decomposition import PCA\n",
    "from sklearn.cross_validation import train_test_split as sk_split\n",
    "import statsmodels.api as sm\n",
    "import pycountry\n",
    "import matplotlib.pyplot as plt\n",
    "import matplotlib as mpl\n",
    "import cartopy\n",
    "import cartopy.io.shapereader as shpreader\n",
    "import cartopy.crs as ccrs\n",
    "\n",
    "%matplotlib inline"
   ]
  },
  {
   "cell_type": "code",
   "execution_count": 3,
   "metadata": {
    "collapsed": false
   },
   "outputs": [],
   "source": [
    "#read in crops\n",
    "allcrops_2000 = pd.read_csv('datasets/allcrops_2000.csv')\n",
    "# names of all the crops\n",
    "crop_names = allcrops_2000['ItemName'].unique()\n",
    "\n",
    "# remove nan\n",
    "crop_names = crop_names[:-1]\n",
    "# list to put our separated crop dataframes\n",
    "all_crop_dfs = []\n",
    "\n",
    "# find each crop-separated df and put it in the list of dataframes\n",
    "for crop in crop_names:\n",
    "    crop_df = allcrops_2000[(allcrops_2000['ItemName'] == crop)]\n",
    "    all_crop_dfs.append(crop_df)\n"
   ]
  },
  {
   "cell_type": "code",
   "execution_count": 4,
   "metadata": {
    "collapsed": false
   },
   "outputs": [
    {
     "name": "stdout",
     "output_type": "stream",
     "text": [
      "['Population' 'Bovine Meat' 'Mutton & Goat Meat' 'Pigmeat' 'Poultry Meat'\n",
      " 'Meat, Other' 'Offals, Edible' 'Fats, Animals, Raw' 'Milk, Whole'\n",
      " 'Butter, Ghee' 'Cheese' 'Cream' 'Eggs' 'Honey' 'Freshwater Fish'\n",
      " 'Demersal Fish' 'Pelagic Fish' 'Marine Fish, Other' 'Crustaceans'\n",
      " 'Cephalopods' 'Molluscs, Other' 'Aquatic Plants' 'Fish, Body Oil'\n",
      " 'Fish, Liver Oil' 'Milk - Excluding Butter' 'Meat' 'Offals' 'Animal fats'\n",
      " 'Fish, Seafood' 'Aquatic Products, Other' 'Grand Total' 'Animal Products'\n",
      " 'Aquatic Animals, Others' 'Whey' 'Meat Meal' 'Meat, Aquatic Mammals'\n",
      " 'Hides and skins']\n"
     ]
    }
   ],
   "source": [
    "# Do the same as above, but for livestock\n",
    "livestock_2000 = pd.read_csv('datasets/livestock_2000.csv')\n",
    "# list of livestock names\n",
    "livestock_names = livestock_2000['ItemName'].unique()\n",
    "livestock_names = livestock_names[:-1]\n",
    "\n",
    "# list to put our separated dataframes\n",
    "livestock_dfs = []\n",
    "\n",
    "# separate dataframe based on itemname\n",
    "for crop in livestock_names:\n",
    "    crop_df = livestock_2000[(livestock_2000['ItemName'] == crop)]\n",
    "    livestock_dfs.append(crop_df)\n",
    "\n",
    "print livestock_names\n"
   ]
  },
  {
   "cell_type": "code",
   "execution_count": 5,
   "metadata": {
    "collapsed": false
   },
   "outputs": [],
   "source": [
    "# read in disease rates\n",
    "column_headers = [\"Country\", \"Year\", \"Mortality\", \"Mortality 2\", \"Mortality 3\"]\n",
    "diabetes = pd.read_csv('datasets/diabetes.csv', names = column_headers)\n",
    "cardio = pd.read_csv('datasets/cardiovascular.csv', names = column_headers)\n",
    "cancer= pd.read_csv('datasets/Cancer.csv', names = column_headers)"
   ]
  },
  {
   "cell_type": "code",
   "execution_count": 6,
   "metadata": {
    "collapsed": false
   },
   "outputs": [
    {
     "data": {
      "text/html": [
       "<div>\n",
       "<table border=\"1\" class=\"dataframe\">\n",
       "  <thead>\n",
       "    <tr style=\"text-align: right;\">\n",
       "      <th></th>\n",
       "      <th>Country</th>\n",
       "      <th>Year</th>\n",
       "      <th>Mortality</th>\n",
       "    </tr>\n",
       "  </thead>\n",
       "  <tbody>\n",
       "    <tr>\n",
       "      <th>3</th>\n",
       "      <td>Afghanistan</td>\n",
       "      <td>2012</td>\n",
       "      <td>511.5</td>\n",
       "    </tr>\n",
       "    <tr>\n",
       "      <th>4</th>\n",
       "      <td>Afghanistan</td>\n",
       "      <td>2000</td>\n",
       "      <td>542.3</td>\n",
       "    </tr>\n",
       "    <tr>\n",
       "      <th>5</th>\n",
       "      <td>Albania</td>\n",
       "      <td>2012</td>\n",
       "      <td>436.2</td>\n",
       "    </tr>\n",
       "    <tr>\n",
       "      <th>6</th>\n",
       "      <td>Albania</td>\n",
       "      <td>2000</td>\n",
       "      <td>560.5</td>\n",
       "    </tr>\n",
       "    <tr>\n",
       "      <th>7</th>\n",
       "      <td>Algeria</td>\n",
       "      <td>2012</td>\n",
       "      <td>396.6</td>\n",
       "    </tr>\n",
       "  </tbody>\n",
       "</table>\n",
       "</div>"
      ],
      "text/plain": [
       "       Country  Year Mortality\n",
       "3  Afghanistan  2012     511.5\n",
       "4  Afghanistan  2000     542.3\n",
       "5      Albania  2012     436.2\n",
       "6      Albania  2000     560.5\n",
       "7      Algeria  2012     396.6"
      ]
     },
     "execution_count": 6,
     "metadata": {},
     "output_type": "execute_result"
    }
   ],
   "source": [
    "cardio.iloc[3:, 0:3].head(n=5)\n",
    "#cardio.columns = ['Country', 'Year', 'Mortality']"
   ]
  },
  {
   "cell_type": "code",
   "execution_count": 26,
   "metadata": {
    "collapsed": false
   },
   "outputs": [
    {
     "data": {
      "text/html": [
       "<div>\n",
       "<table border=\"1\" class=\"dataframe\">\n",
       "  <thead>\n",
       "    <tr style=\"text-align: right;\">\n",
       "      <th></th>\n",
       "      <th>Country</th>\n",
       "      <th>Year</th>\n",
       "      <th>Mortality</th>\n",
       "      <th>Mortality 2</th>\n",
       "      <th>Mortality 3</th>\n",
       "    </tr>\n",
       "  </thead>\n",
       "  <tbody>\n",
       "    <tr>\n",
       "      <th>4</th>\n",
       "      <td>Afghanistan</td>\n",
       "      <td>2000</td>\n",
       "      <td>542.3</td>\n",
       "      <td>554.1</td>\n",
       "      <td>523.1</td>\n",
       "    </tr>\n",
       "    <tr>\n",
       "      <th>6</th>\n",
       "      <td>Albania</td>\n",
       "      <td>2000</td>\n",
       "      <td>560.5</td>\n",
       "      <td>494.7</td>\n",
       "      <td>638.6</td>\n",
       "    </tr>\n",
       "    <tr>\n",
       "      <th>8</th>\n",
       "      <td>Algeria</td>\n",
       "      <td>2000</td>\n",
       "      <td>434.7</td>\n",
       "      <td>401.2</td>\n",
       "      <td>472.2</td>\n",
       "    </tr>\n",
       "    <tr>\n",
       "      <th>10</th>\n",
       "      <td>Angola</td>\n",
       "      <td>2000</td>\n",
       "      <td>383.4</td>\n",
       "      <td>385.2</td>\n",
       "      <td>375.2</td>\n",
       "    </tr>\n",
       "    <tr>\n",
       "      <th>12</th>\n",
       "      <td>Argentina</td>\n",
       "      <td>2000</td>\n",
       "      <td>226.6</td>\n",
       "      <td>169.1</td>\n",
       "      <td>302.8</td>\n",
       "    </tr>\n",
       "  </tbody>\n",
       "</table>\n",
       "</div>"
      ],
      "text/plain": [
       "        Country  Year Mortality Mortality 2 Mortality 3\n",
       "4   Afghanistan  2000     542.3       554.1       523.1\n",
       "6       Albania  2000     560.5       494.7       638.6\n",
       "8       Algeria  2000     434.7       401.2       472.2\n",
       "10       Angola  2000     383.4       385.2       375.2\n",
       "12    Argentina  2000     226.6       169.1       302.8"
      ]
     },
     "execution_count": 26,
     "metadata": {},
     "output_type": "execute_result"
    }
   ],
   "source": [
    "cardio_2012 = cardio[(cardio[\"Year\"] == \"2012\")] \n",
    "cardio_2000 = cardio[(cardio[\"Year\"] == \"2000\")] \n",
    "cardio_2000.head(n=5)"
   ]
  },
  {
   "cell_type": "code",
   "execution_count": 8,
   "metadata": {
    "collapsed": false
   },
   "outputs": [],
   "source": [
    "diabetes_2012 = diabetes[(diabetes['Year'] == '2012')] \n",
    "diabetes_2000 = diabetes[(diabetes['Year'] == '2000')] "
   ]
  },
  {
   "cell_type": "code",
   "execution_count": 11,
   "metadata": {
    "collapsed": false
   },
   "outputs": [
    {
     "data": {
      "text/html": [
       "<div>\n",
       "<table border=\"1\" class=\"dataframe\">\n",
       "  <thead>\n",
       "    <tr style=\"text-align: right;\">\n",
       "      <th></th>\n",
       "      <th>Country</th>\n",
       "      <th>Year</th>\n",
       "      <th>Mortality</th>\n",
       "      <th>Mortality 2</th>\n",
       "      <th>Mortality 3</th>\n",
       "    </tr>\n",
       "  </thead>\n",
       "  <tbody>\n",
       "    <tr>\n",
       "      <th>4</th>\n",
       "      <td>Afghanistan</td>\n",
       "      <td>2000</td>\n",
       "      <td>122.9</td>\n",
       "      <td>107.9</td>\n",
       "      <td>143.6</td>\n",
       "    </tr>\n",
       "    <tr>\n",
       "      <th>6</th>\n",
       "      <td>Albania</td>\n",
       "      <td>2000</td>\n",
       "      <td>137.7</td>\n",
       "      <td>109.0</td>\n",
       "      <td>169.4</td>\n",
       "    </tr>\n",
       "    <tr>\n",
       "      <th>8</th>\n",
       "      <td>Algeria</td>\n",
       "      <td>2000</td>\n",
       "      <td>75.1</td>\n",
       "      <td>77.8</td>\n",
       "      <td>72.6</td>\n",
       "    </tr>\n",
       "    <tr>\n",
       "      <th>10</th>\n",
       "      <td>Angola</td>\n",
       "      <td>2000</td>\n",
       "      <td>74.8</td>\n",
       "      <td>73.4</td>\n",
       "      <td>80.3</td>\n",
       "    </tr>\n",
       "    <tr>\n",
       "      <th>12</th>\n",
       "      <td>Argentina</td>\n",
       "      <td>2000</td>\n",
       "      <td>136.8</td>\n",
       "      <td>112.1</td>\n",
       "      <td>173.3</td>\n",
       "    </tr>\n",
       "  </tbody>\n",
       "</table>\n",
       "</div>"
      ],
      "text/plain": [
       "        Country   Year Mortality Mortality 2 Mortality 3\n",
       "4   Afghanistan   2000     122.9       107.9       143.6\n",
       "6       Albania   2000     137.7       109.0       169.4\n",
       "8       Algeria   2000      75.1        77.8        72.6\n",
       "10       Angola   2000      74.8        73.4        80.3\n",
       "12    Argentina   2000     136.8       112.1       173.3"
      ]
     },
     "execution_count": 11,
     "metadata": {},
     "output_type": "execute_result"
    }
   ],
   "source": [
    "cancer_2012 = cancer[(cancer['Year'] == ' 2012')] \n",
    "cancer_2000 = cancer[(cancer['Year'] == ' 2000')] \n",
    "cancer_2000.head(n=5)"
   ]
  },
  {
   "cell_type": "code",
   "execution_count": 17,
   "metadata": {
    "collapsed": false
   },
   "outputs": [
    {
     "data": {
      "text/plain": [
       "array([nan, 'Country', 'Afghanistan', 'Albania', 'Algeria', 'Angola',\n",
       "       'Argentina', 'Armenia', 'Australia', 'Austria', 'Azerbaijan',\n",
       "       'Bahamas', 'Bahrain', 'Bangladesh', 'Barbados', 'Belarus',\n",
       "       'Belgium', 'Belize', 'Benin', 'Bhutan',\n",
       "       'Bolivia (Plurinational State of)', 'Bosnia and Herzegovina',\n",
       "       'Botswana', 'Brazil', 'Brunei Darussalam', 'Bulgaria',\n",
       "       'Burkina Faso', 'Burundi', \"Cote d'Ivoire\", 'Cabo Verde',\n",
       "       'Cambodia', 'Cameroon', 'Canada', 'Central African Republic',\n",
       "       'Chad', 'Chile', 'China', 'Colombia', 'Comoros', 'Congo',\n",
       "       'Costa Rica', 'Croatia', 'Cuba', 'Cyprus', 'Czech Republic',\n",
       "       \"Democratic People's Republic of Korea\",\n",
       "       'Democratic Republic of the Congo', 'Denmark', 'Djibouti',\n",
       "       'Dominican Republic', 'Ecuador', 'Egypt', 'El Salvador',\n",
       "       'Equatorial Guinea', 'Eritrea', 'Estonia', 'Ethiopia', 'Fiji',\n",
       "       'Finland', 'France', 'Gabon', 'Gambia', 'Georgia', 'Germany',\n",
       "       'Ghana', 'Greece', 'Guatemala', 'Guinea', 'Guinea-Bissau', 'Guyana',\n",
       "       'Haiti', 'Honduras', 'Hungary', 'Iceland', 'India', 'Indonesia',\n",
       "       'Iran (Islamic Republic of)', 'Iraq', 'Ireland', 'Israel', 'Italy',\n",
       "       'Jamaica', 'Japan', 'Jordan', 'Kazakhstan', 'Kenya', 'Kuwait',\n",
       "       'Kyrgyzstan', \"Lao People's Democratic Republic\", 'Latvia',\n",
       "       'Lebanon', 'Lesotho', 'Liberia', 'Libya', 'Lithuania', 'Luxembourg',\n",
       "       'Madagascar', 'Malawi', 'Malaysia', 'Maldives', 'Mali', 'Malta',\n",
       "       'Mauritania', 'Mauritius', 'Mexico', 'Mongolia', 'Montenegro',\n",
       "       'Morocco', 'Mozambique', 'Myanmar', 'Namibia', 'Nepal',\n",
       "       'Netherlands', 'New Zealand', 'Nicaragua', 'Niger', 'Nigeria',\n",
       "       'Norway', 'Oman', 'Pakistan', 'Panama', 'Papua New Guinea',\n",
       "       'Paraguay', 'Peru', 'Philippines', 'Poland', 'Portugal', 'Qatar',\n",
       "       'Republic of Korea', 'Republic of Moldova', 'Romania',\n",
       "       'Russian Federation', 'Rwanda', 'Saudi Arabia', 'Senegal', 'Serbia',\n",
       "       'Sierra Leone', 'Singapore', 'Slovakia', 'Slovenia',\n",
       "       'Solomon Islands', 'Somalia', 'South Africa', 'South Sudan',\n",
       "       'Spain', 'Sri Lanka', 'Sudan', 'Suriname', 'Swaziland', 'Sweden',\n",
       "       'Switzerland', 'Syrian Arab Republic', 'Tajikistan', 'Thailand',\n",
       "       'The former Yugoslav republic of Macedonia', 'Timor-Leste', 'Togo',\n",
       "       'Trinidad and Tobago', 'Tunisia', 'Turkey', 'Turkmenistan',\n",
       "       'Uganda', 'Ukraine', 'United Arab Emirates',\n",
       "       'United Kingdom of Great Britain and Northern Ireland',\n",
       "       'United Republic of Tanzania', 'United States of America',\n",
       "       'Uruguay', 'Uzbekistan', 'Venezuela (Bolivarian Republic of)',\n",
       "       'Viet Nam', 'Yemen', 'Zambia'], dtype=object)"
      ]
     },
     "execution_count": 17,
     "metadata": {},
     "output_type": "execute_result"
    }
   ],
   "source": [
    "# obtain all countries with crop data\n",
    "country_names = cardio['Country'].unique()\n",
    "country_names = country_names[:-1]\n",
    "country_names"
   ]
  },
  {
   "cell_type": "code",
   "execution_count": 84,
   "metadata": {
    "collapsed": false
   },
   "outputs": [
    {
     "name": "stdout",
     "output_type": "stream",
     "text": [
      "438.3\n"
     ]
    }
   ],
   "source": [
    "cardio_new = cardio_2000[['Country', 'Mortality']]\n",
    "def serbia():\n",
    "    for index, country in enumerate(cardio_new[\"Country\"]):\n",
    "        if country == \"Serbia\":\n",
    "            serbia_mort = cardio_new.iloc[index, :]\n",
    "            return serbia_mort\n",
    "def montenegro():\n",
    "    for index, country in enumerate(cardio_new[\"Country\"]):\n",
    "        if country == \"Montenegro\":\n",
    "            montenegro_mort = cardio_new.iloc[index, :]\n",
    "            return montenegro_mort\n",
    "\n",
    "serbia_mort = serbia()\n",
    "serbia_mort =  float(serbia_mort[1])\n",
    "montenegro_mort = montenegro()\n",
    "montenegro_mort = float(montenegro_mort[1])\n",
    "serbia_mont = (serbia_mort +  montenegro_mort)/2\n",
    "print serbia_mont"
   ]
  },
  {
   "cell_type": "code",
   "execution_count": 31,
   "metadata": {
    "collapsed": false
   },
   "outputs": [],
   "source": [
    "input_countries = country_names\n",
    "\n",
    "counter = 1\n",
    "for each in range(1, len(input_countries)):\n",
    "    if input_countries[counter] == 'The former Yugoslav republic of Macedonia':\n",
    "        input_countries[counter] = 'The former Yugoslav Republic of Macedonia'\n",
    "    if input_countries[counter] == 'United Kingdom of Great Britain and Northern Ireland':\n",
    "        input_countries[counter] = 'United Kingdom'\n",
    "    if input_countries[counter] == \"Sudan\":\n",
    "        input_countries[counter] = 'Sudan (former)'\n",
    "    if input_countries[counter] == 'Czech Republic':\n",
    "        input_countries[counter] = 'Czechia'\n",
    "    if input_countries[counter] == 'Serbia':\n",
    "        input_countries[counter] = 'Serbia and Montenegro'\n",
    "    counter = counter + 1"
   ]
  },
  {
   "cell_type": "code",
   "execution_count": 19,
   "metadata": {
    "collapsed": false
   },
   "outputs": [
    {
     "data": {
      "text/plain": [
       "array([nan, 'Country', 'Afghanistan', 'Albania', 'Algeria', 'Angola',\n",
       "       'Argentina', 'Armenia', 'Australia', 'Austria', 'Azerbaijan',\n",
       "       'Bahamas', 'Bahrain', 'Bangladesh', 'Barbados', 'Belarus',\n",
       "       'Belgium', 'Belize', 'Benin', 'Bhutan',\n",
       "       'Bolivia (Plurinational State of)', 'Bosnia and Herzegovina',\n",
       "       'Botswana', 'Brazil', 'Brunei Darussalam', 'Bulgaria',\n",
       "       'Burkina Faso', 'Burundi', \"Cote d'Ivoire\", 'Cabo Verde',\n",
       "       'Cambodia', 'Cameroon', 'Canada', 'Central African Republic',\n",
       "       'Chad', 'Chile', 'China', 'Colombia', 'Comoros', 'Congo',\n",
       "       'Costa Rica', 'Croatia', 'Cuba', 'Cyprus', 'Czechia',\n",
       "       \"Democratic People's Republic of Korea\",\n",
       "       'Democratic Republic of the Congo', 'Denmark', 'Djibouti',\n",
       "       'Dominican Republic', 'Ecuador', 'Egypt', 'El Salvador',\n",
       "       'Equatorial Guinea', 'Eritrea', 'Estonia', 'Ethiopia', 'Fiji',\n",
       "       'Finland', 'France', 'Gabon', 'Gambia', 'Georgia', 'Germany',\n",
       "       'Ghana', 'Greece', 'Guatemala', 'Guinea', 'Guinea-Bissau', 'Guyana',\n",
       "       'Haiti', 'Honduras', 'Hungary', 'Iceland', 'India', 'Indonesia',\n",
       "       'Iran (Islamic Republic of)', 'Iraq', 'Ireland', 'Israel', 'Italy',\n",
       "       'Jamaica', 'Japan', 'Jordan', 'Kazakhstan', 'Kenya', 'Kuwait',\n",
       "       'Kyrgyzstan', \"Lao People's Democratic Republic\", 'Latvia',\n",
       "       'Lebanon', 'Lesotho', 'Liberia', 'Libya', 'Lithuania', 'Luxembourg',\n",
       "       'Madagascar', 'Malawi', 'Malaysia', 'Maldives', 'Mali', 'Malta',\n",
       "       'Mauritania', 'Mauritius', 'Mexico', 'Mongolia', 'Montenegro',\n",
       "       'Morocco', 'Mozambique', 'Myanmar', 'Namibia', 'Nepal',\n",
       "       'Netherlands', 'New Zealand', 'Nicaragua', 'Niger', 'Nigeria',\n",
       "       'Norway', 'Oman', 'Pakistan', 'Panama', 'Papua New Guinea',\n",
       "       'Paraguay', 'Peru', 'Philippines', 'Poland', 'Portugal', 'Qatar',\n",
       "       'Republic of Korea', 'Republic of Moldova', 'Romania',\n",
       "       'Russian Federation', 'Rwanda', 'Saudi Arabia', 'Senegal', 'Serbia',\n",
       "       'Sierra Leone', 'Singapore', 'Slovakia', 'Slovenia',\n",
       "       'Solomon Islands', 'Somalia', 'South Africa', 'South Sudan',\n",
       "       'Spain', 'Sri Lanka', 'Sudan (former)', 'Suriname', 'Swaziland',\n",
       "       'Sweden', 'Switzerland', 'Syrian Arab Republic', 'Tajikistan',\n",
       "       'Thailand', 'The former Yugoslav Republic of Macedonia',\n",
       "       'Timor-Leste', 'Togo', 'Trinidad and Tobago', 'Tunisia', 'Turkey',\n",
       "       'Turkmenistan', 'Uganda', 'Ukraine', 'United Arab Emirates',\n",
       "       'United Kingdom', 'United Republic of Tanzania',\n",
       "       'United States of America', 'Uruguay', 'Uzbekistan',\n",
       "       'Venezuela (Bolivarian Republic of)', 'Viet Nam', 'Yemen', 'Zambia'], dtype=object)"
      ]
     },
     "execution_count": 19,
     "metadata": {},
     "output_type": "execute_result"
    }
   ],
   "source": [
    "input_countries"
   ]
  },
  {
   "cell_type": "code",
   "execution_count": null,
   "metadata": {
    "collapsed": true
   },
   "outputs": [],
   "source": []
  },
  {
   "cell_type": "code",
   "execution_count": null,
   "metadata": {
    "collapsed": true
   },
   "outputs": [],
   "source": []
  }
 ],
 "metadata": {
  "anaconda-cloud": {},
  "kernelspec": {
   "display_name": "Python [Root]",
   "language": "python",
   "name": "Python [Root]"
  },
  "language_info": {
   "codemirror_mode": {
    "name": "ipython",
    "version": 2
   },
   "file_extension": ".py",
   "mimetype": "text/x-python",
   "name": "python",
   "nbconvert_exporter": "python",
   "pygments_lexer": "ipython2",
   "version": "2.7.12"
  }
 },
 "nbformat": 4,
 "nbformat_minor": 0
}
