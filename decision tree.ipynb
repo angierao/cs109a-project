{
 "cells": [
  {
   "cell_type": "code",
   "execution_count": 80,
   "metadata": {
    "collapsed": false
   },
   "outputs": [],
   "source": [
    "import numpy as np\n",
    "import matplotlib \n",
    "import matplotlib.pyplot as plt\n",
    "from mpl_toolkits.mplot3d import Axes3D\n",
    "import matplotlib.cm as cmx\n",
    "import matplotlib.colors as colors\n",
    "import pandas as pd\n",
    "import math\n",
    "from sklearn.grid_search import GridSearchCV\n",
    "from sklearn.linear_model import Lasso as Lasso_Reg\n",
    "from sklearn.cross_validation import KFold\n",
    "from sklearn.tree import DecisionTreeRegressor\n",
    "from sklearn.cross_validation import cross_val_score\n",
    "from sklearn.linear_model import LinearRegression as LinReg\n",
    "from sklearn.cross_validation import train_test_split as sk_split\n",
    "%matplotlib inline"
   ]
  },
  {
   "cell_type": "markdown",
   "metadata": {},
   "source": [
    "---\n",
    "# Decision Tree Regressor\n",
    "--- \n",
    "\n",
    "We will attempt to improve upon our naive Linear regression model by attempting a decision tree regressor technique.\n",
    "\n",
    "We start by reading in the data from the filled-in predictors dataframe, as well as the desired predicted values for each of the diseases."
   ]
  },
  {
   "cell_type": "code",
   "execution_count": 81,
   "metadata": {
    "collapsed": false
   },
   "outputs": [],
   "source": [
    "# Read in predictors\n",
    "x_df = pd.read_csv('datasets/predictors_filled.csv')\n",
    "\n",
    "# read in disease rates\n",
    "diabetes_df = pd.read_csv('datasets/diabetes_df.csv',index_col = 0)\n",
    "cardio_df = pd.read_csv('datasets/cardio_df.csv',index_col = 0)\n",
    "cancer_df= pd.read_csv('datasets/cancer_df.csv',index_col = 0)"
   ]
  },
  {
   "cell_type": "markdown",
   "metadata": {},
   "source": [
    "# Initial Regression Models\n",
    "\n",
    "Without training/ testing, we're able to achieve an $R^2$ score of 1.0. However, this model would clearly be severley overfitted."
   ]
  },
  {
   "cell_type": "markdown",
   "metadata": {},
   "source": [
    "We will use this function to find the cross-validated $R^2$ value for a given number of folds on a certain parameter value."
   ]
  },
  {
   "cell_type": "code",
   "execution_count": 30,
   "metadata": {
    "collapsed": false
   },
   "outputs": [],
   "source": [
    "def k_fold_r_squared(x_train, y_train, num_folds, param_val):\n",
    "    n_train = x_train.shape[0]\n",
    "    n = int(np.round(n_train * 1. / num_folds)) # points per fold\n",
    "\n",
    "    # Iterate over folds\n",
    "    cv_r_squared = 0\n",
    "    \n",
    "    for fold in range(1, num_folds + 1):\n",
    "        # Take k-1 folds for training \n",
    "        x_first_half = x_train.iloc[:n * (fold - 1), :]\n",
    "        x_second_half = x_train.iloc[n * fold + 1:, :]\n",
    "        x_train_cv = np.concatenate((x_first_half, x_second_half), axis=0)\n",
    "        \n",
    "        y_first_half = y_train.iloc[:n * (fold - 1)]\n",
    "        y_second_half = y_train.iloc[n * fold + 1:]\n",
    "        y_train_cv = np.concatenate((y_first_half, y_second_half), axis=0)\n",
    "        \n",
    "        # Take the middle fold for testing\n",
    "        x_test_cv = x_train.iloc[1 + n * (fold - 1):n * fold, :]\n",
    "        y_test_cv = y_train.iloc[1 + n * (fold - 1):n * fold]\n",
    "\n",
    "        # Fit Decision Tree model with parameter value on CV train set, and evaluate CV test performance\n",
    "        reg = DecisionTreeRegressor(max_depth=param_val)\n",
    "        reg.fit(x_train_cv, y_train_cv)\n",
    "        r_squared = reg.score(x_test_cv, y_test_cv)\n",
    "    \n",
    "        # Cummulative R^2 value across folds\n",
    "        cv_r_squared += r_squared\n",
    "\n",
    "    # Return average R^2 value across folds\n",
    "    return cv_r_squared * 1.0 / num_folds"
   ]
  },
  {
   "cell_type": "code",
   "execution_count": null,
   "metadata": {
    "collapsed": true
   },
   "outputs": [],
   "source": []
  },
  {
   "cell_type": "code",
   "execution_count": 79,
   "metadata": {
    "collapsed": false
   },
   "outputs": [
    {
     "name": "stdout",
     "output_type": "stream",
     "text": [
      "2 0.612719201546\n",
      "3 0.754302949283\n",
      "4 0.871314547554\n",
      "5 0.940479469018\n",
      "6 0.974736803109\n",
      "7 0.991617733605\n",
      "8 0.996587978435\n",
      "9 0.999219309243\n",
      "10 0.999922435105\n",
      "20 1.0\n",
      "50 1.0\n",
      "70 1.0\n",
      "100 1.0\n"
     ]
    }
   ],
   "source": [
    "# Fit regression model\n",
    "for depth in [2, 3, 4, 5, 6, 7, 8, 9, 10, 20, 50, 70, 100]:\n",
    "    reg = DecisionTreeRegressor(max_depth=depth)\n",
    "    reg.fit(x_df, cardio_df)\n",
    "    print depth, reg.score(x_df, cardio_df)"
   ]
  },
  {
   "cell_type": "code",
   "execution_count": null,
   "metadata": {
    "collapsed": true
   },
   "outputs": [],
   "source": []
  },
  {
   "cell_type": "code",
   "execution_count": 78,
   "metadata": {
    "collapsed": false
   },
   "outputs": [
    {
     "name": "stdout",
     "output_type": "stream",
     "text": [
      "0.157263311113\n",
      "0.0383906647747\n",
      "-0.00942628271465\n",
      "-0.0593289349265\n",
      "-0.120257271122\n",
      "-0.22705646368\n",
      "-0.243135582395\n",
      "-0.351739864219\n",
      "-0.282642169159\n",
      "-0.431793222486\n",
      "-0.301257613118\n",
      "-0.376315252601\n",
      "-0.260990194789\n"
     ]
    }
   ],
   "source": [
    "for depth in [2, 3, 4, 5, 6, 7, 8, 9, 10, 20, 50, 70, 100]:\n",
    "    print k_fold_r_squared(x_df,diabetes_df,5, depth)"
   ]
  },
  {
   "cell_type": "code",
   "execution_count": 96,
   "metadata": {
    "collapsed": false
   },
   "outputs": [
    {
     "name": "stdout",
     "output_type": "stream",
     "text": [
      "2 0.440138259697\n",
      "3 0.359546067951\n",
      "4 0.255686157778\n",
      "5 0.185733552088\n",
      "6 0.167862565285\n",
      "7 0.145218333196\n",
      "8 0.292624004319\n",
      "9 0.235725252374\n",
      "10 0.2445180363\n",
      "15 0.230592699691\n",
      "20 0.228649424618\n",
      "25 0.201039203613\n",
      "30 0.168123872115\n",
      "40 0.141606206668\n",
      "50 0.198096945624\n",
      "60 0.206140435852\n",
      "63 0.154363605106\n",
      "65 0.14860491201\n",
      "70 0.246917280243\n",
      "75 0.23520892355\n",
      "80 0.148110852764\n",
      "85 0.242671502156\n",
      "90 0.169559997625\n",
      "95 0.173961115686\n",
      "100 0.115020195838\n"
     ]
    }
   ],
   "source": [
    "for depth in [2, 3, 4, 5, 6, 7, 8, 9, 10, 15, 20,25, 30, 40, 50, 60, 63, 65, 70, 75, 80, 85, 90, 95, 100]:\n",
    "    print depth, k_fold_r_squared(x_df,cardio_df,5, depth)"
   ]
  },
  {
   "cell_type": "code",
   "execution_count": 109,
   "metadata": {
    "collapsed": false
   },
   "outputs": [
    {
     "name": "stdout",
     "output_type": "stream",
     "text": [
      "-0.24979964973\n",
      "-0.53598823759\n",
      "-0.601677512502\n",
      "-0.807935847895\n",
      "-0.726970285135\n",
      "-0.579468092489\n",
      "-0.917212855579\n",
      "-0.646920501575\n",
      "-0.734774439111\n",
      "-0.647075970826\n",
      "-0.622443414197\n",
      "-0.530582949237\n",
      "-0.591049842579\n"
     ]
    }
   ],
   "source": [
    "for depth in [2, 3, 4, 5, 6, 7, 8, 9, 10, 20, 50, 70, 100]:\n",
    "    print k_fold_r_squared(x_df,cancer_df,5, depth)"
   ]
  },
  {
   "cell_type": "code",
   "execution_count": 67,
   "metadata": {
    "collapsed": false
   },
   "outputs": [],
   "source": [
    "gridsearch = GridSearchCV(DecisionTreeRegressor(), {'max_depth': [2, 3, 4, 5, 6, 7, 8, 9, 10, 20, 50, 70]})"
   ]
  },
  {
   "cell_type": "code",
   "execution_count": 69,
   "metadata": {
    "collapsed": false
   },
   "outputs": [
    {
     "data": {
      "text/plain": [
       "GridSearchCV(cv=None, error_score='raise',\n",
       "       estimator=DecisionTreeRegressor(criterion='mse', max_depth=None, max_features=None,\n",
       "           max_leaf_nodes=None, min_samples_leaf=1, min_samples_split=2,\n",
       "           min_weight_fraction_leaf=0.0, presort=False, random_state=None,\n",
       "           splitter='best'),\n",
       "       fit_params={}, iid=True, n_jobs=1,\n",
       "       param_grid={'max_depth': [2, 3, 4, 5, 6, 7, 8, 9, 10, 20, 50, 70]},\n",
       "       pre_dispatch='2*n_jobs', refit=True, scoring=None, verbose=0)"
      ]
     },
     "execution_count": 69,
     "metadata": {},
     "output_type": "execute_result"
    }
   ],
   "source": [
    "gridsearch.fit(x_df, cancer_df)"
   ]
  },
  {
   "cell_type": "code",
   "execution_count": 70,
   "metadata": {
    "collapsed": false
   },
   "outputs": [
    {
     "data": {
      "text/plain": [
       "{'max_depth': 2}"
      ]
     },
     "execution_count": 70,
     "metadata": {},
     "output_type": "execute_result"
    }
   ],
   "source": [
    "gridsearch.best_params_"
   ]
  },
  {
   "cell_type": "code",
   "execution_count": 71,
   "metadata": {
    "collapsed": false
   },
   "outputs": [
    {
     "data": {
      "text/plain": [
       "-0.050020039633497548"
      ]
     },
     "execution_count": 71,
     "metadata": {},
     "output_type": "execute_result"
    }
   ],
   "source": [
    "gridsearch.best_score_"
   ]
  },
  {
   "cell_type": "code",
   "execution_count": null,
   "metadata": {
    "collapsed": true
   },
   "outputs": [],
   "source": []
  }
 ],
 "metadata": {
  "anaconda-cloud": {},
  "kernelspec": {
   "display_name": "Python [Root]",
   "language": "python",
   "name": "Python [Root]"
  },
  "language_info": {
   "codemirror_mode": {
    "name": "ipython",
    "version": 2
   },
   "file_extension": ".py",
   "mimetype": "text/x-python",
   "name": "python",
   "nbconvert_exporter": "python",
   "pygments_lexer": "ipython2",
   "version": "2.7.12"
  }
 },
 "nbformat": 4,
 "nbformat_minor": 0
}
