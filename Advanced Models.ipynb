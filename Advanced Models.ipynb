{
 "cells": [
  {
   "cell_type": "markdown",
   "metadata": {
    "collapsed": true
   },
   "source": [
    "--- \n",
    "# Advanced Models \n",
    "***\n",
    "\n",
    "In this section, we will use various other regression techniques and variable selection techniques to attempt to improve upon our naive model. In particular, we will try \n",
    "\n",
    "1. Lasso\n",
    "2. PCA\n",
    "3. Regression Tree\n",
    "4. Step-wise Variable Selection\n",
    "\n",
    "For reference, our naive model gives us the following cross-validated $R^2$ values with $k = 5$: \n",
    "\n",
    "||Cardio | Diabetes | Cancer\n",
    "|--- | --- | --- | ---|\n",
    "|R^2 | sdf | sdf | sdf"
   ]
  },
  {
   "cell_type": "markdown",
   "metadata": {},
   "source": [
    "## Lasso\n",
    "\n",
    "The naive model brought up in the previous section has one major flaw: by including all of the predictors, it is very likely to be overfitted to the initial dataset. As such, we would like to reduce that overfitting by using variable selection techniques such as Lasso to reduce the number of predictors our model includes. \n",
    "Using the LassoCV package in sklearn, we obtain the following cross-validated $R^2$:\n",
    "\n",
    "| |Cardio   |  Diabetes | Cancer  |\n",
    "|-----|---|---|---|\n",
    "|$r^2$ (Lasso) |  f |  f |   f|\n",
    "|$r^2$ (Naive) |  f |  f |   f|\n"
   ]
  },
  {
   "cell_type": "code",
   "execution_count": 1,
   "metadata": {
    "collapsed": true
   },
   "outputs": [],
   "source": [
    "# Code for Lasso"
   ]
  },
  {
   "cell_type": "markdown",
   "metadata": {},
   "source": [
    "# PCA\n",
    "For similar reasons to Lasso, we also tried testing a $PCA$-based model. Using the sklearn.decomposition.PCA package and model_selection.cross_val_score, we obtained the following cross-validated $R^2$ for PCA: \n",
    "\n",
    "| |Cardio   |  Diabetes | Cancer  |\n",
    "|-----|---|---|---|\n",
    "|$r^2$ (PCA) |  f |  f |   f|\n",
    "|$r^2$ (Naive) |  f |  f |   f|"
   ]
  },
  {
   "cell_type": "code",
   "execution_count": 2,
   "metadata": {
    "collapsed": true
   },
   "outputs": [],
   "source": [
    "# Code for PCA"
   ]
  },
  {
   "cell_type": "markdown",
   "metadata": {},
   "source": [
    "# Regression Trees\n",
    "Again, to decrease the dimensionality, we also tried testing a regression trees- based model. Using the sklearn.decomposition.PCA package and model_selection.cross_val_score, we obtained the following cross-validated $R^2$ for PCA: \n",
    "\n",
    "| |Cardio   |  Diabetes | Cancer  |\n",
    "|-----|---|---|---|\n",
    "|$r^2$ (PCA) |  f |  f |   f|\n",
    "|$r^2$ (Naive) |  f |  f |   f|"
   ]
  },
  {
   "cell_type": "code",
   "execution_count": 3,
   "metadata": {
    "collapsed": true
   },
   "outputs": [],
   "source": [
    "# Code for regression Trees"
   ]
  },
  {
   "cell_type": "markdown",
   "metadata": {},
   "source": [
    "# Step-wise Variable Selection\n",
    "As a final option, we tried step-wise variable selection. Using **SOME PACKAGE** and model_selection.cross_val_score, we obtained the following cross-validated $R^2$ for PCA: \n",
    "\n",
    "| |Cardio   |  Diabetes | Cancer  |\n",
    "|-----|---|---|---|\n",
    "|$r^2$ (Step-wise) |  f |  f |   f|\n",
    "|$r^2$ (Naive) |  f |  f |   f|"
   ]
  },
  {
   "cell_type": "code",
   "execution_count": 4,
   "metadata": {
    "collapsed": true
   },
   "outputs": [],
   "source": [
    "# Code for step-wise"
   ]
  },
  {
   "cell_type": "markdown",
   "metadata": {},
   "source": [
    "Again, we can examine a world map to see the fractional differences. Again, dark blue/purple colors indicate an accurate estimate,brighter purples/pinks indicate an overestimate, and brighter blues indicate an underestimate. We note that\n",
    "### NOTE I\"M NOT SURE ABOUT THIS BUT JUST WRITING SOME ANALYSIS \n",
    "this model has slightly worse performance than our cancer model, perhaps indicating that diabetes is less related to dietary intake than **SSOME OTHER DISEASE**.   "
   ]
  },
  {
   "cell_type": "markdown",
   "metadata": {},
   "source": [
    "# Preliminary Analysis/ Results\n",
    "\n",
    "Just from looking at $r^2$, it looks like **SOME MODEL** does not work and can be eliminated from consideration. In the data analysis section, we will explore more detailed data analysis to determine which model is the best choice.\n",
    "\n",
    "| |Cardio   |  Diabetes | Cancer  |\n",
    "|-----|---|---|---|\n",
    "|$r^2$ (Naive) |  f |  f |   f|\n",
    "|$r^2$ (Lasso) |  f |  f |   f|\n",
    "|$r^2$ (PCA) |  f |  f |   f|\n",
    "|$r^2$ (Regression Tree) |  f |  f |   f|\n",
    "|$r^2$ (Step-wise) |  f |  f |   f|"
   ]
  },
  {
   "cell_type": "code",
   "execution_count": null,
   "metadata": {
    "collapsed": false
   },
   "outputs": [],
   "source": []
  },
  {
   "cell_type": "markdown",
   "metadata": {},
   "source": [
    "Again, we can examine a world map to see the fractional differences. Dark blue/purple colors indicate an accurate estimate,brighter purples/pinks indicate an overestimate, and brighter blues indicate an underestimate. While this model appears to be fairly accurate for *THESE COUNTRIES*, it could be improved for *THESE*. This might be due to certain predictors, such as *SOME RANDOM PREDICTOR*, that is more heavily weighted for larger countries than for the country that is seeing a larger fractional difference."
   ]
  },
  {
   "cell_type": "code",
   "execution_count": null,
   "metadata": {
    "collapsed": true
   },
   "outputs": [],
   "source": []
  }
 ],
 "metadata": {
  "anaconda-cloud": {},
  "kernelspec": {
   "display_name": "Python [Root]",
   "language": "python",
   "name": "Python [Root]"
  },
  "language_info": {
   "codemirror_mode": {
    "name": "ipython",
    "version": 2
   },
   "file_extension": ".py",
   "mimetype": "text/x-python",
   "name": "python",
   "nbconvert_exporter": "python",
   "pygments_lexer": "ipython2",
   "version": "2.7.12"
  }
 },
 "nbformat": 4,
 "nbformat_minor": 0
}
