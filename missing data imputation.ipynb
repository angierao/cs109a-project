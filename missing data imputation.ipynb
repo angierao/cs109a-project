{
 "cells": [
  {
   "cell_type": "code",
   "execution_count": 119,
   "metadata": {
    "collapsed": false
   },
   "outputs": [],
   "source": [
    "import numpy as np\n",
    "import pandas as pd\n",
    "import warnings\n",
    "warnings.filterwarnings('ignore')"
   ]
  },
  {
   "cell_type": "markdown",
   "metadata": {},
   "source": [
    "# I. Loading Data"
   ]
  },
  {
   "cell_type": "markdown",
   "metadata": {},
   "source": [
    "## Read in Crop Data\n",
    "\n",
    "After surveying the food data, we found that there were many more missing data points for countries and crops for the year 2012 compared to the the year 2000 (which is surprising because you'd think that more data would be available for recent years). As a result, we decided to focus on the data from the year 2000. Here, we first read in crop data for the year 2000."
   ]
  },
  {
   "cell_type": "code",
   "execution_count": 117,
   "metadata": {
    "collapsed": true
   },
   "outputs": [],
   "source": [
    "# read in crops\n",
    "allcrops_2000 = pd.read_csv('datasets/allcrops_2000.csv')"
   ]
  },
  {
   "cell_type": "markdown",
   "metadata": {},
   "source": [
    "## Organize Data by Crop\n",
    "\n",
    "We plan for the predictors of our model to be the consumption of each of the individual food items. Thus we find all of the unique crop names and extract all of the data for each crop from the original data frame. We store these new crop data frames in a list."
   ]
  },
  {
   "cell_type": "code",
   "execution_count": 91,
   "metadata": {
    "collapsed": false
   },
   "outputs": [],
   "source": [
    "# names of all the crops\n",
    "crop_names = allcrops_2000['ItemName'].unique()\n",
    "\n",
    "# remove nan\n",
    "crop_names = crop_names[:-1]\n",
    "\n",
    "# list to put our separated crop dataframes\n",
    "all_crop_dfs = []\n",
    "\n",
    "# find each crop-separated df and put it in the list of dataframes\n",
    "for crop in crop_names:\n",
    "    crop_df = allcrops_2000[(allcrops_2000['ItemName'] == crop)]\n",
    "    all_crop_dfs.append(crop_df)"
   ]
  },
  {
   "cell_type": "markdown",
   "metadata": {},
   "source": [
    "## Read in Livestock Data\n",
    "\n",
    "We read in the livestock data for the year 2000, for reasons enumerated above."
   ]
  },
  {
   "cell_type": "code",
   "execution_count": 118,
   "metadata": {
    "collapsed": true
   },
   "outputs": [],
   "source": [
    "# Do the same as above, but for livestock\n",
    "livestock_2000 = pd.read_csv('datasets/livestock_2000.csv')"
   ]
  },
  {
   "cell_type": "markdown",
   "metadata": {},
   "source": [
    "## Organize Data by Livestock\n",
    "\n",
    "We similarly organize the aggregate livestock data into individual data frames with the relevant data for each livestock item. The livestock data also included values for the grand total consumption as well as the population average, which we removed manually."
   ]
  },
  {
   "cell_type": "code",
   "execution_count": 93,
   "metadata": {
    "collapsed": false
   },
   "outputs": [],
   "source": [
    "# list of livestock names\n",
    "livestock_names_all = livestock_2000['ItemName'].unique()\n",
    "\n",
    "# remove nan and Population\n",
    "livestock_names_all = livestock_names_all[1:-1]\n",
    "livestock_names = []\n",
    "\n",
    "for name in livestock_names_all:\n",
    "    if name != 'Grand Total':\n",
    "        livestock_names.append(name)\n",
    "\n",
    "# list to put our separated dataframes\n",
    "livestock_dfs = []\n",
    "\n",
    "# separate dataframe based on itemname\n",
    "for crop in livestock_names:\n",
    "    crop_df = livestock_2000[(livestock_2000['ItemName'] == crop)]\n",
    "    livestock_dfs.append(crop_df)"
   ]
  },
  {
   "cell_type": "markdown",
   "metadata": {},
   "source": [
    "## Read in Disease Data"
   ]
  },
  {
   "cell_type": "code",
   "execution_count": 94,
   "metadata": {
    "collapsed": false
   },
   "outputs": [],
   "source": [
    "# read in disease rates\n",
    "column_headers = [\"Country\", \"Year\", \"Mortality\", \"Mortality 2\", \"Mortality 3\"]\n",
    "\n",
    "diabetes = pd.read_csv('datasets/diabetes.csv', names = column_headers)\n",
    "cardio = pd.read_csv('datasets/cardiovascular.csv', names = column_headers)\n",
    "cancer= pd.read_csv('datasets/Cancer.csv', names = column_headers)"
   ]
  },
  {
   "cell_type": "markdown",
   "metadata": {},
   "source": [
    "## Extracting Data for 2000\n",
    "\n",
    "There is significant food data missing for the year 2012 for many countries, as stated previously, so we decided to focus on data for the year 2000. We thus separate the disease data into years. "
   ]
  },
  {
   "cell_type": "code",
   "execution_count": 95,
   "metadata": {
    "collapsed": false
   },
   "outputs": [],
   "source": [
    "cardio_2012 = cardio[(cardio[\"Year\"] == \"2012\")] \n",
    "cardio_2000 = cardio[(cardio[\"Year\"] == \"2000\")] \n",
    "\n",
    "cancer_2012 = cancer[(cancer['Year'] == ' 2012')] \n",
    "cancer_2000 = cancer[(cancer['Year'] == ' 2000')] \n",
    "\n",
    "diabetes_2012 = diabetes[(diabetes['Year'] == '2012')] \n",
    "diabetes_2000 = diabetes[(diabetes['Year'] == '2000')] "
   ]
  },
  {
   "cell_type": "markdown",
   "metadata": {},
   "source": [
    "## Syncing Country Names\n",
    "\n",
    "Some of the countries in both the crop/livestock data and the disease data, but under different names. The next three cells change the appropriate country names in the disease data to match those in the crop/livestock data. We elected to do this, instead of changing the crop/livestock data, because each country name only occurs once in each of the three disease data frames, while each name appears many times in the food data frames."
   ]
  },
  {
   "cell_type": "code",
   "execution_count": 124,
   "metadata": {
    "collapsed": false
   },
   "outputs": [],
   "source": [
    "for i in range(cancer_2000.shape[0]):\n",
    "    country = cancer_2000.iloc[i, 0]\n",
    "    if country == 'United Kingdom of Great Britain and Northern Ireland':\n",
    "        cancer_2000.iloc[i, 0] = 'United Kingdom'\n",
    "    elif country == 'China':\n",
    "        cancer_2000.iloc[i, 0] = 'China, mainland'\n",
    "    elif country == 'Sudan':\n",
    "        cancer_2000.iloc[i, 0] = 'Sudan (former)'\n",
    "    elif country == 'The former Yugoslav republic of Macedonia':\n",
    "        cancer_2000.iloc[i, 0] = 'The former Yugoslav Republic of Macedonia'\n",
    "    elif country == 'Cote d\\'Ivoire':\n",
    "        cancer_2000.iloc[i, 0] = 'C\\xc3\\xb4te d\\'Ivoire'\n",
    "    elif country == 'Czech Republic':\n",
    "        cancer_2000.iloc[i, 0] = 'Czechia'"
   ]
  },
  {
   "cell_type": "code",
   "execution_count": 125,
   "metadata": {
    "collapsed": false
   },
   "outputs": [],
   "source": [
    "for i in range(cardio_2000.shape[0]):\n",
    "    country = cardio_2000.iloc[i, 0]\n",
    "    if country == 'United Kingdom of Great Britain and Northern Ireland':\n",
    "        cardio_2000.iloc[i, 0] = 'United Kingdom'\n",
    "    elif country == 'China':\n",
    "        cardio_2000.iloc[i, 0] = 'China, mainland'\n",
    "    elif country == 'Sudan':\n",
    "        cardio_2000.iloc[i, 0] = 'Sudan (former)'\n",
    "    elif country == 'The former Yugoslav republic of Macedonia':\n",
    "        cardio_2000.iloc[i, 0] = 'The former Yugoslav Republic of Macedonia'\n",
    "    elif country == 'Cote d\\'Ivoire':\n",
    "        cardio_2000.iloc[i, 0] = 'C\\xc3\\xb4te d\\'Ivoire'\n",
    "    elif country == 'Czech Republic':\n",
    "        cardio_2000.iloc[i, 0] = 'Czechia'"
   ]
  },
  {
   "cell_type": "code",
   "execution_count": 126,
   "metadata": {
    "collapsed": false
   },
   "outputs": [],
   "source": [
    "for i in range(diabetes_2000.shape[0]):\n",
    "    country = diabetes_2000.iloc[i, 0]\n",
    "    if country == 'United Kingdom of Great Britain and Northern Ireland':\n",
    "        diabetes_2000.iloc[i, 0] = 'United Kingdom'\n",
    "    elif country == 'China':\n",
    "        diabetes_2000.iloc[i, 0] = 'China, mainland'\n",
    "    elif country == 'Sudan':\n",
    "        diabetes_2000.iloc[i, 0] = 'Sudan (former)'\n",
    "    elif country == 'The former Yugoslav republic of Macedonia':\n",
    "        diabetes_2000.iloc[i, 0] = 'The former Yugoslav Republic of Macedonia'\n",
    "    elif country == 'Cote d\\'Ivoire':\n",
    "        diabetes_2000.iloc[i, 0] = 'C\\xc3\\xb4te d\\'Ivoire'\n",
    "    elif country == 'Czech Republic':\n",
    "        diabetes_2000.iloc[i, 0] = 'Czechia'"
   ]
  },
  {
   "cell_type": "markdown",
   "metadata": {
    "collapsed": true
   },
   "source": [
    "# II. Organizing Data"
   ]
  },
  {
   "cell_type": "code",
   "execution_count": 103,
   "metadata": {
    "collapsed": false
   },
   "outputs": [],
   "source": [
    "cardio_lands = cardio_2000['Country'].unique()\n",
    "diabetes_lands = diabetes_2000['Country'].unique()\n",
    "cancer_lands = cancer_2000['Country'].unique()"
   ]
  },
  {
   "cell_type": "markdown",
   "metadata": {},
   "source": [
    "In general, our naming convention is to add a capital L to the end of a file name that corresponds to livestock."
   ]
  },
  {
   "cell_type": "code",
   "execution_count": 129,
   "metadata": {
    "collapsed": false
   },
   "outputs": [],
   "source": [
    "#df = pd.read_csv('datasets/allwregions_92_00.csv')\n",
    "df = pd.read_csv('datasets/noregions_92_00.csv')\n",
    "dfL = pd.read_csv('datasets/noregionsL_92_00.csv')"
   ]
  },
  {
   "cell_type": "code",
   "execution_count": 77,
   "metadata": {
    "collapsed": false
   },
   "outputs": [],
   "source": [
    "all_countries = df['Country'].unique()"
   ]
  },
  {
   "cell_type": "markdown",
   "metadata": {},
   "source": [
    "## Surveying missing data\n",
    "\n",
    "In order to make it easier to access data for a specific crop predictor for a certain country, we decided to organize the data in the dataframe as a dictionary of dictionaries. Otherwise, we would have to iterate through 90,000+ rows of data every time we wanted to find the consumption of Wheat products in Turkmenistan, for example. Not only is this inefficient, it can take over half an hour to pull the data for just one predictor (personal experience, unfortunately).\n",
    "\n",
    "We created a dictionary where each key is a crop, whose value is a dictionary, with countries as keys and values as the years present in the data for that (country, crop) pair. This data also helped us get an idea of how much data was missing for each country and crop.\n",
    "\n",
    "We then did the same thing for livestock."
   ]
  },
  {
   "cell_type": "code",
   "execution_count": 29,
   "metadata": {
    "collapsed": false
   },
   "outputs": [],
   "source": [
    "all_crops = df['Item'].unique()\n",
    "\n",
    "cropdata = {}\n",
    "for crop in all_crops:\n",
    "    data = {}\n",
    "    for i, country in enumerate(df['Country'].values):\n",
    "        count = 0\n",
    "        if country in cancer_lands:\n",
    "            data[country] = []\n",
    "    for i, country in enumerate(df['Country'].values):\n",
    "        if df['Item'].values[i] == crop:\n",
    "            if country in data:\n",
    "                if len(data[country]) > 0:\n",
    "                    data[country].append(df['Year'].values[i])\n",
    "                else:\n",
    "                    data[country] = [df['Year'].values[i]]\n",
    "    cropdata[crop] = data"
   ]
  },
  {
   "cell_type": "code",
   "execution_count": 130,
   "metadata": {
    "collapsed": true
   },
   "outputs": [],
   "source": [
    "all_ls = dfL['Item'].unique()\n",
    "\n",
    "lsdata = {}\n",
    "for ls in all_ls:\n",
    "    data = {}\n",
    "    for i, country in enumerate(dfL['Country'].values):\n",
    "        count = 0\n",
    "        if country in cancer_lands:\n",
    "            data[country] = []\n",
    "    for i, country in enumerate(dfL['Country'].values):\n",
    "        if dfL['Item'].values[i] == ls:\n",
    "            if country in data:\n",
    "                if len(data[country]) > 0:\n",
    "                    data[country].append(dfL['Year'].values[i])\n",
    "                else:\n",
    "                    data[country] = [dfL['Year'].values[i]]\n",
    "    lsdata[ls] = data"
   ]
  },
  {
   "cell_type": "markdown",
   "metadata": {},
   "source": [
    "## Introducing Regions\n",
    "\n",
    "As mentioned previously, the data we used from the Food and Agriculture Organization (FAO) of the UN had a lot of missing values. To fill in the missing values, we felt that KNN would not be appropriate, as each country has its own food traditions, and it's not culturally sensitive to assume that a country's consumption of a certain crop can be deduced by countries that consume other crops similarly. We also considered using countries geographically bordering a certain country to fill in missing values. However, we realized that geographical similarity does not imply cultural similarity.\n",
    "\n",
    "Our final solution was to use the regional data provided by the FAO. For example, the FAO tells us the Wheat consumption in South Asia, so if there are any countries in South Asia that are missing Wheat consumption, we would fill in the corresponding value for South Asia. This works out because we are using the consumption per capita values. \n",
    "\n",
    "In order to make it easy to figure out which region to pull data from for each country, we created a dictionary with countries as keys and values as the corresponding country's region."
   ]
  },
  {
   "cell_type": "code",
   "execution_count": 33,
   "metadata": {
    "collapsed": true
   },
   "outputs": [],
   "source": [
    "def parse_country(dataset): \n",
    "    country_full = pd.read_csv(str(dataset))\n",
    "    country_array = np.unique(country_full[\"Country\"])\n",
    "    return country_array"
   ]
  },
  {
   "cell_type": "code",
   "execution_count": 106,
   "metadata": {
    "collapsed": false
   },
   "outputs": [],
   "source": [
    "import glob\n",
    "path = 'datasets/countries/' \n",
    "allFiles = glob.glob(path + \"/*.csv\")\n",
    "country_dictionary = {}\n",
    "for file in allFiles:\n",
    "    area_name = file.split('/')[2].split('.')[0]\n",
    "    country_list = parse_country(file)\n",
    "    for country in country_list:\n",
    "        country_dictionary[country] = area_name"
   ]
  },
  {
   "cell_type": "code",
   "execution_count": 107,
   "metadata": {
    "collapsed": false
   },
   "outputs": [],
   "source": [
    "regions = set()\n",
    "for land in country_dictionary:\n",
    "    regions.add(country_dictionary[land])"
   ]
  },
  {
   "cell_type": "markdown",
   "metadata": {},
   "source": [
    "## Loading and Organizing Region Data"
   ]
  },
  {
   "cell_type": "code",
   "execution_count": 108,
   "metadata": {
    "collapsed": false
   },
   "outputs": [],
   "source": [
    "regions_df = pd.read_csv('datasets/onlyregions_92_00.csv')"
   ]
  },
  {
   "cell_type": "code",
   "execution_count": 131,
   "metadata": {
    "collapsed": true
   },
   "outputs": [],
   "source": [
    "regions_dfL = pd.read_csv('datasets/onlyregionsL_92_00.csv')"
   ]
  },
  {
   "cell_type": "markdown",
   "metadata": {},
   "source": [
    "### Creating a Dictionary of Region Data\n",
    "\n",
    "Yup, we're going to organize this data into a dictionary too. In order to make region data easy to access, we created a dictionary with the regions as keys and the values as dictionaries, with crops as keys and lists of (year, consumption value) pairs as values, and did the same for livestock."
   ]
  },
  {
   "cell_type": "code",
   "execution_count": 38,
   "metadata": {
    "collapsed": false
   },
   "outputs": [],
   "source": [
    "regiondata = {}\n",
    "for i, region in enumerate(regions_df['Country'].unique()):\n",
    "    regiondata[region] = {}\n",
    "\n",
    "for i, region in enumerate(regions_df['Country'].values):\n",
    "    regiondict = regiondata[region]\n",
    "    crop = regions_df['Item'].values[i]\n",
    "    year = regions_df['Year'].values[i]\n",
    "    value = regions_df['Value'].values[i]\n",
    "    if crop in regiondict:\n",
    "        regiondata[region][crop].append((year, value))\n",
    "    else:\n",
    "        regiondata[region][crop] = [(year, value)]"
   ]
  },
  {
   "cell_type": "code",
   "execution_count": 113,
   "metadata": {
    "collapsed": true
   },
   "outputs": [],
   "source": [
    "regiondataL = {}\n",
    "for i, region in enumerate(regions_dfL['Country'].unique()):\n",
    "    regiondataL[region] = {}\n",
    "\n",
    "for i, region in enumerate(regions_dfL['Country'].values):\n",
    "    regiondict = regiondataL[region]\n",
    "    ls = regions_dfL['Item'].values[i]\n",
    "    year = regions_dfL['Year'].values[i]\n",
    "    value = regions_dfL['Value'].values[i]\n",
    "    if ls in regiondict:\n",
    "        regiondataL[region][ls].append((year, value))\n",
    "    else:\n",
    "        regiondataL[region][ls] = [(year, value)]"
   ]
  },
  {
   "cell_type": "markdown",
   "metadata": {},
   "source": [
    "### Functions to extract values from regiondata\n",
    "\n",
    "These functions help us extract data from our dictionaries regiondata and regiondataL for a given crop/livestock item, region, and year."
   ]
  },
  {
   "cell_type": "code",
   "execution_count": 49,
   "metadata": {
    "collapsed": true
   },
   "outputs": [],
   "source": [
    "def getvalue(region, crop, year):\n",
    "    if crop in regiondata[region]:\n",
    "        data = regiondata[region][crop]\n",
    "        for yr, val in data:\n",
    "            if yr == year:\n",
    "                return val\n",
    "    else:\n",
    "        return 0\n",
    "\n",
    "def getvalueL(region, ls, year):\n",
    "    if ls in regiondataL[region]:\n",
    "        data = regiondataL[region][ls]\n",
    "        for yr, val in data:\n",
    "            if yr == year:\n",
    "                return val\n",
    "    else:\n",
    "        return 0"
   ]
  },
  {
   "cell_type": "markdown",
   "metadata": {},
   "source": [
    "# Missing Data Imputation \n",
    "\n",
    "After surveying the missing data using the dictionaries that we built, we realized that, for any (country, crop) pair, there were only four possibilities for the years of data that exist for that pair: 1) all nine years exist, 2) all but 1992 exist, 3) only 2000 exists, and 4) no years exist. We took advantage of this function when filling in missing values. For each case, we used our getvalue() and getvalueL() functions accordingly to retrieve the appropriate regional value. We then filled in the appropriate data for the rest of the columns and appended the row to the end of our original data frame."
   ]
  },
  {
   "cell_type": "code",
   "execution_count": 50,
   "metadata": {
    "collapsed": false
   },
   "outputs": [
    {
     "name": "stdout",
     "output_type": "stream",
     "text": [
      "77.83031106\n"
     ]
    }
   ],
   "source": [
    "end = dfL.shape[0]\n",
    "years = [1992 + i for i in range(9)]\n",
    "domain = dfL['Domain'].values[0]\n",
    "element = regions_dfL['Element'].values[0]\n",
    "unit = dfL['Unit'].values[0]\n",
    "\n",
    "for ls in lsdata:\n",
    "    for country in lsdata[ls]:\n",
    "        count += 1\n",
    "        if len(lsdata[ls][country]) == 9:\n",
    "            continue\n",
    "        if len(lsdata[ls][country]) == 8:\n",
    "            value = getvalueL(country_dictionary[country], ls, 1992)\n",
    "            dfL.loc[end] = [domain, country, element, ls, year, unit, value]\n",
    "            end += 1\n",
    "        if len(lsdata[ls][country]) == 1:\n",
    "            for i in range(1992, 2000):\n",
    "                value = getvalueL(country_dictionary[country], ls, i)\n",
    "                dfL.loc[end] = [domain, country, element, ls, i, unit, value]\n",
    "                end += 1\n",
    "        if len(lsdata[ls][country]) == 0:\n",
    "            for i in range(1992, 2001):\n",
    "                value = getvalueL(country_dictionary[country], ls, i)\n",
    "                dfL.loc[end] = [domain, country, element, ls, i, unit, value]\n",
    "                end += 1"
   ]
  },
  {
   "cell_type": "code",
   "execution_count": 51,
   "metadata": {
    "collapsed": false
   },
   "outputs": [
    {
     "name": "stdout",
     "output_type": "stream",
     "text": [
      "827.911561966\n"
     ]
    }
   ],
   "source": [
    "end = df.shape[0]\n",
    "years = [1992 + i for i in range(9)]\n",
    "domain = df['Domain'].values[0]\n",
    "element = regions_df['Element'].values[0]\n",
    "unit = df['Unit'].values[0]\n",
    "\n",
    "for crop in cropdata:\n",
    "    for country in cropdata[crop]:\n",
    "        count += 1\n",
    "        if len(cropdata[crop][country]) == 9:\n",
    "            continue\n",
    "        if len(cropdata[crop][country]) == 8:\n",
    "            value = getvalue(country_dictionary[country], crop, 1992)\n",
    "            df.loc[end] = [domain, country, element, crop, year, unit, value]\n",
    "            end += 1\n",
    "        if len(cropdata[crop][country]) == 1:\n",
    "            for i in range(1992, 2000):\n",
    "                value = getvalue(country_dictionary[country], crop, i)\n",
    "                df.loc[end] = [domain, country, element, crop, i, unit, value]\n",
    "                end += 1\n",
    "        if len(cropdata[crop][country]) == 0:\n",
    "            for i in range(1992, 2001):\n",
    "                value = getvalue(country_dictionary[country], crop, i)\n",
    "                df.loc[end] = [domain, country, element, crop, i, unit, value]\n",
    "                end += 1"
   ]
  },
  {
   "cell_type": "markdown",
   "metadata": {},
   "source": [
    "Below we created dictionaries with crop/livestock items as keys and their corresponding data frames (with data only for the key) as values."
   ]
  },
  {
   "cell_type": "code",
   "execution_count": 54,
   "metadata": {
    "collapsed": false
   },
   "outputs": [],
   "source": [
    "crop_names = df['Item'].unique()\n",
    "all_food_dfs = {}\n",
    "\n",
    "# find each crop-separated df and put it in the list of dataframes\n",
    "for crop in crop_names:\n",
    "    crop_df = df[(df['Item'] == crop)]\n",
    "    all_food_dfs[crop] = crop_df"
   ]
  },
  {
   "cell_type": "code",
   "execution_count": 55,
   "metadata": {
    "collapsed": false
   },
   "outputs": [],
   "source": [
    "ls_names = dfL['Item'].unique()\n",
    "for ls in ls_names:\n",
    "    ls_df = dfL[(dfL['Item'] == ls)]\n",
    "    all_food_dfs[ls] = ls_df"
   ]
  },
  {
   "cell_type": "markdown",
   "metadata": {},
   "source": [
    "### List of all food names"
   ]
  },
  {
   "cell_type": "code",
   "execution_count": 56,
   "metadata": {
    "collapsed": false
   },
   "outputs": [],
   "source": [
    "all_names = list(crop_names) + list(ls_names)"
   ]
  },
  {
   "cell_type": "markdown",
   "metadata": {},
   "source": [
    "Dictionary with countries as keys and dictionaries as values, with food names as keys and (year, consumption value) pairs as values, updated to include our filled in data points."
   ]
  },
  {
   "cell_type": "code",
   "execution_count": 58,
   "metadata": {
    "collapsed": true
   },
   "outputs": [],
   "source": [
    "df_vals = {}\n",
    "for country in df['Country'].unique():\n",
    "    if country in cancer_lands:\n",
    "        data = {}\n",
    "        for crop in all_names:\n",
    "            df = all_food_dfs[crop]\n",
    "            for i, name in enumerate(df['Country'].values):\n",
    "                if name == country:\n",
    "                    if crop in data:\n",
    "                        data[crop].append((df['Year'].values[i], df['Value'].values[i]))\n",
    "                    else:\n",
    "                        data[crop] = [(df['Year'].values[i], df['Value'].values[i])]\n",
    "        df_vals[country] = data\n",
    "                        "
   ]
  },
  {
   "cell_type": "markdown",
   "metadata": {},
   "source": [
    "Averaged data across all years from 1992-2000, as generally diets from many yaers contribute to diabetes, cancer, and cardiovascular disease."
   ]
  },
  {
   "cell_type": "code",
   "execution_count": 62,
   "metadata": {
    "collapsed": false
   },
   "outputs": [],
   "source": [
    "predictors = {}\n",
    "for country in df_vals:\n",
    "    data = {}\n",
    "    for crop in df_vals[country]:\n",
    "        if crop not in df_vals[country]:\n",
    "            print country, crop\n",
    "        else:\n",
    "            year_data = df_vals[country][crop]\n",
    "            total = 0\n",
    "            if len(year_data) == 0:\n",
    "                data[crop] = 0\n",
    "            else:\n",
    "                count = 0\n",
    "                for yr, val in year_data:\n",
    "                    if not isinstance(val, float) and not isinstance(val, int):\n",
    "                        continue\n",
    "                    else:\n",
    "                        total += val\n",
    "                        count += 1\n",
    "                avg = float(total)/float(count)\n",
    "                data[crop] = avg\n",
    "    predictors[country] = data"
   ]
  },
  {
   "cell_type": "markdown",
   "metadata": {},
   "source": [
    "For each country, we accumulated the correct values for all of the predictors and compiled all of the predictors for 156 countries into a data frame"
   ]
  },
  {
   "cell_type": "code",
   "execution_count": 115,
   "metadata": {
    "collapsed": false
   },
   "outputs": [
    {
     "name": "stdout",
     "output_type": "stream",
     "text": [
      "(156, 103)\n"
     ]
    }
   ],
   "source": [
    "x = []\n",
    "cols = []\n",
    "for crop in predictors['France']:\n",
    "    cols.append(crop)\n",
    "for country in predictors:\n",
    "    x_vals = []\n",
    "    for crop in predictors[country]:\n",
    "        x_vals.append(predictors[country][crop])\n",
    "    x.append(x_vals)\n",
    "\n",
    "x_df = pd.DataFrame(x, columns = cols)\n",
    "print x_df.shape"
   ]
  },
  {
   "cell_type": "code",
   "execution_count": 66,
   "metadata": {
    "collapsed": false
   },
   "outputs": [],
   "source": [
    "x_df.to_csv('predictors_filled_156.csv')"
   ]
  },
  {
   "cell_type": "markdown",
   "metadata": {},
   "source": [
    "For each of the three diseases below, we built a corresponding data frame with the y-values corresponding to the x-values in the data frame of predictors, for each corresponding country in the correct order. We then wrote this data to csv files so that we would not have to run this code over and over again."
   ]
  },
  {
   "cell_type": "code",
   "execution_count": 134,
   "metadata": {
    "collapsed": false
   },
   "outputs": [
    {
     "name": "stdout",
     "output_type": "stream",
     "text": [
      "(156, 1)\n"
     ]
    }
   ],
   "source": [
    "cancer = []\n",
    "for country in predictors:\n",
    "    for i, place in enumerate(cancer_2000['Country'].values):\n",
    "        if place == country:\n",
    "            cancer.append(cancer_2000['Mortality'].values[i])\n",
    "            \n",
    "cancer_df = pd.DataFrame(cancer, columns = ['Cancer Mortality Rate'])\n",
    "print cancer_df.shape"
   ]
  },
  {
   "cell_type": "code",
   "execution_count": 88,
   "metadata": {
    "collapsed": true
   },
   "outputs": [],
   "source": [
    "cancer_df.to_csv('cancer_156.csv')"
   ]
  },
  {
   "cell_type": "code",
   "execution_count": 133,
   "metadata": {
    "collapsed": false
   },
   "outputs": [
    {
     "name": "stdout",
     "output_type": "stream",
     "text": [
      "(156, 1)\n"
     ]
    }
   ],
   "source": [
    "diabetes = []\n",
    "for country in predictors:\n",
    "    for i, place in enumerate(diabetes_2000['Country'].values):\n",
    "        if place == country:\n",
    "            diabetes.append(diabetes_2000['Mortality'].values[i])\n",
    "            \n",
    "diabetes_df = pd.DataFrame(diabetes, columns = ['Diabetes Mortality Rate'])\n",
    "print diabetes_df.shape"
   ]
  },
  {
   "cell_type": "code",
   "execution_count": 87,
   "metadata": {
    "collapsed": true
   },
   "outputs": [],
   "source": [
    "diabetes_df.to_csv('diabetes_156.csv')"
   ]
  },
  {
   "cell_type": "code",
   "execution_count": 132,
   "metadata": {
    "collapsed": false
   },
   "outputs": [
    {
     "name": "stdout",
     "output_type": "stream",
     "text": [
      "(156, 1)\n"
     ]
    }
   ],
   "source": [
    "cardio = []\n",
    "for country in predictors:\n",
    "    for i, place in enumerate(cardio_2000['Country'].values):\n",
    "        if place == country:\n",
    "            cardio.append(cardio_2000['Mortality'].values[i])\n",
    "            \n",
    "cardio_df = pd.DataFrame(cardio, columns = ['Cardio Mortality Rate'])\n",
    "print cardio_df.shape      "
   ]
  },
  {
   "cell_type": "code",
   "execution_count": 86,
   "metadata": {
    "collapsed": true
   },
   "outputs": [],
   "source": [
    "cardio_df.to_csv('cardio_156.csv')"
   ]
  }
 ],
 "metadata": {
  "anaconda-cloud": {},
  "kernelspec": {
   "display_name": "Python [Root]",
   "language": "python",
   "name": "Python [Root]"
  },
  "language_info": {
   "codemirror_mode": {
    "name": "ipython",
    "version": 2
   },
   "file_extension": ".py",
   "mimetype": "text/x-python",
   "name": "python",
   "nbconvert_exporter": "python",
   "pygments_lexer": "ipython2",
   "version": "2.7.12"
  }
 },
 "nbformat": 4,
 "nbformat_minor": 0
}
