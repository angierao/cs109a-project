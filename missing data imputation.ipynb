{
 "cells": [
  {
   "cell_type": "code",
   "execution_count": 116,
   "metadata": {
    "collapsed": false
   },
   "outputs": [],
   "source": [
    "import numpy as np\n",
    "import pandas as pd"
   ]
  },
  {
   "cell_type": "markdown",
   "metadata": {},
   "source": []
  },
  {
   "cell_type": "code",
   "execution_count": 91,
   "metadata": {
    "collapsed": false
   },
   "outputs": [],
   "source": [
    "#read in crops\n",
    "allcrops_2000 = pd.read_csv('datasets/allcrops_2000.csv')\n",
    "# names of all the crops\n",
    "crop_names = allcrops_2000['ItemName'].unique()\n",
    "\n",
    "# remove nan\n",
    "crop_names = crop_names[:-1]\n",
    "\n",
    "# list to put our separated crop dataframes\n",
    "all_crop_dfs = []\n",
    "\n",
    "# find each crop-separated df and put it in the list of dataframes\n",
    "for crop in crop_names:\n",
    "    crop_df = allcrops_2000[(allcrops_2000['ItemName'] == crop)]\n",
    "    all_crop_dfs.append(crop_df)"
   ]
  },
  {
   "cell_type": "markdown",
   "metadata": {},
   "source": []
  },
  {
   "cell_type": "code",
   "execution_count": 93,
   "metadata": {
    "collapsed": false
   },
   "outputs": [],
   "source": [
    "# Do the same as above, but for livestock\n",
    "livestock_2000 = pd.read_csv('datasets/livestock_2000.csv')\n",
    "\n",
    "# list of livestock names\n",
    "livestock_names_all = livestock_2000['ItemName'].unique()\n",
    "livestock_names_all = livestock_names_all[1:-1]\n",
    "livestock_names = []\n",
    "for name in livestock_names_all:\n",
    "    if name != 'Grand Total':\n",
    "        livestock_names.append(name)\n",
    "\n",
    "# list to put our separated dataframes\n",
    "livestock_dfs = []\n",
    "\n",
    "# separate dataframe based on itemname\n",
    "for crop in livestock_names:\n",
    "    crop_df = livestock_2000[(livestock_2000['ItemName'] == crop)]\n",
    "    livestock_dfs.append(crop_df)"
   ]
  },
  {
   "cell_type": "code",
   "execution_count": 94,
   "metadata": {
    "collapsed": false
   },
   "outputs": [],
   "source": [
    "# read in disease rates\n",
    "column_headers = [\"Country\", \"Year\", \"Mortality\", \"Mortality 2\", \"Mortality 3\"]\n",
    "diabetes = pd.read_csv('datasets/diabetes.csv', names = column_headers)\n",
    "cardio = pd.read_csv('datasets/cardiovascular.csv', names = column_headers)\n",
    "cancer= pd.read_csv('datasets/Cancer.csv', names = column_headers)"
   ]
  },
  {
   "cell_type": "code",
   "execution_count": 95,
   "metadata": {
    "collapsed": false
   },
   "outputs": [],
   "source": [
    "cardio_2012 = cardio[(cardio[\"Year\"] == \"2012\")] \n",
    "cardio_2000 = cardio[(cardio[\"Year\"] == \"2000\")] "
   ]
  },
  {
   "cell_type": "code",
   "execution_count": 96,
   "metadata": {
    "collapsed": false
   },
   "outputs": [],
   "source": [
    "diabetes_2012 = diabetes[(diabetes['Year'] == '2012')] \n",
    "diabetes_2000 = diabetes[(diabetes['Year'] == '2000')] "
   ]
  },
  {
   "cell_type": "code",
   "execution_count": 97,
   "metadata": {
    "collapsed": false
   },
   "outputs": [],
   "source": [
    "cancer_2012 = cancer[(cancer['Year'] == ' 2012')] \n",
    "cancer_2000 = cancer[(cancer['Year'] == ' 2000')] "
   ]
  },
  {
   "cell_type": "code",
   "execution_count": 98,
   "metadata": {
    "collapsed": false
   },
   "outputs": [],
   "source": [
    "all_foods = all_crop_dfs"
   ]
  },
  {
   "cell_type": "code",
   "execution_count": 99,
   "metadata": {
    "collapsed": false
   },
   "outputs": [],
   "source": [
    "# dictionary of all dataframes, crop and livestock\n",
    "all_dfs = {}\n",
    "for df in all_crop_dfs:\n",
    "    crop_name = df['ItemName'].values[0]\n",
    "    all_dfs[crop_name] = df\n",
    "\n",
    "for df in livestock_dfs:\n",
    "    crop_name = df['ItemName'].values[0]\n",
    "    all_dfs[crop_name] = df"
   ]
  },
  {
   "cell_type": "code",
   "execution_count": 100,
   "metadata": {
    "collapsed": false
   },
   "outputs": [
    {
     "name": "stderr",
     "output_type": "stream",
     "text": [
      "/Users/angierao/anaconda/lib/python2.7/site-packages/ipykernel/__main__.py:12: SettingWithCopyWarning: \n",
      "A value is trying to be set on a copy of a slice from a DataFrame\n",
      "\n",
      "See the caveats in the documentation: http://pandas.pydata.org/pandas-docs/stable/indexing.html#indexing-view-versus-copy\n",
      "/Users/angierao/anaconda/lib/python2.7/site-packages/ipykernel/__main__.py:6: SettingWithCopyWarning: \n",
      "A value is trying to be set on a copy of a slice from a DataFrame\n",
      "\n",
      "See the caveats in the documentation: http://pandas.pydata.org/pandas-docs/stable/indexing.html#indexing-view-versus-copy\n",
      "/Users/angierao/anaconda/lib/python2.7/site-packages/ipykernel/__main__.py:14: SettingWithCopyWarning: \n",
      "A value is trying to be set on a copy of a slice from a DataFrame\n",
      "\n",
      "See the caveats in the documentation: http://pandas.pydata.org/pandas-docs/stable/indexing.html#indexing-view-versus-copy\n",
      "/Users/angierao/anaconda/lib/python2.7/site-packages/ipykernel/__main__.py:8: SettingWithCopyWarning: \n",
      "A value is trying to be set on a copy of a slice from a DataFrame\n",
      "\n",
      "See the caveats in the documentation: http://pandas.pydata.org/pandas-docs/stable/indexing.html#indexing-view-versus-copy\n",
      "/Users/angierao/anaconda/lib/python2.7/site-packages/ipykernel/__main__.py:10: SettingWithCopyWarning: \n",
      "A value is trying to be set on a copy of a slice from a DataFrame\n",
      "\n",
      "See the caveats in the documentation: http://pandas.pydata.org/pandas-docs/stable/indexing.html#indexing-view-versus-copy\n",
      "/Users/angierao/anaconda/lib/python2.7/site-packages/ipykernel/__main__.py:4: SettingWithCopyWarning: \n",
      "A value is trying to be set on a copy of a slice from a DataFrame\n",
      "\n",
      "See the caveats in the documentation: http://pandas.pydata.org/pandas-docs/stable/indexing.html#indexing-view-versus-copy\n"
     ]
    }
   ],
   "source": [
    "for i in range(cancer_2000.shape[0]):\n",
    "    country = cancer_2000.iloc[i, 0]\n",
    "    if country == 'United Kingdom of Great Britain and Northern Ireland':\n",
    "        cancer_2000.iloc[i, 0] = 'United Kingdom'\n",
    "    elif country == 'China':\n",
    "        cancer_2000.iloc[i, 0] = 'China, mainland'\n",
    "    elif country == 'Sudan':\n",
    "        cancer_2000.iloc[i, 0] = 'Sudan (former)'\n",
    "    elif country == 'The former Yugoslav republic of Macedonia':\n",
    "        cancer_2000.iloc[i, 0] = 'The former Yugoslav Republic of Macedonia'\n",
    "    elif country == 'Cote d\\'Ivoire':\n",
    "        cancer_2000.iloc[i, 0] = 'C\\xc3\\xb4te d\\'Ivoire'\n",
    "    elif country == 'Czech Republic':\n",
    "        cancer_2000.iloc[i, 0] = 'Czechia'"
   ]
  },
  {
   "cell_type": "code",
   "execution_count": 101,
   "metadata": {
    "collapsed": false
   },
   "outputs": [
    {
     "name": "stderr",
     "output_type": "stream",
     "text": [
      "/Users/angierao/anaconda/lib/python2.7/site-packages/ipykernel/__main__.py:12: SettingWithCopyWarning: \n",
      "A value is trying to be set on a copy of a slice from a DataFrame\n",
      "\n",
      "See the caveats in the documentation: http://pandas.pydata.org/pandas-docs/stable/indexing.html#indexing-view-versus-copy\n",
      "/Users/angierao/anaconda/lib/python2.7/site-packages/ipykernel/__main__.py:6: SettingWithCopyWarning: \n",
      "A value is trying to be set on a copy of a slice from a DataFrame\n",
      "\n",
      "See the caveats in the documentation: http://pandas.pydata.org/pandas-docs/stable/indexing.html#indexing-view-versus-copy\n",
      "/Users/angierao/anaconda/lib/python2.7/site-packages/ipykernel/__main__.py:14: SettingWithCopyWarning: \n",
      "A value is trying to be set on a copy of a slice from a DataFrame\n",
      "\n",
      "See the caveats in the documentation: http://pandas.pydata.org/pandas-docs/stable/indexing.html#indexing-view-versus-copy\n",
      "/Users/angierao/anaconda/lib/python2.7/site-packages/ipykernel/__main__.py:8: SettingWithCopyWarning: \n",
      "A value is trying to be set on a copy of a slice from a DataFrame\n",
      "\n",
      "See the caveats in the documentation: http://pandas.pydata.org/pandas-docs/stable/indexing.html#indexing-view-versus-copy\n",
      "/Users/angierao/anaconda/lib/python2.7/site-packages/ipykernel/__main__.py:10: SettingWithCopyWarning: \n",
      "A value is trying to be set on a copy of a slice from a DataFrame\n",
      "\n",
      "See the caveats in the documentation: http://pandas.pydata.org/pandas-docs/stable/indexing.html#indexing-view-versus-copy\n",
      "/Users/angierao/anaconda/lib/python2.7/site-packages/ipykernel/__main__.py:4: SettingWithCopyWarning: \n",
      "A value is trying to be set on a copy of a slice from a DataFrame\n",
      "\n",
      "See the caveats in the documentation: http://pandas.pydata.org/pandas-docs/stable/indexing.html#indexing-view-versus-copy\n"
     ]
    }
   ],
   "source": [
    "for i in range(cardio_2000.shape[0]):\n",
    "    country = cardio_2000.iloc[i, 0]\n",
    "    if country == 'United Kingdom of Great Britain and Northern Ireland':\n",
    "        cardio_2000.iloc[i, 0] = 'United Kingdom'\n",
    "    elif country == 'China':\n",
    "        cardio_2000.iloc[i, 0] = 'China, mainland'\n",
    "    elif country == 'Sudan':\n",
    "        cardio_2000.iloc[i, 0] = 'Sudan (former)'\n",
    "    elif country == 'The former Yugoslav republic of Macedonia':\n",
    "        cardio_2000.iloc[i, 0] = 'The former Yugoslav Republic of Macedonia'\n",
    "    elif country == 'Cote d\\'Ivoire':\n",
    "        cardio_2000.iloc[i, 0] = 'C\\xc3\\xb4te d\\'Ivoire'\n",
    "    elif country == 'Czech Republic':\n",
    "        cardio_2000.iloc[i, 0] = 'Czechia'"
   ]
  },
  {
   "cell_type": "code",
   "execution_count": 102,
   "metadata": {
    "collapsed": false
   },
   "outputs": [
    {
     "name": "stderr",
     "output_type": "stream",
     "text": [
      "/Users/angierao/anaconda/lib/python2.7/site-packages/ipykernel/__main__.py:12: SettingWithCopyWarning: \n",
      "A value is trying to be set on a copy of a slice from a DataFrame\n",
      "\n",
      "See the caveats in the documentation: http://pandas.pydata.org/pandas-docs/stable/indexing.html#indexing-view-versus-copy\n",
      "/Users/angierao/anaconda/lib/python2.7/site-packages/ipykernel/__main__.py:6: SettingWithCopyWarning: \n",
      "A value is trying to be set on a copy of a slice from a DataFrame\n",
      "\n",
      "See the caveats in the documentation: http://pandas.pydata.org/pandas-docs/stable/indexing.html#indexing-view-versus-copy\n",
      "/Users/angierao/anaconda/lib/python2.7/site-packages/ipykernel/__main__.py:14: SettingWithCopyWarning: \n",
      "A value is trying to be set on a copy of a slice from a DataFrame\n",
      "\n",
      "See the caveats in the documentation: http://pandas.pydata.org/pandas-docs/stable/indexing.html#indexing-view-versus-copy\n",
      "/Users/angierao/anaconda/lib/python2.7/site-packages/ipykernel/__main__.py:8: SettingWithCopyWarning: \n",
      "A value is trying to be set on a copy of a slice from a DataFrame\n",
      "\n",
      "See the caveats in the documentation: http://pandas.pydata.org/pandas-docs/stable/indexing.html#indexing-view-versus-copy\n",
      "/Users/angierao/anaconda/lib/python2.7/site-packages/ipykernel/__main__.py:10: SettingWithCopyWarning: \n",
      "A value is trying to be set on a copy of a slice from a DataFrame\n",
      "\n",
      "See the caveats in the documentation: http://pandas.pydata.org/pandas-docs/stable/indexing.html#indexing-view-versus-copy\n",
      "/Users/angierao/anaconda/lib/python2.7/site-packages/ipykernel/__main__.py:4: SettingWithCopyWarning: \n",
      "A value is trying to be set on a copy of a slice from a DataFrame\n",
      "\n",
      "See the caveats in the documentation: http://pandas.pydata.org/pandas-docs/stable/indexing.html#indexing-view-versus-copy\n"
     ]
    }
   ],
   "source": [
    "for i in range(diabetes_2000.shape[0]):\n",
    "    country = diabetes_2000.iloc[i, 0]\n",
    "    if country == 'United Kingdom of Great Britain and Northern Ireland':\n",
    "        diabetes_2000.iloc[i, 0] = 'United Kingdom'\n",
    "    elif country == 'China':\n",
    "        diabetes_2000.iloc[i, 0] = 'China, mainland'\n",
    "    elif country == 'Sudan':\n",
    "        diabetes_2000.iloc[i, 0] = 'Sudan (former)'\n",
    "    elif country == 'The former Yugoslav republic of Macedonia':\n",
    "        diabetes_2000.iloc[i, 0] = 'The former Yugoslav Republic of Macedonia'\n",
    "    elif country == 'Cote d\\'Ivoire':\n",
    "        diabetes_2000.iloc[i, 0] = 'C\\xc3\\xb4te d\\'Ivoire'\n",
    "    elif country == 'Czech Republic':\n",
    "        diabetes_2000.iloc[i, 0] = 'Czechia'"
   ]
  },
  {
   "cell_type": "markdown",
   "metadata": {
    "collapsed": true
   },
   "source": [
    "# Looking at missing data"
   ]
  },
  {
   "cell_type": "code",
   "execution_count": 103,
   "metadata": {
    "collapsed": false
   },
   "outputs": [],
   "source": [
    "cardio_lands = cardio_2000['Country'].unique()\n",
    "diabetes_lands = diabetes_2000['Country'].unique()\n",
    "cancer_lands = cancer_2000['Country'].unique()"
   ]
  },
  {
   "cell_type": "code",
   "execution_count": 104,
   "metadata": {
    "collapsed": false
   },
   "outputs": [],
   "source": [
    "df = pd.read_csv('datasets/allwregions_92_00.csv')"
   ]
  },
  {
   "cell_type": "code",
   "execution_count": 77,
   "metadata": {
    "collapsed": false
   },
   "outputs": [],
   "source": [
    "all_countries = df['Country'].unique()"
   ]
  },
  {
   "cell_type": "markdown",
   "metadata": {},
   "source": [
    "### Creates dictionary where each key is a crop whose value is a dictionary with countries as keys and values as the years present in the data"
   ]
  },
  {
   "cell_type": "code",
   "execution_count": 29,
   "metadata": {
    "collapsed": false
   },
   "outputs": [],
   "source": [
    "all_crops = df['Item'].unique()\n",
    "#crop_countries = set()\n",
    "cropdata = {}\n",
    "for crop in all_crops:\n",
    "    data = {}\n",
    "    for i, country in enumerate(df['Country'].values):\n",
    "        count = 0\n",
    "        if country in cancer_lands:\n",
    "            data[country] = []\n",
    "    for i, country in enumerate(df['Country'].values):\n",
    "        if df['Item'].values[i] == crop:\n",
    "            if country in data:\n",
    "                if len(data[country]) > 0:\n",
    "                    data[country].append(df['Year'].values[i])\n",
    "                else:\n",
    "                    data[country] = [df['Year'].values[i]]\n",
    "    cropdata[crop] = data"
   ]
  },
  {
   "cell_type": "code",
   "execution_count": 32,
   "metadata": {
    "collapsed": false
   },
   "outputs": [
    {
     "name": "stdout",
     "output_type": "stream",
     "text": [
      "156\n"
     ]
    }
   ],
   "source": [
    "print len(cropdata['Molasses'].keys())"
   ]
  },
  {
   "cell_type": "markdown",
   "metadata": {},
   "source": [
    "### Next 2 cells: Creates a dictionary with countries as keys and values as the corresponding region"
   ]
  },
  {
   "cell_type": "code",
   "execution_count": 33,
   "metadata": {
    "collapsed": true
   },
   "outputs": [],
   "source": [
    "def parse_country(dataset): \n",
    "    country_full = pd.read_csv(str(dataset))\n",
    "    country_array = np.unique(country_full[\"Country\"])\n",
    "    return country_array"
   ]
  },
  {
   "cell_type": "code",
   "execution_count": 106,
   "metadata": {
    "collapsed": false
   },
   "outputs": [],
   "source": [
    "import glob\n",
    "path = 'datasets/countries/' \n",
    "allFiles = glob.glob(path + \"/*.csv\")\n",
    "country_dictionary = {}\n",
    "for file in allFiles:\n",
    "    area_name = file.split('/')[2].split('.')[0]\n",
    "    country_list = parse_country(file)\n",
    "    for country in country_list:\n",
    "        country_dictionary[country] = area_name"
   ]
  },
  {
   "cell_type": "code",
   "execution_count": 107,
   "metadata": {
    "collapsed": false
   },
   "outputs": [],
   "source": [
    "regions = set()\n",
    "for land in country_dictionary:\n",
    "    regions.add(country_dictionary[land])"
   ]
  },
  {
   "cell_type": "code",
   "execution_count": 108,
   "metadata": {
    "collapsed": false
   },
   "outputs": [],
   "source": [
    "regions_df = pd.read_csv('datasets/onlyregions_92_00.csv')"
   ]
  },
  {
   "cell_type": "markdown",
   "metadata": {},
   "source": [
    "### Creates a dictionary with the regions as keys and the values as dictionaries with crops as keys and lists of (year, value) tuples as values"
   ]
  },
  {
   "cell_type": "code",
   "execution_count": 38,
   "metadata": {
    "collapsed": false
   },
   "outputs": [],
   "source": [
    "regiondata = {}\n",
    "for i, region in enumerate(regions_df['Country'].unique()):\n",
    "    regiondata[region] = {}\n",
    "\n",
    "for i, region in enumerate(regions_df['Country'].values):\n",
    "    regiondict = regiondata[region]\n",
    "    crop = regions_df['Item'].values[i]\n",
    "    year = regions_df['Year'].values[i]\n",
    "    value = regions_df['Value'].values[i]\n",
    "    if crop in regiondict:\n",
    "        regiondata[region][crop].append((year, value))\n",
    "    else:\n",
    "        regiondata[region][crop] = [(year, value)]"
   ]
  },
  {
   "cell_type": "code",
   "execution_count": 109,
   "metadata": {
    "collapsed": false
   },
   "outputs": [],
   "source": [
    "regions_dfL = pd.read_csv('datasets/onlyregionsL_92_00.csv')"
   ]
  },
  {
   "cell_type": "code",
   "execution_count": 110,
   "metadata": {
    "collapsed": false
   },
   "outputs": [],
   "source": [
    "dfL = pd.read_csv('datasets/noregionsL_92_00.csv')"
   ]
  },
  {
   "cell_type": "code",
   "execution_count": 111,
   "metadata": {
    "collapsed": false
   },
   "outputs": [],
   "source": [
    "all_ls = dfL['Item'].unique()"
   ]
  },
  {
   "cell_type": "markdown",
   "metadata": {},
   "source": [
    "### Same thing as cropdata but with livestock"
   ]
  },
  {
   "cell_type": "code",
   "execution_count": 112,
   "metadata": {
    "collapsed": true
   },
   "outputs": [],
   "source": [
    "lsdata = {}\n",
    "for ls in all_ls:\n",
    "    data = {}\n",
    "    for i, country in enumerate(dfL['Country'].values):\n",
    "        count = 0\n",
    "        if country in cancer_lands:\n",
    "            data[country] = []\n",
    "    for i, country in enumerate(dfL['Country'].values):\n",
    "        if dfL['Item'].values[i] == ls:\n",
    "            if country in data:\n",
    "                if len(data[country]) > 0:\n",
    "                    data[country].append(dfL['Year'].values[i])\n",
    "                else:\n",
    "                    data[country] = [dfL['Year'].values[i]]\n",
    "    lsdata[ls] = data"
   ]
  },
  {
   "cell_type": "markdown",
   "metadata": {},
   "source": [
    "### Same thing as regiondata but for livestock"
   ]
  },
  {
   "cell_type": "code",
   "execution_count": 113,
   "metadata": {
    "collapsed": true
   },
   "outputs": [],
   "source": [
    "regiondataL = {}\n",
    "for i, region in enumerate(regions_dfL['Country'].unique()):\n",
    "    regiondataL[region] = {}\n",
    "\n",
    "for i, region in enumerate(regions_dfL['Country'].values):\n",
    "    regiondict = regiondataL[region]\n",
    "    ls = regions_dfL['Item'].values[i]\n",
    "    year = regions_dfL['Year'].values[i]\n",
    "    value = regions_dfL['Value'].values[i]\n",
    "    if ls in regiondict:\n",
    "        regiondataL[region][ls].append((year, value))\n",
    "    else:\n",
    "        regiondataL[region][ls] = [(year, value)]"
   ]
  },
  {
   "cell_type": "code",
   "execution_count": 114,
   "metadata": {
    "collapsed": false
   },
   "outputs": [],
   "source": [
    "df = pd.read_csv('datasets/noregions_92_00.csv')"
   ]
  },
  {
   "cell_type": "markdown",
   "metadata": {},
   "source": [
    "### Functions to extract values from regiondata"
   ]
  },
  {
   "cell_type": "code",
   "execution_count": 49,
   "metadata": {
    "collapsed": true
   },
   "outputs": [],
   "source": [
    "def getvalue(region, crop, year):\n",
    "    if crop in regiondata[region]:\n",
    "        data = regiondata[region][crop]\n",
    "        for yr, val in data:\n",
    "            if yr == year:\n",
    "                return val\n",
    "    else:\n",
    "        return 0\n",
    "\n",
    "def getvalueL(region, ls, year):\n",
    "    if ls in regiondataL[region]:\n",
    "        data = regiondataL[region][ls]\n",
    "        for yr, val in data:\n",
    "            if yr == year:\n",
    "                return val\n",
    "    else:\n",
    "        return 0"
   ]
  },
  {
   "cell_type": "markdown",
   "metadata": {},
   "source": [
    "# Do not re run these cell\n",
    "\n",
    "### They take awhile to run\n",
    "\n",
    "### Filling in the data"
   ]
  },
  {
   "cell_type": "code",
   "execution_count": 50,
   "metadata": {
    "collapsed": false
   },
   "outputs": [
    {
     "name": "stdout",
     "output_type": "stream",
     "text": [
      "77.83031106\n"
     ]
    }
   ],
   "source": [
    "\n",
    "end = dfL.shape[0]\n",
    "years = [1992 + i for i in range(9)]\n",
    "domain = dfL['Domain'].values[0]\n",
    "element = regions_dfL['Element'].values[0]\n",
    "unit = dfL['Unit'].values[0]\n",
    "count = 0\n",
    "for ls in lsdata:\n",
    "    for country in lsdata[ls]:\n",
    "        count += 1\n",
    "        if len(lsdata[ls][country]) == 9:\n",
    "            continue\n",
    "        if len(lsdata[ls][country]) == 8:\n",
    "            value = getvalueL(country_dictionary[country], ls, 1992)\n",
    "            dfL.loc[end+1] = [domain, country, element, ls, year, unit, value]\n",
    "            end += 1\n",
    "        if len(lsdata[ls][country]) == 1:\n",
    "            for i in range(1992, 2000):\n",
    "                value = getvalueL(country_dictionary[country], ls, i)\n",
    "                dfL.loc[end] = [domain, country, element, ls, i, unit, value]\n",
    "                end += 1\n",
    "        if len(lsdata[ls][country]) == 0:\n",
    "            for i in range(1992, 2001):\n",
    "                value = getvalueL(country_dictionary[country], ls, i)\n",
    "                dfL.loc[end] = [domain, country, element, ls, i, unit, value]\n",
    "                end += 1"
   ]
  },
  {
   "cell_type": "code",
   "execution_count": 51,
   "metadata": {
    "collapsed": false
   },
   "outputs": [
    {
     "name": "stdout",
     "output_type": "stream",
     "text": [
      "827.911561966\n"
     ]
    }
   ],
   "source": [
    "end = df.shape[0]\n",
    "years = [1992 + i for i in range(9)]\n",
    "domain = df['Domain'].values[0]\n",
    "element = regions_df['Element'].values[0]\n",
    "unit = df['Unit'].values[0]\n",
    "count = 0\n",
    "for crop in cropdata:\n",
    "    for country in cropdata[crop]:\n",
    "        count += 1\n",
    "        if len(cropdata[crop][country]) == 9:\n",
    "            continue\n",
    "        if len(cropdata[crop][country]) == 8:\n",
    "            value = getvalue(country_dictionary[country], crop, 1992)\n",
    "            df.loc[end] = [domain, country, element, crop, year, unit, value]\n",
    "            end += 1\n",
    "        if len(cropdata[crop][country]) == 1:\n",
    "            for i in range(1992, 2000):\n",
    "                value = getvalue(country_dictionary[country], crop, i)\n",
    "                df.loc[end] = [domain, country, element, crop, i, unit, value]\n",
    "                end += 1\n",
    "        if len(cropdata[crop][country]) == 0:\n",
    "            for i in range(1992, 2001):\n",
    "                value = getvalue(country_dictionary[country], crop, i)\n",
    "                df.loc[end] = [domain, country, element, crop, i, unit, value]\n",
    "                end += 1"
   ]
  },
  {
   "cell_type": "markdown",
   "metadata": {},
   "source": [
    "### Creating a dictionary with food names as keys and corresponding df as values"
   ]
  },
  {
   "cell_type": "code",
   "execution_count": 54,
   "metadata": {
    "collapsed": false
   },
   "outputs": [],
   "source": [
    "crop_names = df['Item'].unique()\n",
    "all_food_dfs = {}\n",
    "\n",
    "# find each crop-separated df and put it in the list of dataframes\n",
    "for crop in crop_names:\n",
    "    crop_df = df[(df['Item'] == crop)]\n",
    "    all_food_dfs[crop] = crop_df"
   ]
  },
  {
   "cell_type": "code",
   "execution_count": null,
   "metadata": {
    "collapsed": true
   },
   "outputs": [],
   "source": []
  },
  {
   "cell_type": "code",
   "execution_count": 55,
   "metadata": {
    "collapsed": false
   },
   "outputs": [],
   "source": [
    "ls_names = dfL['Item'].unique()\n",
    "for ls in ls_names:\n",
    "    ls_df = dfL[(dfL['Item'] == ls)]\n",
    "    all_food_dfs[ls] = ls_df"
   ]
  },
  {
   "cell_type": "markdown",
   "metadata": {},
   "source": [
    "### List of all food names"
   ]
  },
  {
   "cell_type": "code",
   "execution_count": 56,
   "metadata": {
    "collapsed": false
   },
   "outputs": [],
   "source": [
    "all_names = list(crop_names) + list(ls_names)"
   ]
  },
  {
   "cell_type": "code",
   "execution_count": 58,
   "metadata": {
    "collapsed": true
   },
   "outputs": [],
   "source": [
    "df_vals = {}\n",
    "for country in df['Country'].unique():\n",
    "    if country in cancer_lands:\n",
    "        data = {}\n",
    "        for crop in all_names:\n",
    "            df = all_food_dfs[crop]\n",
    "            for i, name in enumerate(df['Country'].values):\n",
    "                if name == country:\n",
    "                    if crop in data:\n",
    "                        data[crop].append((df['Year'].values[i], df['Value'].values[i]))\n",
    "                    else:\n",
    "                        data[crop] = [(df['Year'].values[i], df['Value'].values[i])]\n",
    "        df_vals[country] = data\n",
    "                        "
   ]
  },
  {
   "cell_type": "code",
   "execution_count": 62,
   "metadata": {
    "collapsed": false
   },
   "outputs": [],
   "source": [
    "predictors = {}\n",
    "for country in df_vals:\n",
    "    data = {}\n",
    "    for crop in df_vals[country]:\n",
    "        if crop not in df_vals[country]:\n",
    "            print country, crop\n",
    "        else:\n",
    "            year_data = df_vals[country][crop]\n",
    "            total = 0\n",
    "            if len(year_data) == 0:\n",
    "                data[crop] = 0\n",
    "            else:\n",
    "                count = 0\n",
    "                for yr, val in year_data:\n",
    "                    if not isinstance(val, float) and not isinstance(val, int):\n",
    "                        continue\n",
    "                    else:\n",
    "                        total += val\n",
    "                        count += 1\n",
    "                avg = float(total)/float(count)\n",
    "                data[crop] = avg\n",
    "    predictors[country] = data\n",
    "        \n",
    "        \n",
    "        \n",
    "            "
   ]
  },
  {
   "cell_type": "code",
   "execution_count": 115,
   "metadata": {
    "collapsed": false
   },
   "outputs": [
    {
     "name": "stdout",
     "output_type": "stream",
     "text": [
      "(156, 103)\n"
     ]
    }
   ],
   "source": [
    "x = []\n",
    "cols = []\n",
    "for crop in predictors['France']:\n",
    "    cols.append(crop)\n",
    "for country in predictors:\n",
    "    x_vals = []\n",
    "    for crop in predictors[country]:\n",
    "        x_vals.append(predictors[country][crop])\n",
    "    if len(x_vals) != 103:\n",
    "        print len(x_vals)\n",
    "        print 'x_vals'\n",
    "        print len(x_vals)\n",
    "    x.append(x_vals)\n",
    "\n",
    "x_df = pd.DataFrame(x, columns = cols)\n",
    "print x_df.shape"
   ]
  },
  {
   "cell_type": "code",
   "execution_count": 66,
   "metadata": {
    "collapsed": false
   },
   "outputs": [],
   "source": [
    "x_df.to_csv('predictors_filled_156.csv')"
   ]
  },
  {
   "cell_type": "code",
   "execution_count": 80,
   "metadata": {
    "collapsed": false
   },
   "outputs": [
    {
     "name": "stdout",
     "output_type": "stream",
     "text": [
      "(156, 1)\n"
     ]
    },
    {
     "data": {
      "text/html": [
       "<div>\n",
       "<table border=\"1\" class=\"dataframe\">\n",
       "  <thead>\n",
       "    <tr style=\"text-align: right;\">\n",
       "      <th></th>\n",
       "      <th>Cancer Mortality Rate</th>\n",
       "    </tr>\n",
       "  </thead>\n",
       "  <tbody>\n",
       "    <tr>\n",
       "      <th>0</th>\n",
       "      <td>142.1</td>\n",
       "    </tr>\n",
       "    <tr>\n",
       "      <th>1</th>\n",
       "      <td>104.9</td>\n",
       "    </tr>\n",
       "    <tr>\n",
       "      <th>2</th>\n",
       "      <td>154.6</td>\n",
       "    </tr>\n",
       "    <tr>\n",
       "      <th>3</th>\n",
       "      <td>110.9</td>\n",
       "    </tr>\n",
       "    <tr>\n",
       "      <th>4</th>\n",
       "      <td>100.7</td>\n",
       "    </tr>\n",
       "  </tbody>\n",
       "</table>\n",
       "</div>"
      ],
      "text/plain": [
       "  Cancer Mortality Rate\n",
       "0                 142.1\n",
       "1                 104.9\n",
       "2                 154.6\n",
       "3                 110.9\n",
       "4                 100.7"
      ]
     },
     "execution_count": 80,
     "metadata": {},
     "output_type": "execute_result"
    }
   ],
   "source": [
    "cancer = []\n",
    "for country in predictors:\n",
    "    for i, place in enumerate(cancer_2000['Country'].values):\n",
    "        if place == country:\n",
    "            cancer.append(cancer_2000['Mortality'].values[i])\n",
    "            \n",
    "cancer_df = pd.DataFrame(cancer, columns = ['Cancer Mortality Rate'])\n",
    "print cancer_df.shape\n",
    "cancer_df.head(n=5)\n",
    "            "
   ]
  },
  {
   "cell_type": "code",
   "execution_count": 88,
   "metadata": {
    "collapsed": true
   },
   "outputs": [],
   "source": [
    "cancer_df.to_csv('cancer_156.csv')"
   ]
  },
  {
   "cell_type": "code",
   "execution_count": 82,
   "metadata": {
    "collapsed": false
   },
   "outputs": [
    {
     "name": "stdout",
     "output_type": "stream",
     "text": [
      "(156, 1)\n"
     ]
    },
    {
     "data": {
      "text/html": [
       "<div>\n",
       "<table border=\"1\" class=\"dataframe\">\n",
       "  <thead>\n",
       "    <tr style=\"text-align: right;\">\n",
       "      <th></th>\n",
       "      <th>Diabetes Mortality Rate</th>\n",
       "    </tr>\n",
       "  </thead>\n",
       "  <tbody>\n",
       "    <tr>\n",
       "      <th>0</th>\n",
       "      <td>14.0</td>\n",
       "    </tr>\n",
       "    <tr>\n",
       "      <th>1</th>\n",
       "      <td>19.8</td>\n",
       "    </tr>\n",
       "    <tr>\n",
       "      <th>2</th>\n",
       "      <td>5.0</td>\n",
       "    </tr>\n",
       "    <tr>\n",
       "      <th>3</th>\n",
       "      <td>15.9</td>\n",
       "    </tr>\n",
       "    <tr>\n",
       "      <th>4</th>\n",
       "      <td>28.9</td>\n",
       "    </tr>\n",
       "  </tbody>\n",
       "</table>\n",
       "</div>"
      ],
      "text/plain": [
       "  Diabetes Mortality Rate\n",
       "0                    14.0\n",
       "1                    19.8\n",
       "2                     5.0\n",
       "3                    15.9\n",
       "4                    28.9"
      ]
     },
     "execution_count": 82,
     "metadata": {},
     "output_type": "execute_result"
    }
   ],
   "source": [
    "diabetes = []\n",
    "for country in predictors:\n",
    "    for i, place in enumerate(diabetes_2000['Country'].values):\n",
    "        if place == country:\n",
    "            diabetes.append(diabetes_2000['Mortality'].values[i])\n",
    "            \n",
    "diabetes_df = pd.DataFrame(diabetes, columns = ['Diabetes Mortality Rate'])\n",
    "print diabetes_df.shape\n",
    "diabetes_df.head(n=5)\n",
    "            "
   ]
  },
  {
   "cell_type": "code",
   "execution_count": 87,
   "metadata": {
    "collapsed": true
   },
   "outputs": [],
   "source": [
    "diabetes_df.to_csv('diabetes_156.csv')"
   ]
  },
  {
   "cell_type": "code",
   "execution_count": 85,
   "metadata": {
    "collapsed": false
   },
   "outputs": [
    {
     "name": "stdout",
     "output_type": "stream",
     "text": [
      "(156, 1)\n"
     ]
    },
    {
     "data": {
      "text/html": [
       "<div>\n",
       "<table border=\"1\" class=\"dataframe\">\n",
       "  <thead>\n",
       "    <tr style=\"text-align: right;\">\n",
       "      <th></th>\n",
       "      <th>Cardio Mortality Rate</th>\n",
       "    </tr>\n",
       "  </thead>\n",
       "  <tbody>\n",
       "    <tr>\n",
       "      <th>0</th>\n",
       "      <td>150.8</td>\n",
       "    </tr>\n",
       "    <tr>\n",
       "      <th>1</th>\n",
       "      <td>724.4</td>\n",
       "    </tr>\n",
       "    <tr>\n",
       "      <th>2</th>\n",
       "      <td>373.9</td>\n",
       "    </tr>\n",
       "    <tr>\n",
       "      <th>3</th>\n",
       "      <td>222.5</td>\n",
       "    </tr>\n",
       "    <tr>\n",
       "      <th>4</th>\n",
       "      <td>180.4</td>\n",
       "    </tr>\n",
       "  </tbody>\n",
       "</table>\n",
       "</div>"
      ],
      "text/plain": [
       "  Cardio Mortality Rate\n",
       "0                 150.8\n",
       "1                 724.4\n",
       "2                 373.9\n",
       "3                 222.5\n",
       "4                 180.4"
      ]
     },
     "execution_count": 85,
     "metadata": {},
     "output_type": "execute_result"
    }
   ],
   "source": [
    "cardio = []\n",
    "for country in predictors:\n",
    "    for i, place in enumerate(cardio_2000['Country'].values):\n",
    "        if place == country:\n",
    "            cardio.append(cardio_2000['Mortality'].values[i])\n",
    "            \n",
    "cardio_df = pd.DataFrame(cardio, columns = ['Cardio Mortality Rate'])\n",
    "print cardio_df.shape\n",
    "cardio_df.head(n=5)\n",
    "            "
   ]
  },
  {
   "cell_type": "code",
   "execution_count": 86,
   "metadata": {
    "collapsed": true
   },
   "outputs": [],
   "source": [
    "cardio_df.to_csv('cardio_156.csv')"
   ]
  }
 ],
 "metadata": {
  "anaconda-cloud": {},
  "kernelspec": {
   "display_name": "Python [Root]",
   "language": "python",
   "name": "Python [Root]"
  },
  "language_info": {
   "codemirror_mode": {
    "name": "ipython",
    "version": 2
   },
   "file_extension": ".py",
   "mimetype": "text/x-python",
   "name": "python",
   "nbconvert_exporter": "python",
   "pygments_lexer": "ipython2",
   "version": "2.7.12"
  }
 },
 "nbformat": 4,
 "nbformat_minor": 0
}
