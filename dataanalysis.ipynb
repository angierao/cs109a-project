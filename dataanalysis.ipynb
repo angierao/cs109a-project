{
 "cells": [
  {
   "cell_type": "markdown",
   "metadata": {},
   "source": [
    "-----"
   ]
  },
  {
   "cell_type": "markdown",
   "metadata": {},
   "source": [
    "<h1 align=\"center\"> Data Analysis </h1><br>\n",
    "This notebook explores the provided crop and livestock predicts from FAOSTAT. Scatterplots were generated comparing disease mortality rates per 100,000 and food item consumption in kg/capita/year. This analysis was extended for cancer, diabetes, and cardiovascular disease and over 100 predictors were examined. The top positively and negatively correlated predictors are printed below."
   ]
  },
  {
   "cell_type": "markdown",
   "metadata": {},
   "source": [
    "-----"
   ]
  },
  {
   "cell_type": "code",
   "execution_count": 2,
   "metadata": {
    "collapsed": false
   },
   "outputs": [
    {
     "data": {
      "text/html": [
       "<script>\n",
       "code_show=true;\n",
       "function code_toggle() {\n",
       " if (code_show){\n",
       " $('div.input').hide();\n",
       " } else {\n",
       " $('div.input').show();\n",
       " }\n",
       " code_show = !code_show\n",
       "}\n",
       "$( document ).ready(code_toggle);\n",
       "</script>\n",
       "<form action=\"javascript:code_toggle()\"><input type=\"submit\" value=\"Click here to toggle on/off the raw code.\"></form>"
      ],
      "text/plain": [
       "<IPython.core.display.HTML object>"
      ]
     },
     "execution_count": 2,
     "metadata": {},
     "output_type": "execute_result"
    }
   ],
   "source": [
    "from IPython.display import HTML\n",
    "\n",
    "HTML('''<script>\n",
    "code_show=true;\n",
    "function code_toggle() {\n",
    " if (code_show){\n",
    " $('div.input').hide();\n",
    " } else {\n",
    " $('div.input').show();\n",
    " }\n",
    " code_show = !code_show\n",
    "}\n",
    "$( document ).ready(code_toggle);\n",
    "</script>\n",
    "<form action=\"javascript:code_toggle()\"><input type=\"submit\" value=\"Click here to toggle on/off the raw code.\"></form>''')"
   ]
  },
  {
   "cell_type": "code",
   "execution_count": 4,
   "metadata": {
    "collapsed": false
   },
   "outputs": [
    {
     "ename": "ImportError",
     "evalue": "No module named missingno",
     "output_type": "error",
     "traceback": [
      "\u001b[0;31m---------------------------------------------------------------------------\u001b[0m",
      "\u001b[0;31mImportError\u001b[0m                               Traceback (most recent call last)",
      "\u001b[0;32m<ipython-input-4-6594cc366272>\u001b[0m in \u001b[0;36m<module>\u001b[0;34m()\u001b[0m\n\u001b[1;32m     16\u001b[0m \u001b[0;32mfrom\u001b[0m \u001b[0msklearn\u001b[0m\u001b[0;34m.\u001b[0m\u001b[0mcross_validation\u001b[0m \u001b[0;32mimport\u001b[0m \u001b[0mcross_val_score\u001b[0m \u001b[0;32mas\u001b[0m \u001b[0mval_score\u001b[0m\u001b[0;34m\u001b[0m\u001b[0m\n\u001b[1;32m     17\u001b[0m \u001b[0;32mfrom\u001b[0m \u001b[0msklearn\u001b[0m\u001b[0;34m.\u001b[0m\u001b[0mlinear_model\u001b[0m \u001b[0;32mimport\u001b[0m \u001b[0mLinearRegression\u001b[0m \u001b[0;32mas\u001b[0m \u001b[0mLinReg\u001b[0m\u001b[0;34m\u001b[0m\u001b[0m\n\u001b[0;32m---> 18\u001b[0;31m \u001b[0;32mimport\u001b[0m \u001b[0mmissingno\u001b[0m \u001b[0;32mas\u001b[0m \u001b[0mmsno\u001b[0m\u001b[0;34m\u001b[0m\u001b[0m\n\u001b[0m\u001b[1;32m     19\u001b[0m \u001b[0;32mfrom\u001b[0m \u001b[0msklearn\u001b[0m\u001b[0;34m.\u001b[0m\u001b[0mlinear_model\u001b[0m \u001b[0;32mimport\u001b[0m \u001b[0mLogisticRegression\u001b[0m \u001b[0;32mas\u001b[0m \u001b[0mLogReg\u001b[0m\u001b[0;34m\u001b[0m\u001b[0m\n\u001b[1;32m     20\u001b[0m \u001b[0;32mfrom\u001b[0m \u001b[0msklearn\u001b[0m\u001b[0;34m.\u001b[0m\u001b[0mdecomposition\u001b[0m \u001b[0;32mimport\u001b[0m \u001b[0mPCA\u001b[0m\u001b[0;34m\u001b[0m\u001b[0m\n",
      "\u001b[0;31mImportError\u001b[0m: No module named missingno"
     ]
    }
   ],
   "source": [
    "import numpy as np\n",
    "import matplotlib \n",
    "import matplotlib.pyplot as plt\n",
    "from mpl_toolkits.mplot3d import Axes3D\n",
    "import matplotlib.cm as cmx\n",
    "import matplotlib.colors as colors\n",
    "import pandas as pd\n",
    "import math\n",
    "from IPython.display import Image\n",
    "from IPython.core.display import HTML \n",
    "from sklearn.linear_model import Lasso as Lasso_Reg\n",
    "from sklearn import linear_model\n",
    "from sklearn.feature_extraction.text import CountVectorizer\n",
    "from sklearn.neighbors import KNeighborsClassifier as KNN\n",
    "from sklearn.cross_validation import KFold\n",
    "from sklearn.cross_validation import cross_val_score as val_score\n",
    "from sklearn.linear_model import LinearRegression as LinReg\n",
    "import missingno as msno\n",
    "from sklearn.linear_model import LogisticRegression as LogReg\n",
    "from sklearn.decomposition import PCA\n",
    "from sklearn.cross_validation import train_test_split as sk_split\n",
    "import statsmodels.api as sm\n",
    "import pycountry\n",
    "import matplotlib.pyplot as plt\n",
    "import matplotlib as mpl\n",
    "import cartopy\n",
    "import cartopy.io.shapereader as shpreader\n",
    "import cartopy.crs as ccrs\n",
    "\n",
    "%matplotlib inline"
   ]
  },
  {
   "cell_type": "markdown",
   "metadata": {},
   "source": [
    "Data for crop and livestock predictors are read in from the original sources."
   ]
  },
  {
   "cell_type": "code",
   "execution_count": null,
   "metadata": {
    "collapsed": false
   },
   "outputs": [],
   "source": [
    "allcrops_2000 = pd.read_csv('datasets/allcrops_2000.csv')\n",
    "# names of all the crops\n",
    "crop_names = allcrops_2000['Item'].unique()\n",
    "\n",
    "# remove nan\n",
    "crop_names = crop_names[:-1]\n",
    "# list to put our separated crop dataframes\n",
    "all_crop_dfs = []\n",
    "\n",
    "# find each crop-separated df and put it in the list of dataframes\n",
    "for crop in crop_names:\n",
    "    crop_df = allcrops_2000[(allcrops_2000['Item'] == crop)]\n",
    "    all_crop_dfs.append(crop_df)"
   ]
  },
  {
   "cell_type": "code",
   "execution_count": null,
   "metadata": {
    "collapsed": false
   },
   "outputs": [],
   "source": [
    "# Do the same as above, but for livestock\n",
    "livestock_2000 = pd.read_csv('datasets/livestock_2000.csv')\n",
    "# list of livestock names\n",
    "livestock_names = livestock_2000['Item'].unique()\n",
    "livestock_names = livestock_names[:-1]\n",
    "\n",
    "# list to put our separated dataframes\n",
    "livestock_dfs = []\n",
    "\n",
    "# separate dataframe based on itemname\n",
    "for crop in livestock_names:\n",
    "    crop_df = livestock_2000[(livestock_2000['Item'] == crop)]\n",
    "    livestock_dfs.append(crop_df)"
   ]
  },
  {
   "cell_type": "markdown",
   "metadata": {},
   "source": [
    "The following cells read in both the actual and predicted mortality rates. Actual disease mortality rates were obtained from the WHO database online. Predicted mortality rates stem from best results of the advanced model chapter. For cancer and diabetes, this was a combination of linear regression and ridge selection for variable selection. For cardiovascular disease, this consisted of linear regression and LASSO variable selection. "
   ]
  },
  {
   "cell_type": "code",
   "execution_count": null,
   "metadata": {
    "collapsed": false
   },
   "outputs": [],
   "source": [
    "# read in predicted disease rates\n",
    "country_names = pd.read_csv('datasets/country_names_156.csv')\n",
    "diabetes_predict = pd.read_csv('datasets/diabetes_predict_1.txt')\n",
    "cardio_predict = pd.read_csv('datasets/cardio_predict_1.txt')\n",
    "cancer_predict = pd.read_csv('datasets/Cancer_predict_1.txt')"
   ]
  },
  {
   "cell_type": "code",
   "execution_count": null,
   "metadata": {
    "collapsed": true
   },
   "outputs": [],
   "source": [
    "# read in actual disease rates\n",
    "column_headers = [\"Country\", \"Year\", \"Mortality\", \"Mortality 2\", \"Mortality 3\"]\n",
    "diabetes_actual = pd.read_csv('datasets/Diabetes_WHO.csv', names = column_headers)\n",
    "cardio_actual = pd.read_csv('datasets/cardio_WHO.csv', names = column_headers)\n",
    "cancer_actual = pd.read_csv('datasets/Cancer_WHO.csv', names = column_headers)\n",
    "all_foods = all_crop_dfs"
   ]
  },
  {
   "cell_type": "code",
   "execution_count": null,
   "metadata": {
    "collapsed": true
   },
   "outputs": [],
   "source": [
    "# separate out 2012 and 2000 data\n",
    "cardio_2012 = cardio_actual[(cardio_actual[\"Year\"] == \"2012\")] \n",
    "cardio_2000 = cardio_actual[(cardio_actual[\"Year\"] == \"2000\")] \n",
    "diabetes_2012 = diabetes_actual[(diabetes_actual['Year'] == '2012')] \n",
    "diabetes_2000 = diabetes_actual[(diabetes_actual['Year'] == '2000')] \n",
    "cancer_2012 = cancer_actual[(cancer_actual['Year'] == ' 2012')] \n",
    "cancer_2000 = cancer_actual[(cancer_actual['Year'] == ' 2000')] "
   ]
  },
  {
   "cell_type": "markdown",
   "metadata": {},
   "source": [
    "# Actual and Predicted Mortality Rates World Map"
   ]
  },
  {
   "cell_type": "markdown",
   "metadata": {},
   "source": [
    "The predicted values were all concatenated into a dataset for convenience in conducting the analysis. The first step of cleaning the data was to transform country names to the international standard. Cartopy, our package for plotting world maps, relies on country 3 letter standard codes. Thus, the country names first must be standardized and then run through py.country to change to their corresponding codes (ex. the code for China is CHN). "
   ]
  },
  {
   "cell_type": "code",
   "execution_count": null,
   "metadata": {
    "collapsed": false
   },
   "outputs": [],
   "source": [
    "full_dataset = np.column_stack([country_names, cancer, diabetes, cardio])\n",
    "full_dataset = np.sort(full_dataset, axis=0, kind='quicksort', order=None)\n",
    "country_names = full_dataset[:,0]"
   ]
  },
  {
   "cell_type": "markdown",
   "metadata": {},
   "source": [
    "Here we wrote a function to change the appropriate country names to match those that Cartopy recognizes."
   ]
  },
  {
   "cell_type": "code",
   "execution_count": null,
   "metadata": {
    "collapsed": true
   },
   "outputs": [],
   "source": [
    "def change_names(country_names):\n",
    "    input_countries = country_names\n",
    "    counter = 1\n",
    "    for each in range(1, len(input_countries)):\n",
    "        if input_countries[counter] == 'Bolivia (Plurinational State of)':\n",
    "            input_countries[counter] = 'Bolivia, Plurinational State of'\n",
    "        if input_countries[counter] == 'Iran (Islamic Republic of)':\n",
    "            input_countries[counter] = 'Iran, Islamic Republic of'\n",
    "        if input_countries[counter] == \"C\\xc3\\xb4te d'Ivoire\":\n",
    "            input_countries[counter] = 'Cote d\\'Ivoire'\n",
    "        if input_countries[counter] == 'China, Macao SAR':\n",
    "            input_countries[counter] = 'Macao'\n",
    "        if input_countries[counter] == \"Democratic People's Republic of Korea\":\n",
    "            input_countries[counter] = 'Korea, Democratic People\\'s Republic of'\n",
    "        if input_countries[counter] == 'Republic of Korea':\n",
    "            input_countries[counter] = 'Korea, Republic of'\n",
    "        if input_countries[counter] == 'The former Yugoslav Republic of Macedonia':\n",
    "            input_countries[counter] = 'Macedonia, Republic of'\n",
    "        if input_countries[counter] == 'Sudan (former)':\n",
    "            input_countries[counter] = 'Sudan'\n",
    "        if input_countries[counter] == 'Venezuela (Bolivarian Republic of)':\n",
    "            input_countries[counter] = 'Venezuela, Bolivarian Republic of'\n",
    "        if input_countries[counter] == 'United States of America':\n",
    "            input_countries[counter] = 'United States'\n",
    "        if input_countries[counter] == 'China, Taiwan Province of':\n",
    "            input_countries[counter] = 'Taiwan, Province of China'\n",
    "        if input_countries[counter] == 'China, mainland':\n",
    "            input_countries[counter] = 'China'\n",
    "        if input_countries[counter] == 'China, Hong Kong SAR':\n",
    "            input_countries[counter] = 'Hong Kong'\n",
    "        if input_countries[counter] == 'Republic of Moldova':\n",
    "            input_countries[counter] = 'Moldova, Republic of'\n",
    "        if input_countries[counter] == 'United Republic of Tanzania':\n",
    "            input_countries[counter] = 'Tanzania, United Republic of'\n",
    "        if input_countries[counter] == 'Czechia':\n",
    "            input_countries[counter] = 'Czechoslovakia'\n",
    "        if input_countries[counter] == 'Netherlands Antilles':\n",
    "            input_countries[counter] = 'Netherlands'\n",
    "        if input_countries[counter] == 'Cabo Verde':\n",
    "            input_countries[counter] = 'Cabo Verde, Republic of'\n",
    "        counter = counter + 1"
   ]
  },
  {
   "cell_type": "code",
   "execution_count": null,
   "metadata": {
    "collapsed": false
   },
   "outputs": [],
   "source": [
    "change_names(country_names)"
   ]
  },
  {
   "cell_type": "code",
   "execution_count": null,
   "metadata": {
    "collapsed": false
   },
   "outputs": [],
   "source": [
    "# create array of countries to convert country name to 3 letter Alpha code\n",
    "countries = {}\n",
    "for country in pycountry.countries:\n",
    "    countries[country.name] = country.alpha3\n",
    "\n",
    "# iterate through all countries and compile list of codes, return unknown if no code is present\n",
    "codes = [countries.get(country, country) for country in country_names]"
   ]
  },
  {
   "cell_type": "markdown",
   "metadata": {},
   "source": [
    "The below two functions do the bulk of the mapping as we transform our data into a world map. Regarding the predicted values, the first function, we begin by removing all predicted values that may stem from outliers. These values are replaced by 0 since we cannot have any negative figures of disease mortality rate. The next step is to normalize the ranges by finding the maximum value and dividing each mortality rate by that figure to end up with a value between 0 and 1. Next, we plot these normalized values using a function called facecolor, which uses proportions to indicate how pigmented each CMYK filter should be to properly color the map. By normalizing disease mortality, we can compare rates across different countries by noting how dark the shade of blue is. Greenland was manually added in to be the same code as Iceland because they are treating separately in Cartopy but were grouped together in the WHO database. This same analysis of normalizing values was applied to the actual disease mortality rates dataset. The legend shows you the incidence rate per 100,000 individuals so you can compare absolute quantities in addition to relative amounts from the color gradation. "
   ]
  },
  {
   "cell_type": "code",
   "execution_count": null,
   "metadata": {
    "collapsed": true
   },
   "outputs": [],
   "source": [
    "def world_map(disease, dataset, number, max_value):\n",
    "    # score disease data as floats\n",
    "    disease_rates = dataset[:,number]\n",
    "    float_disease_array = []\n",
    "    for index, value in enumerate(disease_rates):\n",
    "        if value < 0: \n",
    "            disease_rates[index] = 0\n",
    "            float_disease_array.append(0)\n",
    "        else:\n",
    "            float_disease_array.append(float(value))\n",
    "            \n",
    "    # find maximum value for normalization\n",
    "#     max_value = np.max(float_disease_array) + 1\n",
    "    \n",
    "    # plot cartopy world map projection\n",
    "    # ax = plt.axes(projection=ccrs.PlateCarree())\n",
    "    fig, ax = plt.subplots(figsize=(12,6), \n",
    "                           subplot_kw={'projection': ccrs.PlateCarree()})\n",
    "    ax.set_extent([-150, 60, -25, 60])\n",
    "\n",
    "    # initialize the type of projdction and map outline format\n",
    "    shpfilename = shpreader.natural_earth(resolution='110m',\n",
    "                                          category='cultural',\n",
    "                                          name='admin_0_countries')\n",
    "    reader = shpreader.Reader(shpfilename)\n",
    "    countries = reader.records()\n",
    "\n",
    "    # initialize counter variable k \n",
    "    k = 0\n",
    "    for country in countries:\n",
    "\n",
    "        # for each country with a country code, color the country in proportion to the cardiovascular mortality rate\n",
    "        if any(country.attributes['adm0_a3'] in j for (k,j) in enumerate(codes)):\n",
    "            ax.add_geometries(country.geometry, ccrs.PlateCarree(),\n",
    "                              facecolor=[0, 1-(float(dataset[k,number])/max_value), 1],\n",
    "                              label=country.attributes['adm0_a3'])\n",
    "            k = k + 1\n",
    "\n",
    "        # color Greenland the same as Iceland\n",
    "        elif country.attributes['adm0_a3'] == 'GRL':\n",
    "            ax.add_geometries(country.geometry, ccrs.PlateCarree(),\n",
    "                              facecolor=[0, 1-(float(dataset[k,number])/max_value), 1],\n",
    "                              label=country.attributes['adm0_a3'])\n",
    "\n",
    "        # for all countries with no cardiovascular mortality data, make the country gray\n",
    "        else:\n",
    "            ax.add_geometries(country.geometry, ccrs.PlateCarree(),\n",
    "                              facecolor = [0.8, 0.8, 0.8],\n",
    "                              label=country.attributes['adm0_a3'])\n",
    "        ax.set_title('Predicted ' + str(disease) + ' Disease Incidence Rate by Country')\n",
    "\n",
    "        cmap = plt.cm.Blues\n",
    "        cax = fig.add_axes([0.95, 0.2, 0.02, 0.6])\n",
    "        norm = mpl.colors.Normalize(vmin=0, vmax=max_value)\n",
    "        cb = mpl.colorbar.ColorbarBase(cax, cmap=cmap, norm=norm, spacing='proportional')\n",
    "        cb.set_label(str(disease) + ' Mortality per Capita')\n",
    "\n",
    "    plt.show()"
   ]
  },
  {
   "cell_type": "code",
   "execution_count": null,
   "metadata": {
    "collapsed": true
   },
   "outputs": [],
   "source": [
    "def world_map_actual(disease_rates, disease, dataset):\n",
    "    float_disease_array = []\n",
    "    for each in disease_rates:\n",
    "        float_disease_array.append(float(each))\n",
    "    max_value = np.max(float_disease_array) + 1\n",
    "    \n",
    "    # plot cartopy world map projection\n",
    "    # ax = plt.axes(projection=ccrs.PlateCarree())\n",
    "    fig, ax = plt.subplots(figsize=(12,6), \n",
    "                           subplot_kw={'projection': ccrs.PlateCarree()})\n",
    "    ax.set_extent([-150, 60, -25, 60])\n",
    "\n",
    "    # initialize the type of projdction and map outline format\n",
    "    shpfilename = shpreader.natural_earth(resolution='110m',\n",
    "                                          category='cultural',\n",
    "                                          name='admin_0_countries')\n",
    "    reader = shpreader.Reader(shpfilename)\n",
    "    countries = reader.records()\n",
    "\n",
    "    # initialize counter variable k \n",
    "    k = 0\n",
    "    for country in countries:\n",
    "\n",
    "        # for each country with a country code, color the country in proportion to the cardiovascular mortality rate\n",
    "        if any(country.attributes['adm0_a3'] in j for (k,j) in enumerate(codes)):\n",
    "            ax.add_geometries(country.geometry, ccrs.PlateCarree(),\n",
    "                              facecolor=[0, 1-(float(dataset[k,1])/max_value), 1],\n",
    "                              label=country.attributes['adm0_a3'])\n",
    "            k = k + 1\n",
    "\n",
    "        # since USA has a unique format, append the USA's separate mortality index\n",
    "        elif country.attributes['adm0_a3'] == 'GRL':\n",
    "            ax.add_geometries(country.geometry, ccrs.PlateCarree(),\n",
    "                              facecolor=[0, 1-(float(dataset[k,1])/max_value), 1],\n",
    "                              label=country.attributes['adm0_a3'])\n",
    "\n",
    "        # for all countries with no cardiovascular mortality data, leave the country blank\n",
    "        else:\n",
    "            ax.add_geometries(country.geometry, ccrs.PlateCarree(),\n",
    "                              facecolor = [0.8, 0.8, 0.8],\n",
    "                              label=country.attributes['adm0_a3'])\n",
    "        ax.set_title('Actual ' + str(disease) + ' Disease Incidence Rate by Country')\n",
    "\n",
    "        cmap = plt.cm.Blues\n",
    "        cax = fig.add_axes([0.95, 0.2, 0.02, 0.6])\n",
    "        norm = mpl.colors.Normalize(vmin=0, vmax=max_value)\n",
    "        cb = mpl.colorbar.ColorbarBase(cax, cmap=cmap, norm=norm, spacing='proportional')\n",
    "        cb.set_label(str(disease) + ' Mortality per Capita')\n",
    "\n",
    "    plt.show()\n",
    "    return max_value"
   ]
  },
  {
   "cell_type": "code",
   "execution_count": null,
   "metadata": {
    "collapsed": false
   },
   "outputs": [],
   "source": [
    "cancer_2000[[\"Country\", \"Mortality\"]]\n",
    "cancer_rates = cancer_2000[\"Mortality\"].as_matrix()\n",
    "country_list_actual = cancer_2000[\"Country\"].as_matrix()\n",
    "change_names(country_list_actual)\n",
    "cancer_full = np.column_stack((country_list_actual, cancer_rates))"
   ]
  },
  {
   "cell_type": "code",
   "execution_count": null,
   "metadata": {
    "collapsed": false
   },
   "outputs": [],
   "source": [
    "max_value = world_map_actual(cancer_rates, \"Cancer\", cancer_full)\n",
    "world_map(\"Cancer\", full_dataset, 1, max_value)"
   ]
  },
  {
   "cell_type": "markdown",
   "metadata": {},
   "source": [
    "From the legend, we can see that our predicted and actual cancer ranges are within the same range, which is a strong first indication of the validity of our model. However, there is noticeable variability, for example for United States, we are overpredicting cancer mortality rates while in China, we are underpredicting the mortality rate."
   ]
  },
  {
   "cell_type": "code",
   "execution_count": null,
   "metadata": {
    "collapsed": true
   },
   "outputs": [],
   "source": [
    "diabetes_2000[[\"Country\", \"Mortality\"]]\n",
    "diabetes_rates = diabetes_2000[\"Mortality\"].as_matrix()\n",
    "country_list_actual = diabetes_2000[\"Country\"].as_matrix()\n",
    "change_names(country_list_actual)\n",
    "diabetes_full = np.column_stack((country_list_actual, diabetes_rates))"
   ]
  },
  {
   "cell_type": "code",
   "execution_count": null,
   "metadata": {
    "collapsed": false
   },
   "outputs": [],
   "source": [
    "max_value = world_map_actual(diabetes_rates, \"Diabetes\", diabetes_full)\n",
    "world_map(\"Diabetes\", full_dataset, 2, max_value)"
   ]
  },
  {
   "cell_type": "code",
   "execution_count": null,
   "metadata": {
    "collapsed": false
   },
   "outputs": [],
   "source": [
    "cardio_2000[[\"Country\", \"Mortality\"]]\n",
    "cardio_rates = cardio_2000[\"Mortality\"].as_matrix()\n",
    "country_list_actual = cardio_2000[\"Country\"].as_matrix()\n",
    "change_names(country_list_actual)\n",
    "cardio_full = np.column_stack((country_list_actual, cardio_rates))"
   ]
  },
  {
   "cell_type": "code",
   "execution_count": null,
   "metadata": {
    "collapsed": false
   },
   "outputs": [],
   "source": [
    "max_value = world_map_actual(cardio_rates, \"Cardio\", cardio_full)\n",
    "world_map(\"Cardio\", full_dataset, 3, max_value)"
   ]
  },
  {
   "cell_type": "markdown",
   "metadata": {},
   "source": [
    "# Predictor Impact Analysis\n",
    "\n",
    "In order to get a better idea how each individual predictor affects disease mortality rate, we created bubble charts for each disease. Each bubble corresponds to a specific predictor. The area of the bubble is proportional to the size of the coefficient of the predictorin the model. Red bubbles indicate a positive coefficient, meaning that the corresponding predictor causes an increase in disease mortality rate and thus is not recommended in a person's diet, while blue bubbles indicate a negative coefficient, or a predictor that will lower the disease mortality rate."
   ]
  },
  {
   "cell_type": "markdown",
   "metadata": {},
   "source": [
    "d3 Code for visualizing the impact of cancer predictors, written in JavaScript:"
   ]
  },
  {
   "cell_type": "code",
   "execution_count": null,
   "metadata": {
    "collapsed": true
   },
   "outputs": [],
   "source": [
    "<style>\n",
    "text {\n",
    "  font: 20px \"Helvetica Neue\", Helvetica, Arial, sans-serif;\n",
    "  text-anchor: middle;\n",
    "}\n",
    "</style>\n",
    "<svg width=\"960\" height=\"1000\"></svg>\n",
    "<script src=\"https://d3js.org/d3.v4.min.js\"></script>\n",
    "<script>\n",
    "var svg = d3.select(\"svg\"),\n",
    "    width = +svg.attr(\"width\");\n",
    "var format = d3.format(\",d\");\n",
    "var color = d3.scaleOrdinal(d3.schemeCategory20c);\n",
    "var pack = d3.pack()\n",
    "    .size([width, width])\n",
    "    .padding(1.5);\n",
    "d3.csv(\"cancer.csv\", function(d) {\n",
    "  d.value = +d.value;\n",
    "  if (d.value) return d;\n",
    "}, function(error, classes) {\n",
    "  if (error) throw error;\n",
    "  var root = d3.hierarchy({children: classes})\n",
    "      .sum(function(d) { return d.value; })\n",
    "      .each(function(d) {\n",
    "        if (id = d.data.id) {\n",
    "          var id, i = id.lastIndexOf(\".\");\n",
    "          d.id = id;\n",
    "          d.package = id.slice(0, i);\n",
    "          d.class = id.slice(i + 1);\n",
    "        }\n",
    "      });\n",
    "  var node = svg.selectAll(\".node\")\n",
    "    .data(pack(root).leaves())\n",
    "    .enter().append(\"g\")\n",
    "      .attr(\"class\", \"node\")\n",
    "      .attr(\"transform\", function(d) { return \"translate(\" + d.x + \",\" + d.y + \")\"; });\n",
    "  node.append(\"circle\")\n",
    "      .attr(\"id\", function(d) { return d.id; })\n",
    "      .attr(\"r\", function(d) { return d.r; })\n",
    "      .style(\"fill\", function(d) { \n",
    "        if (d.package == \"positive\") {\n",
    "          return \"rgb(220,20,60)\"; // red\n",
    "        }\n",
    "        else {\n",
    "          return \"rgb(100, 163, 209)\"; //blue\n",
    "        }});\n",
    "  node.append(\"clipPath\")\n",
    "      .attr(\"id\", function(d) { return \"clip-\" + d.id; })\n",
    "    .append(\"use\")\n",
    "      .attr(\"xlink:href\", function(d) { return \"#\" + d.id; });\n",
    "  node.append(\"text\")\n",
    "    .style(\"font-size\", function(d) {return Math.min(.4* d.r, (2 * d.r - 8) / this.getComputedTextLength()) + \"px\"; })\n",
    "      .attr(\"clip-path\", function(d) { return \"url(#clip-\" + d.id + \")\"; })\n",
    "    .selectAll(\"tspan\")\n",
    "    .data(function(d) { return d.class.split(/(?=[A-Z][^A-Z])/g); })\n",
    "    .enter().append(\"tspan\")\n",
    "      .attr(\"x\", 0)\n",
    "      .attr(\"y\", function(d, i, nodes) {\n",
    "        if (d == \"Fish, \")\n",
    "          return -35;\n",
    "        else if (d == \"Oil\" & nodes.length == 3)\n",
    "          return 40;\n",
    "        else if (d == \"Sugar, \")\n",
    "          return -50;\n",
    "        else if (d== \"Sugar (\")\n",
    "          return -50;\n",
    "        else if (d== \"Equiv\")\n",
    "          return 50;\n",
    "        else if (d== \"Equivalent)\")\n",
    "          return 50;\n",
    "        else \n",
    "       return 20 + (i - nodes.length / 2 - 0.5) * 20; })\n",
    "      .text(function(d) {\n",
    "        if (d == \"Meat, \" || d == \"Mammals\" || d== \"Meat \" || d == \"Meal\" || d == \"Milk, \"|| d == \"Whole\")\n",
    "          return \"\";\n",
    "        else if (d== \"Beverages (\" || d== \"Fermented)\")\n",
    "          return \"\";\n",
    "        else \n",
    "          return d; });\n",
    "  node.append(\"title\")\n",
    "      .text(function(d) { return d.id + \"\\n\" + format(d.value); });\n",
    "});\n",
    "</script>"
   ]
  },
  {
   "cell_type": "code",
   "execution_count": null,
   "metadata": {
    "collapsed": false
   },
   "outputs": [],
   "source": [
    "print 'Impact of Food Predictors on Cancer:'\n",
    "Image(url= \"http://i.imgur.com/AplbAx9.png\", width=300)"
   ]
  },
  {
   "cell_type": "markdown",
   "metadata": {},
   "source": [
    "d3 Code for visualizing the impact of diabetes predictors, written in JavaScript:"
   ]
  },
  {
   "cell_type": "code",
   "execution_count": null,
   "metadata": {
    "collapsed": true
   },
   "outputs": [],
   "source": [
    "<!DOCTYPE html>\n",
    "<meta charset=\"utf-8\">\n",
    "<style>\n",
    "text {\n",
    "  font: 20px \"Helvetica Neue\", Helvetica, Arial, sans-serif;\n",
    "  text-anchor: middle;\n",
    "}\n",
    "</style>\n",
    "<svg width=\"960\" height=\"1000\"></svg>\n",
    "<script src=\"https://d3js.org/d3.v4.min.js\"></script>\n",
    "<script>\n",
    "var svg = d3.select(\"svg\"),\n",
    "    width = +svg.attr(\"width\");\n",
    "var format = d3.format(\",d\");\n",
    "var color = d3.scaleOrdinal(d3.schemeCategory20c);\n",
    "var pack = d3.pack()\n",
    "    .size([width, width])\n",
    "    .padding(1.5);\n",
    "d3.csv(\"diabetes.csv\", function(d) {\n",
    "  d.value = +d.value;\n",
    "  if (d.value) return d;\n",
    "}, function(error, classes) {\n",
    "  if (error) throw error;\n",
    "  var root = d3.hierarchy({children: classes})\n",
    "      .sum(function(d) { return d.value; })\n",
    "      .each(function(d) {\n",
    "        if (id = d.data.id) {\n",
    "          var id, i = id.lastIndexOf(\".\");\n",
    "          d.id = id;\n",
    "          d.package = id.slice(0, i);\n",
    "          d.class = id.slice(i + 1);\n",
    "        }\n",
    "      });\n",
    "  var node = svg.selectAll(\".node\")\n",
    "    .data(pack(root).leaves())\n",
    "    .enter().append(\"g\")\n",
    "      .attr(\"class\", \"node\")\n",
    "      .attr(\"transform\", function(d) { return \"translate(\" + d.x + \",\" + d.y + \")\"; });\n",
    "  node.append(\"circle\")\n",
    "      .attr(\"id\", function(d) { return d.id; })\n",
    "      .attr(\"r\", function(d) { return d.r; })\n",
    "      .style(\"fill\", function(d) { \n",
    "        if (d.package == \"positive\") {\n",
    "          return \"rgb(220,20,60)\"; // red\n",
    "        }\n",
    "        else {\n",
    "          return \"rgb(100, 163, 209)\" //blue\n",
    "        }});\n",
    "  node.append(\"clipPath\")\n",
    "      .attr(\"id\", function(d) { return \"clip-\" + d.id; })\n",
    "    .append(\"use\")\n",
    "      .attr(\"xlink:href\", function(d) { return \"#\" + d.id; });\n",
    "  node.append(\"text\")\n",
    "    .style(\"font-size\", function(d) {return Math.min(.4* d.r, (2 * d.r - 8) / this.getComputedTextLength()) + \"px\"; })\n",
    "      .attr(\"clip-path\", function(d) { return \"url(#clip-\" + d.id + \")\"; })\n",
    "    .selectAll(\"tspan\")\n",
    "    .data(function(d) { return d.class.split(/(?=[A-Z][^A-Z])/g); })\n",
    "    .enter().append(\"tspan\")\n",
    "      .attr(\"x\", 0)\n",
    "      .attr(\"y\", function(d, i, nodes) {\n",
    "        if (d == \"Fish, \")\n",
    "          return -50;\n",
    "        else if (d == \"Oil\" & nodes.length == 3)\n",
    "          return 60;\n",
    "        else\n",
    "       return 20 + (i - nodes.length / 2) * 30; })\n",
    "      .text(function(d) {\n",
    "        if (d == \"Meat, \"|| d == \"Mammals\" || d== \"Meat \" || d == \"Meal\" || d == \"Milk, \"|| d == \"Whole\"|| d== \"Sugar cane\")\n",
    "          return \"\";\n",
    "        else if (d== \"Beverages (\" || d== \"Fermented)\")\n",
    "          return \"\";\n",
    "        else \n",
    "          return d; });\n",
    "  node.append(\"title\")\n",
    "      .text(function(d) { return d.id + \"\\n\" + format(d.value); });\n",
    "});\n",
    "</script>"
   ]
  },
  {
   "cell_type": "code",
   "execution_count": null,
   "metadata": {
    "collapsed": false
   },
   "outputs": [],
   "source": [
    "print 'Impact of Food Predictors on Diabetes:'\n",
    "Image(url= \"http://i.imgur.com/tRwjjdu.png\", width=300)"
   ]
  },
  {
   "cell_type": "markdown",
   "metadata": {},
   "source": [
    "d3 Code for visualizing the impact of cardiovascular disease predictors, written in JavaScript:"
   ]
  },
  {
   "cell_type": "code",
   "execution_count": null,
   "metadata": {
    "collapsed": true
   },
   "outputs": [],
   "source": [
    "<!DOCTYPE html>\n",
    "<meta charset=\"utf-8\">\n",
    "<style>\n",
    "text {\n",
    "  font: 30px \"Helvetica Neue\", Helvetica, Arial, sans-serif;\n",
    "  text-anchor: middle;\n",
    "}\n",
    "</style>\n",
    "<svg width=\"960\" height=\"1000\"></svg>\n",
    "<script src=\"https://d3js.org/d3.v4.min.js\"></script>\n",
    "<script>\n",
    "var svg = d3.select(\"svg\"),\n",
    "    width = +svg.attr(\"width\");\n",
    "var format = d3.format(\",d\");\n",
    "var color = d3.scaleOrdinal(d3.schemeCategory20c);\n",
    "var pack = d3.pack()\n",
    "    .size([width, width])\n",
    "    .padding(1.5);\n",
    "d3.csv(\"cardio.csv\", function(d) {\n",
    "  d.value = +d.value;\n",
    "  if (d.value) return d;\n",
    "}, function(error, classes) {\n",
    "  if (error) throw error;\n",
    "  var root = d3.hierarchy({children: classes})\n",
    "      .sum(function(d) { return d.value; })\n",
    "      .each(function(d) {\n",
    "        if (id = d.data.id) {\n",
    "          var id, i = id.lastIndexOf(\".\");\n",
    "          d.id = id;\n",
    "          d.package = id.slice(0, i);\n",
    "          d.class = id.slice(i + 1);\n",
    "        }\n",
    "      });\n",
    "  var node = svg.selectAll(\".node\")\n",
    "    .data(pack(root).leaves())\n",
    "    .enter().append(\"g\")\n",
    "      .attr(\"class\", \"node\")\n",
    "      .attr(\"transform\", function(d) { return \"translate(\" + d.x + \",\" + d.y + \")\"; });\n",
    "  node.append(\"circle\")\n",
    "      .attr(\"id\", function(d) { return d.id; })\n",
    "      .attr(\"r\", function(d) { return d.r; })\n",
    "      .style(\"fill\", function(d) { \n",
    "        if (d.package == \"positive\") {\n",
    "          return \"rgb(220,20,60)\"; // red\n",
    "        }\n",
    "        else {\n",
    "          return \"rgb(100, 163, 209)\" ; //blue\n",
    "        }});\n",
    "  node.append(\"clipPath\")\n",
    "      .attr(\"id\", function(d) { return \"clip-\" + d.id; })\n",
    "    .append(\"use\")\n",
    "      .attr(\"xlink:href\", function(d) { return \"#\" + d.id; });\n",
    "  node.append(\"text\")\n",
    "    .style(\"font-size\", function(d) {return Math.min(.4* d.r, (2 * d.r - 8) / this.getComputedTextLength()) + \"px\"; })\n",
    "      .attr(\"clip-path\", function(d) { return \"url(#clip-\" + d.id + \")\"; })\n",
    "    .selectAll(\"tspan\")\n",
    "    .data(function(d) { return d.class.split(/(?=[A-Z][^A-Z])/g); })\n",
    "    .enter().append(\"tspan\")\n",
    "      .attr(\"x\", 0)\n",
    "      .attr(\"y\", function(d, i, nodes) {\n",
    "        if (d == \"Fish, \")\n",
    "          return -50;\n",
    "        else if (d == \"Oil\" & nodes.length ==3)\n",
    "          return 60;\n",
    "        else\n",
    "       return 20 + (i - nodes.length / 2) * 30; })\n",
    "      .text(function(d) {\n",
    "        if (d == \"Meat, \" || d ==\"Aquatic \" || d == \"Mammals\" || d== \"Meat \" || d == \"Meal\" || d == \"Milk, \"|| d == \"Whole\"||d==\"Sweet potatoes\" || d== \"Pelagic \"||d == \"Fish\")\n",
    "          return \"\";\n",
    "        else if (d== \"Beverages (\" || d== \"Fermented)\")\n",
    "          return \"\";\n",
    "        else \n",
    "          return d; });\n",
    "  node.append(\"title\")\n",
    "      .text(function(d) { return d.id + \"\\n\" + format(d.value); });\n",
    "});\n",
    "</script>"
   ]
  },
  {
   "cell_type": "code",
   "execution_count": null,
   "metadata": {
    "collapsed": false
   },
   "outputs": [],
   "source": [
    "print 'Impact of Food Predictors on Cardiovascular Disease:'\n",
    "Image(url= \"http://i.imgur.com/tLT2F69.png\", width=300)"
   ]
  },
  {
   "cell_type": "markdown",
   "metadata": {},
   "source": [
    "# World Error Maps"
   ]
  },
  {
   "cell_type": "markdown",
   "metadata": {},
   "source": [
    "Although we do have the R^2 metric, R^2 does not tell us anything about how our model performs for specific countries. In order to visualize that, we calculated the fractional difference between our predicted disease mortality rate and the true disease mortality for that country. We then colored each country on a map according to that fractional difference on a gradient."
   ]
  },
  {
   "cell_type": "markdown",
   "metadata": {},
   "source": [
    "Here we sort the predicted data frame by countries."
   ]
  },
  {
   "cell_type": "code",
   "execution_count": null,
   "metadata": {
    "collapsed": false
   },
   "outputs": [],
   "source": [
    "predicted_df = pd.DataFrame({'country':country_list, 'cardio': predicted_cardio, 'cancer': predicted_cancer, 'diabetes': predicted_diabetes})\n",
    "predicted_df = predicted_df.sort_values('country')"
   ]
  },
  {
   "cell_type": "markdown",
   "metadata": {},
   "source": [
    "## Calculating Error\n",
    "\n",
    "Below we calculate the fractional differences according to the formula $$\\frac{\\text{true value} - \\text{predicted value}}{\\text{true value}}$$"
   ]
  },
  {
   "cell_type": "code",
   "execution_count": null,
   "metadata": {
    "collapsed": false
   },
   "outputs": [],
   "source": [
    "diff_cancer = []\n",
    "diff_diabetes = []\n",
    "diff_cardio = []\n",
    "for index, cancer, cardio, country, diabetes in predicted_df.itertuples():\n",
    "    real_cancer = cancer_2000[cancer_2000['Country'] == country]['Mortality']\n",
    "    diff_cancer.append((cancer - float(real_cancer))/float(real_cancer) )\n",
    "    real_cardio = cardio_2000[cardio_2000['Country'] == country]['Mortality']\n",
    "    diff_cardio.append((cardio - float(real_cardio))/float(real_cardio))\n",
    "    real_diabetes = diabetes_2000[diabetes_2000['Country'] == country]['Mortality']\n",
    "    if abs((diabetes - float(real_diabetes))/float(real_diabetes)) > 1:\n",
    "        diff_diabetes.append(0)\n",
    "    else:\n",
    "        diff_diabetes.append((diabetes - float(real_diabetes))/float(real_diabetes))\n"
   ]
  },
  {
   "cell_type": "markdown",
   "metadata": {},
   "source": [
    "We generate the three letter codes for each country so that Cartopy will recognize them."
   ]
  },
  {
   "cell_type": "code",
   "execution_count": null,
   "metadata": {
    "collapsed": false
   },
   "outputs": [],
   "source": [
    "# create array of countries to convert country name to 3 letter Alpha code\n",
    "countries = {}\n",
    "for country in pycountry.countries:\n",
    "    countries[country.name] = country.alpha3\n",
    "\n",
    "# iterate through all countries and compile list of codes, return unknown if no code is present\n",
    "codes = [countries.get(country, country) for country in diff_matrix[:,0]]"
   ]
  },
  {
   "cell_type": "markdown",
   "metadata": {},
   "source": [
    "Here we find the maximum and minimum fractional differences to help us determine the color gradient to shade the countries."
   ]
  },
  {
   "cell_type": "code",
   "execution_count": null,
   "metadata": {
    "collapsed": true
   },
   "outputs": [],
   "source": [
    "cancer_rates = diff_matrix[:,1]\n",
    "float_cancer_array = []\n",
    "for each in cancer_rates:\n",
    "    float_cancer_array.append(float(each))\n",
    "max_value = np.max(float_cancer_array) \n",
    "min_value = np.min(float_cancer_array) "
   ]
  },
  {
   "cell_type": "markdown",
   "metadata": {},
   "source": [
    "## Analysis for the Cancer Error Map\n",
    "\n",
    "The code below creates the world map with the appropriate shading for each country. For every country that we do not have data for, we shade it gray. As we can see from the scale on the right, dark blue and dark purple represent fractional errors that are close to 0, and are the colors that most countries have been shaded, which shows that our model is fairly accurate. Bright pink and bright teal represent the largest fractional errors, and as we can see, there are only a couple of countries with this shade. "
   ]
  },
  {
   "cell_type": "code",
   "execution_count": null,
   "metadata": {
    "collapsed": false
   },
   "outputs": [],
   "source": [
    "# plot cartopy world map projection\n",
    "# ax = plt.axes(projection=ccrs.PlateCarree())\n",
    "fig, ax = plt.subplots(figsize=(12,6), \n",
    "                       subplot_kw={'projection': ccrs.PlateCarree()})\n",
    "ax.set_extent([-150, 60, -25, 60])\n",
    "\n",
    "# initialize the type of projdction and map outline format\n",
    "shpfilename = shpreader.natural_earth(resolution='110m',\n",
    "                                      category='cultural',\n",
    "                                      name='admin_0_countries')\n",
    "reader = shpreader.Reader(shpfilename)\n",
    "countries = reader.records()\n",
    "\n",
    "# initialize counter variable k \n",
    "k = 0\n",
    "for country in countries:\n",
    "    \n",
    "    # for each country with a country code, color the country in proportion to the cardiovascular mortality rate\n",
    "    if any(country.attributes['adm0_a3'] in j for (k,j) in enumerate(codes)):\n",
    "        if float_cancer_array[k] > 0:\n",
    "            ax.add_geometries(country.geometry, ccrs.PlateCarree(),\n",
    "                          facecolor=[abs((float_cancer_array[k])/max_value), 0, 1],\n",
    "                          label=country.attributes['adm0_a3'])\n",
    "        else:\n",
    "            ax.add_geometries(country.geometry, ccrs.PlateCarree(),\n",
    "                      facecolor=[0, abs((float_cancer_array[k])/abs(min_value)), 1],\n",
    "                      label=country.attributes['adm0_a3'])\n",
    "        k = k + 1\n",
    "    \n",
    "    # since USA has a unique format, append the USA's separate mortality index\n",
    "    elif country.attributes['adm0_a3'] == 'GRL':\n",
    "        ax.add_geometries(country.geometry, ccrs.PlateCarree(),\n",
    "                          facecolor=[0, abs((float_cancer_array[k])/abs(min_value)), 1],\n",
    "                          label=country.attributes['adm0_a3'])\n",
    "    \n",
    "    # for all countries with no cardiovascular mortality data, leave the country blank\n",
    "    else:\n",
    "        ax.add_geometries(country.geometry, ccrs.PlateCarree(),\n",
    "                          facecolor = [0.8, 0.8, 0.8],\n",
    "                          label=country.attributes['adm0_a3'])\n",
    "    ax.set_title('Difference between Predicted and Actual Cancer Mortality Rates by Country')\n",
    "    \n",
    "    cmap = plt.cm.cool\n",
    "    cax = fig.add_axes([0.95, 0.2, 0.02, 0.6])\n",
    "    norm = mpl.colors.Normalize(vmin=min_value, vmax=max_value)\n",
    "    cb = mpl.colorbar.ColorbarBase(cax, cmap=cmap, norm=norm, spacing='proportional')\n",
    "    cb.set_label('Percent Difference')\n",
    "\n",
    "plt.show()"
   ]
  },
  {
   "cell_type": "markdown",
   "metadata": {},
   "source": [
    "Here we again find the maximum and minimum to determine the color gradient. "
   ]
  },
  {
   "cell_type": "code",
   "execution_count": null,
   "metadata": {
    "collapsed": true
   },
   "outputs": [],
   "source": [
    "diabetes_rates = diff_matrix[:,2]\n",
    "float_diabetes_array = []\n",
    "for each in diabetes_rates:\n",
    "    float_diabetes_array.append(float(each))\n",
    "max_value = np.max(float_diabetes_array) \n",
    "min_value = np.min(float_diabetes_array) "
   ]
  },
  {
   "cell_type": "markdown",
   "metadata": {},
   "source": [
    "## Analysis for Diabetes Error Map\n",
    "\n",
    "Below we generate the world map for diabetes using the correct shading for each country and gray if we don't have data for the country. Again, dark blue and dark purple represent small fractional errors, while bright pink and bright teal represent predictions that are more off. Most countries are dark blue or dark purple. We notice that the United States and Russia is not dark blue or dark purple, but a lighter blue, meaning that the true value is smaller than the predicted value, so we overestimated the mortality rate. We conjecture that this is because the United States and Russia are generally very developed countries that have superior medical care. As a result, the true mortality rate will be smaller than expected. "
   ]
  },
  {
   "cell_type": "code",
   "execution_count": null,
   "metadata": {
    "collapsed": false
   },
   "outputs": [],
   "source": [
    "# plot cartopy world map projection\n",
    "# ax = plt.axes(projection=ccrs.PlateCarree())\n",
    "fig, ax = plt.subplots(figsize=(12,6), \n",
    "                       subplot_kw={'projection': ccrs.PlateCarree()})\n",
    "ax.set_extent([-150, 60, -25, 60])\n",
    "\n",
    "# initialize the type of projdction and map outline format\n",
    "shpfilename = shpreader.natural_earth(resolution='110m',\n",
    "                                      category='cultural',\n",
    "                                      name='admin_0_countries')\n",
    "reader = shpreader.Reader(shpfilename)\n",
    "countries = reader.records()\n",
    "\n",
    "# initialize counter variable k \n",
    "k = 0\n",
    "for country in countries:\n",
    "    \n",
    "    # for each country with a country code, color the country in proportion to the cardiovascular mortality rate\n",
    "    if any(country.attributes['adm0_a3'] in j for (k,j) in enumerate(codes)):\n",
    "        if float_diabetes_array[k] > 0:\n",
    "            ax.add_geometries(country.geometry, ccrs.PlateCarree(),\n",
    "                          facecolor=[abs((float_diabetes_array[k])/max_value), 0, 1],\n",
    "                          label=country.attributes['adm0_a3'])\n",
    "        else:\n",
    "            ax.add_geometries(country.geometry, ccrs.PlateCarree(),\n",
    "                      facecolor=[0, abs((float_diabetes_array[k])/abs(min_value)), 1],\n",
    "                      label=country.attributes['adm0_a3'])\n",
    "        k = k + 1\n",
    "    \n",
    "    # since USA has a unique format, append the USA's separate mortality index\n",
    "    elif country.attributes['adm0_a3'] == 'GRL':\n",
    "        ax.add_geometries(country.geometry, ccrs.PlateCarree(),\n",
    "                      facecolor=[abs(float(float_diabetes_array[k])/max_value), 0, 1],\n",
    "                      label=country.attributes['adm0_a3'])\n",
    "    \n",
    "    # for all countries with no cardiovascular mortality data, leave the country blank\n",
    "    else:\n",
    "        ax.add_geometries(country.geometry, ccrs.PlateCarree(),\n",
    "                          facecolor = [0.8, 0.8, 0.8],\n",
    "                          label=country.attributes['adm0_a3'])\n",
    "    ax.set_title('Difference between Predicted and Actual Diabetes Mortality Rates by Country')\n",
    "    \n",
    "    cmap = plt.cm.cool\n",
    "    cax = fig.add_axes([0.95, 0.2, 0.02, 0.6])\n",
    "    norm = mpl.colors.Normalize(vmin=min_value, vmax=max_value)\n",
    "    cb = mpl.colorbar.ColorbarBase(cax, cmap=cmap, norm=norm, spacing='proportional')\n",
    "    cb.set_label('Percent Difference')\n",
    "\n",
    "plt.show()"
   ]
  },
  {
   "cell_type": "code",
   "execution_count": null,
   "metadata": {
    "collapsed": true
   },
   "outputs": [],
   "source": []
  },
  {
   "cell_type": "markdown",
   "metadata": {},
   "source": [
    "Repeating one last time for cardiovascular disease."
   ]
  },
  {
   "cell_type": "code",
   "execution_count": null,
   "metadata": {
    "collapsed": true
   },
   "outputs": [],
   "source": [
    "cardio_rates = diff_matrix[:,3]\n",
    "float_cardio_array = []\n",
    "for each in cardio_rates:\n",
    "    float_cardio_array.append(float(each))\n",
    "max_value = np.max(float_cardio_array) \n",
    "min_value = np.min(float_cardio_array) "
   ]
  },
  {
   "cell_type": "markdown",
   "metadata": {},
   "source": [
    "## Analysis for Cardiovascular Error Map\n",
    "\n"
   ]
  },
  {
   "cell_type": "code",
   "execution_count": null,
   "metadata": {
    "collapsed": false
   },
   "outputs": [],
   "source": [
    "# plot cartopy world map projection\n",
    "# ax = plt.axes(projection=ccrs.PlateCarree())\n",
    "fig, ax = plt.subplots(figsize=(12,6), \n",
    "                       subplot_kw={'projection': ccrs.PlateCarree()})\n",
    "ax.set_extent([-150, 60, -25, 60])\n",
    "\n",
    "# initialize the type of projdction and map outline format\n",
    "shpfilename = shpreader.natural_earth(resolution='110m',\n",
    "                                      category='cultural',\n",
    "                                      name='admin_0_countries')\n",
    "reader = shpreader.Reader(shpfilename)\n",
    "countries = reader.records()\n",
    "\n",
    "# initialize counter variable k \n",
    "k = 0\n",
    "for country in countries:\n",
    "    \n",
    "    # for each country with a country code, color the country in proportion to the cardiovascular mortality rate\n",
    "    if any(country.attributes['adm0_a3'] in j for (k,j) in enumerate(codes)):\n",
    "        if float_cardio_array[k] > 0:\n",
    "            ax.add_geometries(country.geometry, ccrs.PlateCarree(),\n",
    "                          facecolor=[abs((float_cardio_array[k])/max_value), 0, 1],\n",
    "                          label=country.attributes['adm0_a3'])\n",
    "        else:\n",
    "            ax.add_geometries(country.geometry, ccrs.PlateCarree(),\n",
    "                      facecolor=[0, abs((float_cardio_array[k])/abs(min_value)), 1],\n",
    "                      label=country.attributes['adm0_a3'])\n",
    "        k = k + 1\n",
    "    \n",
    "    # since USA has a unique format, append the USA's separate mortality index\n",
    "    elif country.attributes['adm0_a3'] == 'GRL':\n",
    "        ax.add_geometries(country.geometry, ccrs.PlateCarree(),\n",
    "                          facecolor=[abs(float(float_cardio_array[k])/max_value), 0, 1],\n",
    "                          label=country.attributes['adm0_a3'])\n",
    "    \n",
    "    # for all countries with no cardiovascular mortality data, leave the country blank\n",
    "    else:\n",
    "        ax.add_geometries(country.geometry, ccrs.PlateCarree(),\n",
    "                          facecolor = [0.8, 0.8, 0.8],\n",
    "                          label=country.attributes['adm0_a3'])\n",
    "    ax.set_title('Difference between Predicted and Actual Cardio Mortality Rates by Country')\n",
    "    \n",
    "    cmap = plt.cm.cool\n",
    "    cax = fig.add_axes([0.95, 0.2, 0.02, 0.6])\n",
    "    norm = mpl.colors.Normalize(vmin=min_value, vmax=max_value)\n",
    "    cb = mpl.colorbar.ColorbarBase(cax, cmap=cmap, norm=norm, spacing='proportional')\n",
    "    cb.set_label('Percent Difference')\n",
    "\n",
    "plt.show()"
   ]
  },
  {
   "cell_type": "code",
   "execution_count": 5,
   "metadata": {
    "collapsed": false
   },
   "outputs": [
    {
     "ename": "NameError",
     "evalue": "name 'world_map_actual' is not defined",
     "output_type": "error",
     "traceback": [
      "\u001b[0;31m---------------------------------------------------------------------------\u001b[0m",
      "\u001b[0;31mNameError\u001b[0m                                 Traceback (most recent call last)",
      "\u001b[0;32m<ipython-input-5-540475a9dccb>\u001b[0m in \u001b[0;36m<module>\u001b[0;34m()\u001b[0m\n\u001b[0;32m----> 1\u001b[0;31m \u001b[0mworld_map_actual\u001b[0m\u001b[0;34m(\u001b[0m\u001b[0mcardio_rates\u001b[0m\u001b[0;34m,\u001b[0m \u001b[0;34m\"Cardio\"\u001b[0m\u001b[0;34m,\u001b[0m \u001b[0mcardio_full\u001b[0m\u001b[0;34m)\u001b[0m\u001b[0;34m\u001b[0m\u001b[0m\n\u001b[0m\u001b[1;32m      2\u001b[0m \u001b[0mworld_map\u001b[0m\u001b[0;34m(\u001b[0m\u001b[0;34m\"Cardio\"\u001b[0m\u001b[0;34m,\u001b[0m \u001b[0mfull_dataset\u001b[0m\u001b[0;34m,\u001b[0m \u001b[0;36m3\u001b[0m\u001b[0;34m)\u001b[0m\u001b[0;34m\u001b[0m\u001b[0m\n",
      "\u001b[0;31mNameError\u001b[0m: name 'world_map_actual' is not defined"
     ]
    }
   ],
   "source": []
  },
  {
   "cell_type": "markdown",
   "metadata": {},
   "source": [
    "---"
   ]
  }
 ],
 "metadata": {
  "anaconda-cloud": {},
  "kernelspec": {
   "display_name": "Python [Root]",
   "language": "python",
   "name": "Python [Root]"
  },
  "language_info": {
   "codemirror_mode": {
    "name": "ipython",
    "version": 2
   },
   "file_extension": ".py",
   "mimetype": "text/x-python",
   "name": "python",
   "nbconvert_exporter": "python",
   "pygments_lexer": "ipython2",
   "version": "2.7.12"
  }
 },
 "nbformat": 4,
 "nbformat_minor": 0
}
