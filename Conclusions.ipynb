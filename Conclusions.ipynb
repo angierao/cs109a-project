{
 "cells": [
  {
   "cell_type": "markdown",
   "metadata": {},
   "source": [
    "---\n",
    "# Conclusions\n",
    "---"
   ]
  },
  {
   "cell_type": "markdown",
   "metadata": {},
   "source": [
    "Through our exploration of the relationship of diets and disease mortality rates, we feel that we have illuminated some of the associations between specific foods and diabetes and cardiovascular disease mortality rates across 156 countries worldwide, which we show in the bubble charts in our Overview tab. We have also concluded that there is no valuable association between diet and cancer mortality rates. The results that we have obtained and the corresponding conclusions that we drew are all based solely on the data that we used from the World Health Organization (WHO) and the Food and Agriculture Organization of the UN (FAO). "
   ]
  },
  {
   "cell_type": "markdown",
   "metadata": {},
   "source": [
    " - Using this type of data to predict mortality rates of diseases in future years is difficult, but we were able to use lasso and ridge regression to varying degrees of success\n",
    " - The data analyzed in this study can have observational usage: by looking at the magnitude and sign of coefficients, we can see which foods might contribute positively or negatively to a particular disease mortality rate.\n",
    " - Is there a global superfood? The results suggest no, since any individual crop/livestock predictor is not very strongly correlated to the disease mortality rates and magnitudes are not that great.\n",
    " - What about our hypotheses? Vegetables did not show up as a predictor that prevents disease, contrary to what we predicted. Fish liver oil, a common nutritional supplement, however, did show up as a predictor that decreases the risk of disease, which we hypothesized. We also predicted that sugars would show up as factor that causes disease, which it did. \n"
   ]
  },
  {
   "cell_type": "markdown",
   "metadata": {},
   "source": [
    "## Next Steps\n",
    "---\n",
    "Although the scope of this project was limited to simply analyzing the relationship between diets in various countries and corresponding disease mortality rates, in the future, we hope to explore other nuances in age-old problem of determining what specifically causes disease. We are especially interested in finding specific factors that cause cancer, as we concluded that diet was not a significant factor. We are planning to incorporate other factors such as exercise, which we believe should also have a big impact on disease mortality rates. In addition to factors that we believe simply cause disease, we are also considering other factors in countries that might be highly correlated with disease mortality rates. For example, a country's ability to provide medical care surely influences disease mortality rates. We might quantify this by looking at a country's GDP, which is positively correlated with their level of medical care.\n"
   ]
  },
  {
   "cell_type": "code",
   "execution_count": null,
   "metadata": {
    "collapsed": true
   },
   "outputs": [],
   "source": []
  }
 ],
 "metadata": {
  "anaconda-cloud": {},
  "kernelspec": {
   "display_name": "Python [Root]",
   "language": "python",
   "name": "Python [Root]"
  },
  "language_info": {
   "codemirror_mode": {
    "name": "ipython",
    "version": 2
   },
   "file_extension": ".py",
   "mimetype": "text/x-python",
   "name": "python",
   "nbconvert_exporter": "python",
   "pygments_lexer": "ipython2",
   "version": "2.7.12"
  }
 },
 "nbformat": 4,
 "nbformat_minor": 0
}
