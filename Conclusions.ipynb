{
 "cells": [
  {
   "cell_type": "markdown",
   "metadata": {},
   "source": [
    "---\n",
    "<h1 align=\"center\"> Conclusions </h1>\n",
    "<br>\n",
    "The conclusions chapter summarizes the results from our analysis. We tested multiple models (null, simple, and advanced) to attempt to identify correlations between a country's nutritional intake and disease mortality rate. The results showed varying degrees of success as discussed below."
   ]
  },
  {
   "cell_type": "markdown",
   "metadata": {},
   "source": [
    "---"
   ]
  },
  {
   "cell_type": "markdown",
   "metadata": {},
   "source": [
    "From the Regression Models chapter, these were the $R^2$ values from the best models:\n",
    "\n",
    "| |Cardio   |  Diabetes | Cancer  |\n",
    "|-----|---|---|---|\n",
    "|$r^2$ | .807 |.759| -6.873 |"
   ]
  },
  {
   "cell_type": "markdown",
   "metadata": {},
   "source": [
    "Through our exploration of the relationship of diets and disease mortality rates, we feel that we have illuminated some of the associations between specific foods and diabetes and cardiovascular disease mortality rates across 156 countries worldwide, which we show in the bubble charts in our Overview tab. We have also concluded that there is no valuable association between diet and cancer mortality rates. The results that we have obtained and the corresponding conclusions that we drew are all based solely on the data that we used from the World Health Organization (WHO) and the Food and Agriculture Organization of the UN (FAO). "
   ]
  },
  {
   "cell_type": "markdown",
   "metadata": {},
   "source": [
    " - Using this type of data to predict mortality rates of diseases in future years is difficult, but we were able to use lasso and ridge regression to varying degrees of success. Lasso and ridge allow us to remove high-correlated variables or uninformative variables to have a more accurate predictor set.\n",
    " - The data analyzed in this study can have observational usage: by looking at the magnitude and sign of coefficients, we can see which foods might contribute positively or negatively to a particular disease mortality rate.\n",
    " - Is there a global superfood? The results suggest no, since any individual crop/livestock predictor is not very strongly correlated to the disease mortality rates and magnitudes are not that great.\n",
    " - What about our hypotheses? \n",
    "Does eating more vegetables help prevent the onset of a non-communicable disease? Our research suggests that vegetables are not very informative as vegetables did not show up as a top predictor that prevents disease, contrary to what we predicted. Fish liver oil, a common nutritional supplement, however, did show up as a predictor that decreases the risk of disease, which we hypothesized. We also predicted that sugars would show up as factor that causes disease, which it did. Thus, several popular hypothesizes were proven to have merit but other commonly accepted theories were unable to be proven from our chosen datasets. "
   ]
  },
  {
   "cell_type": "markdown",
   "metadata": {},
   "source": [
    "## Next Steps\n",
    "---\n",
    "Although the scope of this project was limited to simply analyzing the relationship between diets in various countries and corresponding disease mortality rates, in the future, we hope to explore other nuances in age-old problem of determining what specifically causes disease. We are especially interested in finding specific factors that cause cancer, as we concluded that diet was not a significant factor. We are planning to incorporate other factors such as exercise, which we believe should also have a big impact on disease mortality rates. In addition to factors that we believe simply cause disease, we are also considering other factors in countries that might be highly correlated with disease mortality rates. For example, a country's ability to provide medical care surely influences disease mortality rates. We might quantify this by looking at a country's GDP, which is positively correlated with their level of medical care. Economics of a country are valuable since the data provided is not disease incidence rate but disease mortality rate. Better care and treatment options can alievate pain or stop the progression of the disease. "
   ]
  },
  {
   "cell_type": "code",
   "execution_count": null,
   "metadata": {
    "collapsed": true
   },
   "outputs": [],
   "source": []
  }
 ],
 "metadata": {
  "anaconda-cloud": {},
  "kernelspec": {
   "display_name": "Python [Root]",
   "language": "python",
   "name": "Python [Root]"
  },
  "language_info": {
   "codemirror_mode": {
    "name": "ipython",
    "version": 2
   },
   "file_extension": ".py",
   "mimetype": "text/x-python",
   "name": "python",
   "nbconvert_exporter": "python",
   "pygments_lexer": "ipython2",
   "version": "2.7.12"
  }
 },
 "nbformat": 4,
 "nbformat_minor": 0
}
