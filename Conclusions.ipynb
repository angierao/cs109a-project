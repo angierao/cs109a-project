{
 "cells": [
  {
   "cell_type": "markdown",
   "metadata": {},
   "source": [
    "---\n",
    "# Conclusions\n",
    "---"
   ]
  },
  {
   "cell_type": "markdown",
   "metadata": {},
   "source": [
    " - Using this type of data to predict mortality rates of diseases in future years is difficult, but we were able to use lasso and ridge regression to varying degrees of success\n",
    " - The data analyzed in this study can have observational usage: by looking at the magnitude and sign of coefficients, we can see which foods might contribute positively or negatively to a particular disease mortality rate.\n",
    " - Is there a global superfood? The results suggest no, since any individual crop/livestock predictor is not very strongly correlated to the disease mortality rates and magnitudes are not that great.\n"
   ]
  },
  {
   "cell_type": "markdown",
   "metadata": {},
   "source": [
    "## Next Steps\n",
    "---\n",
    "\n",
    "Try implementing information about a country's GDP (better health care -> lower mortality rate from a given disease), exercise rates, or other information about accessibility of health care or lifestyle\n",
    "\n"
   ]
  },
  {
   "cell_type": "code",
   "execution_count": null,
   "metadata": {
    "collapsed": true
   },
   "outputs": [],
   "source": []
  }
 ],
 "metadata": {
  "anaconda-cloud": {},
  "kernelspec": {
   "display_name": "Python [Root]",
   "language": "python",
   "name": "Python [Root]"
  },
  "language_info": {
   "codemirror_mode": {
    "name": "ipython",
    "version": 2
   },
   "file_extension": ".py",
   "mimetype": "text/x-python",
   "name": "python",
   "nbconvert_exporter": "python",
   "pygments_lexer": "ipython2",
   "version": "2.7.12"
  }
 },
 "nbformat": 4,
 "nbformat_minor": 0
}
